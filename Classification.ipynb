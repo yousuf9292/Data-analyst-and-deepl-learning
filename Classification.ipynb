{
 "cells": [
  {
   "cell_type": "code",
   "execution_count": 1,
   "metadata": {},
   "outputs": [],
   "source": [
    "import pandas as pd"
   ]
  },
  {
   "cell_type": "code",
   "execution_count": 2,
   "metadata": {},
   "outputs": [],
   "source": [
    "df=pd.read_csv('C:/Users/yousuf/Downloads/indian-liver-patient-records/indian_liver_patient.csv')"
   ]
  },
  {
   "cell_type": "code",
   "execution_count": 3,
   "metadata": {},
   "outputs": [
    {
     "data": {
      "text/html": [
       "<div>\n",
       "<style scoped>\n",
       "    .dataframe tbody tr th:only-of-type {\n",
       "        vertical-align: middle;\n",
       "    }\n",
       "\n",
       "    .dataframe tbody tr th {\n",
       "        vertical-align: top;\n",
       "    }\n",
       "\n",
       "    .dataframe thead th {\n",
       "        text-align: right;\n",
       "    }\n",
       "</style>\n",
       "<table border=\"1\" class=\"dataframe\">\n",
       "  <thead>\n",
       "    <tr style=\"text-align: right;\">\n",
       "      <th></th>\n",
       "      <th>Age</th>\n",
       "      <th>Gender</th>\n",
       "      <th>Total_Bilirubin</th>\n",
       "      <th>Direct_Bilirubin</th>\n",
       "      <th>Alkaline_Phosphotase</th>\n",
       "      <th>Alamine_Aminotransferase</th>\n",
       "      <th>Aspartate_Aminotransferase</th>\n",
       "      <th>Total_Protiens</th>\n",
       "      <th>Albumin</th>\n",
       "      <th>Albumin_and_Globulin_Ratio</th>\n",
       "      <th>Dataset</th>\n",
       "    </tr>\n",
       "  </thead>\n",
       "  <tbody>\n",
       "    <tr>\n",
       "      <td>0</td>\n",
       "      <td>65</td>\n",
       "      <td>Female</td>\n",
       "      <td>0.7</td>\n",
       "      <td>0.1</td>\n",
       "      <td>187</td>\n",
       "      <td>16</td>\n",
       "      <td>18</td>\n",
       "      <td>6.8</td>\n",
       "      <td>3.3</td>\n",
       "      <td>0.90</td>\n",
       "      <td>1</td>\n",
       "    </tr>\n",
       "    <tr>\n",
       "      <td>1</td>\n",
       "      <td>62</td>\n",
       "      <td>Male</td>\n",
       "      <td>10.9</td>\n",
       "      <td>5.5</td>\n",
       "      <td>699</td>\n",
       "      <td>64</td>\n",
       "      <td>100</td>\n",
       "      <td>7.5</td>\n",
       "      <td>3.2</td>\n",
       "      <td>0.74</td>\n",
       "      <td>1</td>\n",
       "    </tr>\n",
       "    <tr>\n",
       "      <td>2</td>\n",
       "      <td>62</td>\n",
       "      <td>Male</td>\n",
       "      <td>7.3</td>\n",
       "      <td>4.1</td>\n",
       "      <td>490</td>\n",
       "      <td>60</td>\n",
       "      <td>68</td>\n",
       "      <td>7.0</td>\n",
       "      <td>3.3</td>\n",
       "      <td>0.89</td>\n",
       "      <td>1</td>\n",
       "    </tr>\n",
       "    <tr>\n",
       "      <td>3</td>\n",
       "      <td>58</td>\n",
       "      <td>Male</td>\n",
       "      <td>1.0</td>\n",
       "      <td>0.4</td>\n",
       "      <td>182</td>\n",
       "      <td>14</td>\n",
       "      <td>20</td>\n",
       "      <td>6.8</td>\n",
       "      <td>3.4</td>\n",
       "      <td>1.00</td>\n",
       "      <td>1</td>\n",
       "    </tr>\n",
       "    <tr>\n",
       "      <td>4</td>\n",
       "      <td>72</td>\n",
       "      <td>Male</td>\n",
       "      <td>3.9</td>\n",
       "      <td>2.0</td>\n",
       "      <td>195</td>\n",
       "      <td>27</td>\n",
       "      <td>59</td>\n",
       "      <td>7.3</td>\n",
       "      <td>2.4</td>\n",
       "      <td>0.40</td>\n",
       "      <td>1</td>\n",
       "    </tr>\n",
       "  </tbody>\n",
       "</table>\n",
       "</div>"
      ],
      "text/plain": [
       "   Age  Gender  Total_Bilirubin  Direct_Bilirubin  Alkaline_Phosphotase  \\\n",
       "0   65  Female              0.7               0.1                   187   \n",
       "1   62    Male             10.9               5.5                   699   \n",
       "2   62    Male              7.3               4.1                   490   \n",
       "3   58    Male              1.0               0.4                   182   \n",
       "4   72    Male              3.9               2.0                   195   \n",
       "\n",
       "   Alamine_Aminotransferase  Aspartate_Aminotransferase  Total_Protiens  \\\n",
       "0                        16                          18             6.8   \n",
       "1                        64                         100             7.5   \n",
       "2                        60                          68             7.0   \n",
       "3                        14                          20             6.8   \n",
       "4                        27                          59             7.3   \n",
       "\n",
       "   Albumin  Albumin_and_Globulin_Ratio  Dataset  \n",
       "0      3.3                        0.90        1  \n",
       "1      3.2                        0.74        1  \n",
       "2      3.3                        0.89        1  \n",
       "3      3.4                        1.00        1  \n",
       "4      2.4                        0.40        1  "
      ]
     },
     "execution_count": 3,
     "metadata": {},
     "output_type": "execute_result"
    }
   ],
   "source": [
    "df.head()"
   ]
  },
  {
   "cell_type": "code",
   "execution_count": 4,
   "metadata": {},
   "outputs": [
    {
     "data": {
      "text/plain": [
       "Age                             int64\n",
       "Gender                         object\n",
       "Total_Bilirubin               float64\n",
       "Direct_Bilirubin              float64\n",
       "Alkaline_Phosphotase            int64\n",
       "Alamine_Aminotransferase        int64\n",
       "Aspartate_Aminotransferase      int64\n",
       "Total_Protiens                float64\n",
       "Albumin                       float64\n",
       "Albumin_and_Globulin_Ratio    float64\n",
       "Dataset                         int64\n",
       "dtype: object"
      ]
     },
     "execution_count": 4,
     "metadata": {},
     "output_type": "execute_result"
    }
   ],
   "source": [
    "df.dtypes"
   ]
  },
  {
   "cell_type": "code",
   "execution_count": 5,
   "metadata": {},
   "outputs": [
    {
     "data": {
      "text/plain": [
       "Age                           0\n",
       "Gender                        0\n",
       "Total_Bilirubin               0\n",
       "Direct_Bilirubin              0\n",
       "Alkaline_Phosphotase          0\n",
       "Alamine_Aminotransferase      0\n",
       "Aspartate_Aminotransferase    0\n",
       "Total_Protiens                0\n",
       "Albumin                       0\n",
       "Albumin_and_Globulin_Ratio    4\n",
       "Dataset                       0\n",
       "dtype: int64"
      ]
     },
     "execution_count": 5,
     "metadata": {},
     "output_type": "execute_result"
    }
   ],
   "source": [
    "df.isna().sum()"
   ]
  },
  {
   "cell_type": "code",
   "execution_count": 6,
   "metadata": {},
   "outputs": [],
   "source": [
    "df.dropna(inplace=True)"
   ]
  },
  {
   "cell_type": "code",
   "execution_count": 7,
   "metadata": {},
   "outputs": [
    {
     "data": {
      "text/plain": [
       "Age                           0\n",
       "Gender                        0\n",
       "Total_Bilirubin               0\n",
       "Direct_Bilirubin              0\n",
       "Alkaline_Phosphotase          0\n",
       "Alamine_Aminotransferase      0\n",
       "Aspartate_Aminotransferase    0\n",
       "Total_Protiens                0\n",
       "Albumin                       0\n",
       "Albumin_and_Globulin_Ratio    0\n",
       "Dataset                       0\n",
       "dtype: int64"
      ]
     },
     "execution_count": 7,
     "metadata": {},
     "output_type": "execute_result"
    }
   ],
   "source": [
    "df.isna().sum()"
   ]
  },
  {
   "cell_type": "code",
   "execution_count": 8,
   "metadata": {},
   "outputs": [],
   "source": [
    "df.Gender=df['Gender'].map({'Female':0,'Male':1})"
   ]
  },
  {
   "cell_type": "code",
   "execution_count": 9,
   "metadata": {},
   "outputs": [],
   "source": [
    "df.Dataset=df['Dataset'].map({1:0,2:1})"
   ]
  },
  {
   "cell_type": "code",
   "execution_count": 10,
   "metadata": {},
   "outputs": [
    {
     "data": {
      "text/plain": [
       "Age                             int64\n",
       "Gender                          int64\n",
       "Total_Bilirubin               float64\n",
       "Direct_Bilirubin              float64\n",
       "Alkaline_Phosphotase            int64\n",
       "Alamine_Aminotransferase        int64\n",
       "Aspartate_Aminotransferase      int64\n",
       "Total_Protiens                float64\n",
       "Albumin                       float64\n",
       "Albumin_and_Globulin_Ratio    float64\n",
       "Dataset                         int64\n",
       "dtype: object"
      ]
     },
     "execution_count": 10,
     "metadata": {},
     "output_type": "execute_result"
    }
   ],
   "source": [
    "df.dtypes"
   ]
  },
  {
   "cell_type": "code",
   "execution_count": 11,
   "metadata": {},
   "outputs": [
    {
     "data": {
      "text/plain": [
       "<matplotlib.axes._subplots.AxesSubplot at 0x145ef2c4508>"
      ]
     },
     "execution_count": 11,
     "metadata": {},
     "output_type": "execute_result"
    }
   ],
   "source": [
    "df.Gender.value_counts().plot(kind='bar')"
   ]
  },
  {
   "cell_type": "code",
   "execution_count": 12,
   "metadata": {},
   "outputs": [
    {
     "data": {
      "text/plain": [
       "83"
      ]
     },
     "execution_count": 12,
     "metadata": {},
     "output_type": "execute_result"
    }
   ],
   "source": [
    "df.loc[(df.Age>40)&(df.Dataset==1),'Dataset'].sum()"
   ]
  },
  {
   "cell_type": "code",
   "execution_count": 13,
   "metadata": {},
   "outputs": [
    {
     "data": {
      "text/plain": [
       "<matplotlib.axes._subplots.AxesSubplot at 0x145ef5e5cc8>"
      ]
     },
     "execution_count": 13,
     "metadata": {},
     "output_type": "execute_result"
    },
    {
     "data": {
      "image/png": "[encoded data removed]",
      "text/plain": [
       "<Figure size 432x288 with 1 Axes>"
      ]
     },
     "metadata": {
      "needs_background": "light"
     },
     "output_type": "display_data"
    }
   ],
   "source": [
    "df.Dataset.value_counts().plot(kind='bar')"
   ]
  },
  {
   "cell_type": "code",
   "execution_count": 14,
   "metadata": {},
   "outputs": [
    {
     "data": {
      "text/plain": [
       "<matplotlib.axes._subplots.AxesSubplot at 0x145ef78f888>"
      ]
     },
     "execution_count": 14,
     "metadata": {},
     "output_type": "execute_result"
    },
    {
     "data": {
      "image/png": "[encoded data removed]",
      "text/plain": [
       "<Figure size 432x288 with 1 Axes>"
      ]
     },
     "metadata": {
      "needs_background": "light"
     },
     "output_type": "display_data"
    }
   ],
   "source": [
    "df.groupby(df.Alamine_Aminotransferase)['Dataset'].value_counts().plot()"
   ]
  },
  {
   "cell_type": "code",
   "execution_count": 15,
   "metadata": {},
   "outputs": [],
   "source": [
    "X=df.drop('Dataset',axis=1)"
   ]
  },
  {
   "cell_type": "code",
   "execution_count": 16,
   "metadata": {},
   "outputs": [],
   "source": [
    "y=df.iloc[:,-1]"
   ]
  },
  {
   "cell_type": "code",
   "execution_count": 17,
   "metadata": {},
   "outputs": [
    {
     "name": "stderr",
     "output_type": "stream",
     "text": [
      "Using TensorFlow backend.\n"
     ]
    }
   ],
   "source": [
    "from keras.utils import normalize,to_categorical"
   ]
  },
  {
   "cell_type": "code",
   "execution_count": 18,
   "metadata": {},
   "outputs": [],
   "source": [
    "X=normalize(X)"
   ]
  },
  {
   "cell_type": "code",
   "execution_count": 19,
   "metadata": {},
   "outputs": [],
   "source": [
    "y=to_categorical(y)"
   ]
  },
  {
   "cell_type": "code",
   "execution_count": 20,
   "metadata": {},
   "outputs": [
    {
     "data": {
      "text/plain": [
       "array([[1., 0.],\n",
       "       [1., 0.],\n",
       "       [1., 0.],\n",
       "       ...,\n",
       "       [1., 0.],\n",
       "       [1., 0.],\n",
       "       [0., 1.]], dtype=float32)"
      ]
     },
     "execution_count": 20,
     "metadata": {},
     "output_type": "execute_result"
    }
   ],
   "source": [
    "y"
   ]
  },
  {
   "cell_type": "code",
   "execution_count": 21,
   "metadata": {},
   "outputs": [],
   "source": [
    "from keras.models import Sequential\n",
    "from keras.layers import Dense"
   ]
  },
  {
   "cell_type": "code",
   "execution_count": 22,
   "metadata": {},
   "outputs": [],
   "source": [
    "from sklearn.model_selection import train_test_split"
   ]
  },
  {
   "cell_type": "code",
   "execution_count": 23,
   "metadata": {},
   "outputs": [],
   "source": [
    " X_train, X_test, y_train, y_test=train_test_split(X,y,train_size=0.9,stratify=y)"
   ]
  },
  {
   "cell_type": "code",
   "execution_count": 24,
   "metadata": {},
   "outputs": [
    {
     "data": {
      "text/plain": [
       "(521, 10)"
      ]
     },
     "execution_count": 24,
     "metadata": {},
     "output_type": "execute_result"
    }
   ],
   "source": [
    "X_train.shape"
   ]
  },
  {
   "cell_type": "code",
   "execution_count": 35,
   "metadata": {},
   "outputs": [],
   "source": [
    "model= Sequential()"
   ]
  },
  {
   "cell_type": "code",
   "execution_count": 36,
   "metadata": {},
   "outputs": [],
   "source": [
    "model.add(Dense(10,activation='relu',input_shape=(10,)))\n",
    "model.add(Dense(120,activation='relu'))\n",
    "model.add(Dense(120,activation='relu'))\n",
    "model.add(Dense(2,activation='softmax'))"
   ]
  },
  {
   "cell_type": "code",
   "execution_count": 37,
   "metadata": {},
   "outputs": [
    {
     "name": "stdout",
     "output_type": "stream",
     "text": [
      "Model: \"sequential_3\"\n",
      "_________________________________________________________________\n",
      "Layer (type)                 Output Shape              Param #   \n",
      "=================================================================\n",
      "dense_9 (Dense)              (None, 10)                110       \n",
      "_________________________________________________________________\n",
      "dense_10 (Dense)             (None, 120)               1320      \n",
      "_________________________________________________________________\n",
      "dense_11 (Dense)             (None, 120)               14520     \n",
      "_________________________________________________________________\n",
      "dense_12 (Dense)             (None, 2)                 242       \n",
      "=================================================================\n",
      "Total params: 16,192\n",
      "Trainable params: 16,192\n",
      "Non-trainable params: 0\n",
      "_________________________________________________________________\n"
     ]
    }
   ],
   "source": [
    "model.summary()"
   ]
  },
  {
   "cell_type": "code",
   "execution_count": 38,
   "metadata": {},
   "outputs": [],
   "source": [
    "model.compile(optimizer='adam',loss='categorical_crossentropy',metrics=['accuracy'])"
   ]
  },
  {
   "cell_type": "code",
   "execution_count": 39,
   "metadata": {},
   "outputs": [
    {
     "name": "stdout",
     "output_type": "stream",
     "text": [
      "Epoch 1/500\n",
      "521/521 [==============================] - 0s 220us/step - loss: 0.6142 - accuracy: 0.7159\n",
      "Epoch 2/500\n",
      "521/521 [==============================] - 0s 35us/step - loss: 0.5985 - accuracy: 0.7159\n",
      "Epoch 3/500\n",
      "521/521 [==============================] - 0s 36us/step - loss: 0.5979 - accuracy: 0.7159\n",
      "Epoch 4/500\n",
      "521/521 [==============================] - 0s 32us/step - loss: 0.5904 - accuracy: 0.7159\n",
      "Epoch 5/500\n",
      "521/521 [==============================] - 0s 36us/step - loss: 0.5869 - accuracy: 0.7159\n",
      "Epoch 6/500\n",
      "521/521 [==============================] - 0s 40us/step - loss: 0.5791 - accuracy: 0.7159\n",
      "Epoch 7/500\n",
      "521/521 [==============================] - 0s 35us/step - loss: 0.5741 - accuracy: 0.7159\n",
      "Epoch 8/500\n",
      "521/521 [==============================] - 0s 31us/step - loss: 0.5680 - accuracy: 0.7159\n",
      "Epoch 9/500\n",
      "521/521 [==============================] - 0s 35us/step - loss: 0.5687 - accuracy: 0.7159\n",
      "Epoch 10/500\n",
      "521/521 [==============================] - 0s 38us/step - loss: 0.5639 - accuracy: 0.7159\n",
      "Epoch 11/500\n",
      "521/521 [==============================] - 0s 35us/step - loss: 0.5603 - accuracy: 0.7159\n",
      "Epoch 12/500\n",
      "521/521 [==============================] - 0s 35us/step - loss: 0.5651 - accuracy: 0.7159\n",
      "Epoch 13/500\n",
      "521/521 [==============================] - 0s 36us/step - loss: 0.5583 - accuracy: 0.7159\n",
      "Epoch 14/500\n",
      "521/521 [==============================] - 0s 36us/step - loss: 0.5578 - accuracy: 0.7159\n",
      "Epoch 15/500\n",
      "521/521 [==============================] - 0s 33us/step - loss: 0.5565 - accuracy: 0.7159\n",
      "Epoch 16/500\n",
      "521/521 [==============================] - 0s 35us/step - loss: 0.5640 - accuracy: 0.7159\n",
      "Epoch 17/500\n",
      "521/521 [==============================] - 0s 33us/step - loss: 0.5591 - accuracy: 0.7159\n",
      "Epoch 18/500\n",
      "521/521 [==============================] - 0s 35us/step - loss: 0.5590 - accuracy: 0.7159\n",
      "Epoch 19/500\n",
      "521/521 [==============================] - 0s 38us/step - loss: 0.5567 - accuracy: 0.7159\n",
      "Epoch 20/500\n",
      "521/521 [==============================] - 0s 35us/step - loss: 0.5527 - accuracy: 0.7159\n",
      "Epoch 21/500\n",
      "521/521 [==============================] - 0s 35us/step - loss: 0.5520 - accuracy: 0.7159\n",
      "Epoch 22/500\n",
      "521/521 [==============================] - 0s 33us/step - loss: 0.5525 - accuracy: 0.7159\n",
      "Epoch 23/500\n",
      "521/521 [==============================] - 0s 35us/step - loss: 0.5549 - accuracy: 0.7159\n",
      "Epoch 24/500\n",
      "521/521 [==============================] - 0s 40us/step - loss: 0.5504 - accuracy: 0.7159\n",
      "Epoch 25/500\n",
      "521/521 [==============================] - 0s 35us/step - loss: 0.5497 - accuracy: 0.7159\n",
      "Epoch 26/500\n",
      "521/521 [==============================] - 0s 33us/step - loss: 0.5512 - accuracy: 0.7159\n",
      "Epoch 27/500\n",
      "521/521 [==============================] - 0s 33us/step - loss: 0.5485 - accuracy: 0.7159\n",
      "Epoch 28/500\n",
      "521/521 [==============================] - 0s 36us/step - loss: 0.5486 - accuracy: 0.7159\n",
      "Epoch 29/500\n",
      "521/521 [==============================] - 0s 40us/step - loss: 0.5501 - accuracy: 0.7159\n",
      "Epoch 30/500\n",
      "521/521 [==============================] - 0s 35us/step - loss: 0.5511 - accuracy: 0.7159\n",
      "Epoch 31/500\n",
      "521/521 [==============================] - 0s 36us/step - loss: 0.5469 - accuracy: 0.7159\n",
      "Epoch 32/500\n",
      "521/521 [==============================] - 0s 31us/step - loss: 0.5461 - accuracy: 0.7159\n",
      "Epoch 33/500\n",
      "521/521 [==============================] - 0s 38us/step - loss: 0.5446 - accuracy: 0.7159\n",
      "Epoch 34/500\n",
      "521/521 [==============================] - 0s 52us/step - loss: 0.5485 - accuracy: 0.7159\n",
      "Epoch 35/500\n",
      "521/521 [==============================] - 0s 33us/step - loss: 0.5425 - accuracy: 0.7159\n",
      "Epoch 36/500\n",
      "521/521 [==============================] - 0s 33us/step - loss: 0.5460 - accuracy: 0.7159\n",
      "Epoch 37/500\n",
      "521/521 [==============================] - 0s 40us/step - loss: 0.5441 - accuracy: 0.7159\n",
      "Epoch 38/500\n",
      "521/521 [==============================] - 0s 35us/step - loss: 0.5433 - accuracy: 0.7159\n",
      "Epoch 39/500\n",
      "521/521 [==============================] - 0s 38us/step - loss: 0.5429 - accuracy: 0.7159\n",
      "Epoch 40/500\n",
      "521/521 [==============================] - 0s 35us/step - loss: 0.5462 - accuracy: 0.7140\n",
      "Epoch 41/500\n",
      "521/521 [==============================] - 0s 42us/step - loss: 0.5449 - accuracy: 0.7159\n",
      "Epoch 42/500\n",
      "521/521 [==============================] - 0s 40us/step - loss: 0.5394 - accuracy: 0.7159\n",
      "Epoch 43/500\n",
      "521/521 [==============================] - 0s 44us/step - loss: 0.5367 - accuracy: 0.7159\n",
      "Epoch 44/500\n",
      "521/521 [==============================] - 0s 48us/step - loss: 0.5390 - accuracy: 0.7159\n",
      "Epoch 45/500\n",
      "521/521 [==============================] - 0s 38us/step - loss: 0.5424 - accuracy: 0.7159\n",
      "Epoch 46/500\n",
      "521/521 [==============================] - 0s 36us/step - loss: 0.5382 - accuracy: 0.7159\n",
      "Epoch 47/500\n",
      "521/521 [==============================] - 0s 33us/step - loss: 0.5355 - accuracy: 0.7159\n",
      "Epoch 48/500\n",
      "521/521 [==============================] - 0s 44us/step - loss: 0.5339 - accuracy: 0.7159\n",
      "Epoch 49/500\n",
      "521/521 [==============================] - 0s 29us/step - loss: 0.5321 - accuracy: 0.7159\n",
      "Epoch 50/500\n",
      "521/521 [==============================] - 0s 35us/step - loss: 0.5365 - accuracy: 0.7159\n",
      "Epoch 51/500\n",
      "521/521 [==============================] - 0s 36us/step - loss: 0.5298 - accuracy: 0.7159\n",
      "Epoch 52/500\n",
      "521/521 [==============================] - 0s 36us/step - loss: 0.5304 - accuracy: 0.7159\n",
      "Epoch 53/500\n",
      "521/521 [==============================] - 0s 38us/step - loss: 0.5371 - accuracy: 0.7198\n",
      "Epoch 54/500\n",
      "521/521 [==============================] - 0s 38us/step - loss: 0.5251 - accuracy: 0.7159\n",
      "Epoch 55/500\n",
      "521/521 [==============================] - 0s 33us/step - loss: 0.5281 - accuracy: 0.7159\n",
      "Epoch 56/500\n",
      "521/521 [==============================] - 0s 33us/step - loss: 0.5250 - accuracy: 0.7159\n",
      "Epoch 57/500\n",
      "521/521 [==============================] - 0s 33us/step - loss: 0.5242 - accuracy: 0.7159\n",
      "Epoch 58/500\n",
      "521/521 [==============================] - 0s 36us/step - loss: 0.5274 - accuracy: 0.7159\n",
      "Epoch 59/500\n",
      "521/521 [==============================] - 0s 38us/step - loss: 0.5224 - accuracy: 0.7159\n",
      "Epoch 60/500\n",
      "521/521 [==============================] - 0s 35us/step - loss: 0.5206 - accuracy: 0.7179\n",
      "Epoch 61/500\n",
      "521/521 [==============================] - 0s 35us/step - loss: 0.5181 - accuracy: 0.7159\n",
      "Epoch 62/500\n",
      "521/521 [==============================] - 0s 36us/step - loss: 0.5163 - accuracy: 0.7217\n",
      "Epoch 63/500\n",
      "521/521 [==============================] - 0s 35us/step - loss: 0.5192 - accuracy: 0.7198\n",
      "Epoch 64/500\n",
      "521/521 [==============================] - 0s 35us/step - loss: 0.5175 - accuracy: 0.7025\n",
      "Epoch 65/500\n",
      "521/521 [==============================] - 0s 31us/step - loss: 0.5188 - accuracy: 0.7179\n",
      "Epoch 66/500\n",
      "521/521 [==============================] - 0s 38us/step - loss: 0.5146 - accuracy: 0.7236\n",
      "Epoch 67/500\n",
      "521/521 [==============================] - 0s 36us/step - loss: 0.5154 - accuracy: 0.7236\n",
      "Epoch 68/500\n",
      "521/521 [==============================] - 0s 35us/step - loss: 0.5165 - accuracy: 0.7159\n",
      "Epoch 69/500\n",
      "521/521 [==============================] - 0s 36us/step - loss: 0.5113 - accuracy: 0.7217\n",
      "Epoch 70/500\n",
      "521/521 [==============================] - 0s 38us/step - loss: 0.5085 - accuracy: 0.7217\n",
      "Epoch 71/500\n",
      "521/521 [==============================] - 0s 36us/step - loss: 0.5131 - accuracy: 0.7255\n",
      "Epoch 72/500\n",
      "521/521 [==============================] - 0s 36us/step - loss: 0.5085 - accuracy: 0.7236\n",
      "Epoch 73/500\n",
      "521/521 [==============================] - 0s 36us/step - loss: 0.5117 - accuracy: 0.7102\n",
      "Epoch 74/500\n",
      "521/521 [==============================] - 0s 36us/step - loss: 0.5081 - accuracy: 0.7255\n",
      "Epoch 75/500\n",
      "521/521 [==============================] - 0s 36us/step - loss: 0.5068 - accuracy: 0.7428\n",
      "Epoch 76/500\n",
      "521/521 [==============================] - 0s 33us/step - loss: 0.5117 - accuracy: 0.7294\n",
      "Epoch 77/500\n",
      "521/521 [==============================] - 0s 33us/step - loss: 0.5129 - accuracy: 0.7198\n",
      "Epoch 78/500\n",
      "521/521 [==============================] - 0s 33us/step - loss: 0.5073 - accuracy: 0.7236\n",
      "Epoch 79/500\n",
      "521/521 [==============================] - 0s 31us/step - loss: 0.5142 - accuracy: 0.7409\n",
      "Epoch 80/500\n"
     ]
    },
    {
     "name": "stdout",
     "output_type": "stream",
     "text": [
      "521/521 [==============================] - 0s 33us/step - loss: 0.5163 - accuracy: 0.7044\n",
      "Epoch 81/500\n",
      "521/521 [==============================] - 0s 31us/step - loss: 0.5127 - accuracy: 0.7351\n",
      "Epoch 82/500\n",
      "521/521 [==============================] - 0s 35us/step - loss: 0.5092 - accuracy: 0.7140\n",
      "Epoch 83/500\n",
      "521/521 [==============================] - 0s 33us/step - loss: 0.5018 - accuracy: 0.7332\n",
      "Epoch 84/500\n",
      "521/521 [==============================] - 0s 31us/step - loss: 0.5012 - accuracy: 0.7332\n",
      "Epoch 85/500\n",
      "521/521 [==============================] - 0s 33us/step - loss: 0.5039 - accuracy: 0.7179\n",
      "Epoch 86/500\n",
      "521/521 [==============================] - 0s 31us/step - loss: 0.5132 - accuracy: 0.7198\n",
      "Epoch 87/500\n",
      "521/521 [==============================] - 0s 31us/step - loss: 0.5091 - accuracy: 0.7121\n",
      "Epoch 88/500\n",
      "521/521 [==============================] - 0s 31us/step - loss: 0.5077 - accuracy: 0.7390\n",
      "Epoch 89/500\n",
      "521/521 [==============================] - 0s 31us/step - loss: 0.5042 - accuracy: 0.7179\n",
      "Epoch 90/500\n",
      "521/521 [==============================] - 0s 33us/step - loss: 0.5263 - accuracy: 0.6987\n",
      "Epoch 91/500\n",
      "521/521 [==============================] - 0s 36us/step - loss: 0.5111 - accuracy: 0.7102\n",
      "Epoch 92/500\n",
      "521/521 [==============================] - 0s 38us/step - loss: 0.5001 - accuracy: 0.7332\n",
      "Epoch 93/500\n",
      "521/521 [==============================] - 0s 35us/step - loss: 0.5033 - accuracy: 0.7294\n",
      "Epoch 94/500\n",
      "521/521 [==============================] - 0s 48us/step - loss: 0.4970 - accuracy: 0.7409\n",
      "Epoch 95/500\n",
      "521/521 [==============================] - 0s 36us/step - loss: 0.5000 - accuracy: 0.7332\n",
      "Epoch 96/500\n",
      "521/521 [==============================] - 0s 36us/step - loss: 0.5024 - accuracy: 0.7159\n",
      "Epoch 97/500\n",
      "521/521 [==============================] - 0s 44us/step - loss: 0.5018 - accuracy: 0.7351\n",
      "Epoch 98/500\n",
      "521/521 [==============================] - 0s 36us/step - loss: 0.4975 - accuracy: 0.7447\n",
      "Epoch 99/500\n",
      "521/521 [==============================] - 0s 31us/step - loss: 0.4964 - accuracy: 0.7390\n",
      "Epoch 100/500\n",
      "521/521 [==============================] - 0s 31us/step - loss: 0.4962 - accuracy: 0.7370\n",
      "Epoch 101/500\n",
      "521/521 [==============================] - 0s 31us/step - loss: 0.4993 - accuracy: 0.7217\n",
      "Epoch 102/500\n",
      "521/521 [==============================] - 0s 33us/step - loss: 0.4978 - accuracy: 0.7294\n",
      "Epoch 103/500\n",
      "521/521 [==============================] - 0s 31us/step - loss: 0.4961 - accuracy: 0.7159\n",
      "Epoch 104/500\n",
      "521/521 [==============================] - 0s 33us/step - loss: 0.5017 - accuracy: 0.7390\n",
      "Epoch 105/500\n",
      "521/521 [==============================] - 0s 31us/step - loss: 0.4935 - accuracy: 0.7524\n",
      "Epoch 106/500\n",
      "521/521 [==============================] - 0s 31us/step - loss: 0.4973 - accuracy: 0.7351\n",
      "Epoch 107/500\n",
      "521/521 [==============================] - 0s 31us/step - loss: 0.4947 - accuracy: 0.7370\n",
      "Epoch 108/500\n",
      "521/521 [==============================] - 0s 31us/step - loss: 0.4971 - accuracy: 0.7409\n",
      "Epoch 109/500\n",
      "521/521 [==============================] - 0s 33us/step - loss: 0.4946 - accuracy: 0.7390\n",
      "Epoch 110/500\n",
      "521/521 [==============================] - 0s 36us/step - loss: 0.4925 - accuracy: 0.7428\n",
      "Epoch 111/500\n",
      "521/521 [==============================] - 0s 38us/step - loss: 0.5032 - accuracy: 0.7274\n",
      "Epoch 112/500\n",
      "521/521 [==============================] - 0s 42us/step - loss: 0.5030 - accuracy: 0.7063\n",
      "Epoch 113/500\n",
      "521/521 [==============================] - 0s 40us/step - loss: 0.4946 - accuracy: 0.7179\n",
      "Epoch 114/500\n",
      "521/521 [==============================] - 0s 38us/step - loss: 0.4953 - accuracy: 0.7370\n",
      "Epoch 115/500\n",
      "521/521 [==============================] - 0s 36us/step - loss: 0.4943 - accuracy: 0.7294\n",
      "Epoch 116/500\n",
      "521/521 [==============================] - 0s 35us/step - loss: 0.4900 - accuracy: 0.7466\n",
      "Epoch 117/500\n",
      "521/521 [==============================] - 0s 35us/step - loss: 0.5061 - accuracy: 0.7351\n",
      "Epoch 118/500\n",
      "521/521 [==============================] - 0s 38us/step - loss: 0.5018 - accuracy: 0.7121\n",
      "Epoch 119/500\n",
      "521/521 [==============================] - 0s 40us/step - loss: 0.4986 - accuracy: 0.7351\n",
      "Epoch 120/500\n",
      "521/521 [==============================] - 0s 38us/step - loss: 0.4984 - accuracy: 0.7236\n",
      "Epoch 121/500\n",
      "521/521 [==============================] - 0s 31us/step - loss: 0.4965 - accuracy: 0.7428\n",
      "Epoch 122/500\n",
      "521/521 [==============================] - 0s 31us/step - loss: 0.5031 - accuracy: 0.7140\n",
      "Epoch 123/500\n",
      "521/521 [==============================] - 0s 31us/step - loss: 0.4991 - accuracy: 0.7390\n",
      "Epoch 124/500\n",
      "521/521 [==============================] - 0s 31us/step - loss: 0.4934 - accuracy: 0.7332\n",
      "Epoch 125/500\n",
      "521/521 [==============================] - 0s 31us/step - loss: 0.4979 - accuracy: 0.7179\n",
      "Epoch 126/500\n",
      "521/521 [==============================] - 0s 31us/step - loss: 0.5133 - accuracy: 0.7140\n",
      "Epoch 127/500\n",
      "521/521 [==============================] - 0s 35us/step - loss: 0.4946 - accuracy: 0.7274\n",
      "Epoch 128/500\n",
      "521/521 [==============================] - 0s 35us/step - loss: 0.4901 - accuracy: 0.7466\n",
      "Epoch 129/500\n",
      "521/521 [==============================] - 0s 35us/step - loss: 0.4927 - accuracy: 0.7486\n",
      "Epoch 130/500\n",
      "521/521 [==============================] - 0s 31us/step - loss: 0.4939 - accuracy: 0.7447\n",
      "Epoch 131/500\n",
      "521/521 [==============================] - 0s 29us/step - loss: 0.4911 - accuracy: 0.7332\n",
      "Epoch 132/500\n",
      "521/521 [==============================] - 0s 31us/step - loss: 0.4919 - accuracy: 0.7274\n",
      "Epoch 133/500\n",
      "521/521 [==============================] - 0s 31us/step - loss: 0.4921 - accuracy: 0.7159\n",
      "Epoch 134/500\n",
      "521/521 [==============================] - 0s 29us/step - loss: 0.4884 - accuracy: 0.7313\n",
      "Epoch 135/500\n",
      "521/521 [==============================] - 0s 29us/step - loss: 0.4955 - accuracy: 0.7274\n",
      "Epoch 136/500\n",
      "521/521 [==============================] - 0s 29us/step - loss: 0.4915 - accuracy: 0.7351\n",
      "Epoch 137/500\n",
      "521/521 [==============================] - 0s 29us/step - loss: 0.4887 - accuracy: 0.7390\n",
      "Epoch 138/500\n",
      "521/521 [==============================] - 0s 31us/step - loss: 0.4873 - accuracy: 0.7447\n",
      "Epoch 139/500\n",
      "521/521 [==============================] - 0s 31us/step - loss: 0.4897 - accuracy: 0.7486\n",
      "Epoch 140/500\n",
      "521/521 [==============================] - 0s 31us/step - loss: 0.4933 - accuracy: 0.7236\n",
      "Epoch 141/500\n",
      "521/521 [==============================] - 0s 35us/step - loss: 0.5061 - accuracy: 0.7255\n",
      "Epoch 142/500\n",
      "521/521 [==============================] - 0s 33us/step - loss: 0.4917 - accuracy: 0.7466\n",
      "Epoch 143/500\n",
      "521/521 [==============================] - 0s 35us/step - loss: 0.4883 - accuracy: 0.7466\n",
      "Epoch 144/500\n",
      "521/521 [==============================] - 0s 35us/step - loss: 0.4889 - accuracy: 0.7505\n",
      "Epoch 145/500\n",
      "521/521 [==============================] - 0s 31us/step - loss: 0.4881 - accuracy: 0.7370\n",
      "Epoch 146/500\n",
      "521/521 [==============================] - 0s 36us/step - loss: 0.4946 - accuracy: 0.7255\n",
      "Epoch 147/500\n",
      "521/521 [==============================] - 0s 48us/step - loss: 0.4876 - accuracy: 0.7351\n",
      "Epoch 148/500\n",
      "521/521 [==============================] - 0s 36us/step - loss: 0.4915 - accuracy: 0.7255\n",
      "Epoch 149/500\n",
      "521/521 [==============================] - 0s 33us/step - loss: 0.4985 - accuracy: 0.7083\n",
      "Epoch 150/500\n",
      "521/521 [==============================] - 0s 33us/step - loss: 0.5034 - accuracy: 0.7274\n",
      "Epoch 151/500\n",
      "521/521 [==============================] - 0s 35us/step - loss: 0.4910 - accuracy: 0.7524\n",
      "Epoch 152/500\n",
      "521/521 [==============================] - 0s 33us/step - loss: 0.4863 - accuracy: 0.7447\n",
      "Epoch 153/500\n",
      "521/521 [==============================] - 0s 31us/step - loss: 0.4888 - accuracy: 0.7447\n",
      "Epoch 154/500\n",
      "521/521 [==============================] - 0s 31us/step - loss: 0.4872 - accuracy: 0.7428\n",
      "Epoch 155/500\n",
      "521/521 [==============================] - 0s 33us/step - loss: 0.4929 - accuracy: 0.7121\n",
      "Epoch 156/500\n",
      "521/521 [==============================] - 0s 35us/step - loss: 0.5004 - accuracy: 0.6967\n",
      "Epoch 157/500\n",
      "521/521 [==============================] - 0s 31us/step - loss: 0.4885 - accuracy: 0.7332\n",
      "Epoch 158/500\n",
      "521/521 [==============================] - 0s 33us/step - loss: 0.4870 - accuracy: 0.7390\n",
      "Epoch 159/500\n"
     ]
    },
    {
     "name": "stdout",
     "output_type": "stream",
     "text": [
      "521/521 [==============================] - 0s 35us/step - loss: 0.4837 - accuracy: 0.7486\n",
      "Epoch 160/500\n",
      "521/521 [==============================] - 0s 36us/step - loss: 0.4850 - accuracy: 0.7313\n",
      "Epoch 161/500\n",
      "521/521 [==============================] - 0s 35us/step - loss: 0.4833 - accuracy: 0.7466\n",
      "Epoch 162/500\n",
      "521/521 [==============================] - 0s 33us/step - loss: 0.4844 - accuracy: 0.7486\n",
      "Epoch 163/500\n",
      "521/521 [==============================] - 0s 35us/step - loss: 0.4888 - accuracy: 0.7255\n",
      "Epoch 164/500\n",
      "521/521 [==============================] - 0s 35us/step - loss: 0.4971 - accuracy: 0.7198\n",
      "Epoch 165/500\n",
      "521/521 [==============================] - 0s 33us/step - loss: 0.4965 - accuracy: 0.7255\n",
      "Epoch 166/500\n",
      "521/521 [==============================] - 0s 33us/step - loss: 0.4862 - accuracy: 0.7409\n",
      "Epoch 167/500\n",
      "521/521 [==============================] - 0s 31us/step - loss: 0.4857 - accuracy: 0.7332\n",
      "Epoch 168/500\n",
      "521/521 [==============================] - 0s 31us/step - loss: 0.4860 - accuracy: 0.7332\n",
      "Epoch 169/500\n",
      "521/521 [==============================] - 0s 31us/step - loss: 0.4839 - accuracy: 0.7390\n",
      "Epoch 170/500\n",
      "521/521 [==============================] - 0s 29us/step - loss: 0.4913 - accuracy: 0.7370\n",
      "Epoch 171/500\n",
      "521/521 [==============================] - 0s 29us/step - loss: 0.4855 - accuracy: 0.7370\n",
      "Epoch 172/500\n",
      "521/521 [==============================] - 0s 31us/step - loss: 0.4849 - accuracy: 0.7447\n",
      "Epoch 173/500\n",
      "521/521 [==============================] - 0s 36us/step - loss: 0.4843 - accuracy: 0.7447\n",
      "Epoch 174/500\n",
      "521/521 [==============================] - 0s 35us/step - loss: 0.4884 - accuracy: 0.7351\n",
      "Epoch 175/500\n",
      "521/521 [==============================] - 0s 36us/step - loss: 0.4815 - accuracy: 0.7409\n",
      "Epoch 176/500\n",
      "521/521 [==============================] - 0s 31us/step - loss: 0.4831 - accuracy: 0.7466\n",
      "Epoch 177/500\n",
      "521/521 [==============================] - 0s 33us/step - loss: 0.4803 - accuracy: 0.7390\n",
      "Epoch 178/500\n",
      "521/521 [==============================] - 0s 33us/step - loss: 0.4820 - accuracy: 0.7332\n",
      "Epoch 179/500\n",
      "521/521 [==============================] - 0s 33us/step - loss: 0.4937 - accuracy: 0.7236\n",
      "Epoch 180/500\n",
      "521/521 [==============================] - 0s 35us/step - loss: 0.4858 - accuracy: 0.7390\n",
      "Epoch 181/500\n",
      "521/521 [==============================] - 0s 31us/step - loss: 0.4883 - accuracy: 0.7447\n",
      "Epoch 182/500\n",
      "521/521 [==============================] - 0s 33us/step - loss: 0.4838 - accuracy: 0.7390\n",
      "Epoch 183/500\n",
      "521/521 [==============================] - 0s 33us/step - loss: 0.4852 - accuracy: 0.7543\n",
      "Epoch 184/500\n",
      "521/521 [==============================] - 0s 33us/step - loss: 0.4841 - accuracy: 0.7236\n",
      "Epoch 185/500\n",
      "521/521 [==============================] - 0s 31us/step - loss: 0.4829 - accuracy: 0.7255\n",
      "Epoch 186/500\n",
      "521/521 [==============================] - 0s 31us/step - loss: 0.4810 - accuracy: 0.7370\n",
      "Epoch 187/500\n",
      "521/521 [==============================] - 0s 33us/step - loss: 0.4867 - accuracy: 0.7294\n",
      "Epoch 188/500\n",
      "521/521 [==============================] - 0s 31us/step - loss: 0.4842 - accuracy: 0.7505\n",
      "Epoch 189/500\n",
      "521/521 [==============================] - 0s 35us/step - loss: 0.4847 - accuracy: 0.7332\n",
      "Epoch 190/500\n",
      "521/521 [==============================] - 0s 35us/step - loss: 0.4905 - accuracy: 0.7102\n",
      "Epoch 191/500\n",
      "521/521 [==============================] - 0s 35us/step - loss: 0.4774 - accuracy: 0.7428\n",
      "Epoch 192/500\n",
      "521/521 [==============================] - 0s 33us/step - loss: 0.4875 - accuracy: 0.7390\n",
      "Epoch 193/500\n",
      "521/521 [==============================] - 0s 31us/step - loss: 0.4803 - accuracy: 0.7409\n",
      "Epoch 194/500\n",
      "521/521 [==============================] - 0s 33us/step - loss: 0.4816 - accuracy: 0.7486\n",
      "Epoch 195/500\n",
      "521/521 [==============================] - 0s 35us/step - loss: 0.4786 - accuracy: 0.7409\n",
      "Epoch 196/500\n",
      "521/521 [==============================] - 0s 36us/step - loss: 0.4798 - accuracy: 0.7447\n",
      "Epoch 197/500\n",
      "521/521 [==============================] - 0s 35us/step - loss: 0.4786 - accuracy: 0.7370\n",
      "Epoch 198/500\n",
      "521/521 [==============================] - 0s 36us/step - loss: 0.4797 - accuracy: 0.7274\n",
      "Epoch 199/500\n",
      "521/521 [==============================] - 0s 31us/step - loss: 0.4807 - accuracy: 0.7217\n",
      "Epoch 200/500\n",
      "521/521 [==============================] - 0s 33us/step - loss: 0.4832 - accuracy: 0.7255\n",
      "Epoch 201/500\n",
      "521/521 [==============================] - 0s 50us/step - loss: 0.4829 - accuracy: 0.7428\n",
      "Epoch 202/500\n",
      "521/521 [==============================] - 0s 33us/step - loss: 0.4797 - accuracy: 0.7486\n",
      "Epoch 203/500\n",
      "521/521 [==============================] - 0s 33us/step - loss: 0.4891 - accuracy: 0.7217\n",
      "Epoch 204/500\n",
      "521/521 [==============================] - 0s 33us/step - loss: 0.4747 - accuracy: 0.7466\n",
      "Epoch 205/500\n",
      "521/521 [==============================] - 0s 31us/step - loss: 0.4757 - accuracy: 0.7428\n",
      "Epoch 206/500\n",
      "521/521 [==============================] - 0s 33us/step - loss: 0.4743 - accuracy: 0.7505\n",
      "Epoch 207/500\n",
      "521/521 [==============================] - 0s 33us/step - loss: 0.4733 - accuracy: 0.7486\n",
      "Epoch 208/500\n",
      "521/521 [==============================] - 0s 31us/step - loss: 0.4776 - accuracy: 0.7370\n",
      "Epoch 209/500\n",
      "521/521 [==============================] - 0s 35us/step - loss: 0.4722 - accuracy: 0.7351\n",
      "Epoch 210/500\n",
      "521/521 [==============================] - 0s 35us/step - loss: 0.4793 - accuracy: 0.7332\n",
      "Epoch 211/500\n",
      "521/521 [==============================] - 0s 35us/step - loss: 0.4788 - accuracy: 0.7428\n",
      "Epoch 212/500\n",
      "521/521 [==============================] - 0s 36us/step - loss: 0.4761 - accuracy: 0.7351\n",
      "Epoch 213/500\n",
      "521/521 [==============================] - 0s 35us/step - loss: 0.4843 - accuracy: 0.7428\n",
      "Epoch 214/500\n",
      "521/521 [==============================] - 0s 40us/step - loss: 0.4770 - accuracy: 0.7466\n",
      "Epoch 215/500\n",
      "521/521 [==============================] - 0s 33us/step - loss: 0.4761 - accuracy: 0.7274\n",
      "Epoch 216/500\n",
      "521/521 [==============================] - 0s 33us/step - loss: 0.4779 - accuracy: 0.7370\n",
      "Epoch 217/500\n",
      "521/521 [==============================] - 0s 31us/step - loss: 0.4893 - accuracy: 0.7332\n",
      "Epoch 218/500\n",
      "521/521 [==============================] - 0s 31us/step - loss: 0.4818 - accuracy: 0.7409\n",
      "Epoch 219/500\n",
      "521/521 [==============================] - 0s 31us/step - loss: 0.4754 - accuracy: 0.7428\n",
      "Epoch 220/500\n",
      "521/521 [==============================] - 0s 33us/step - loss: 0.4732 - accuracy: 0.7524\n",
      "Epoch 221/500\n",
      "521/521 [==============================] - 0s 31us/step - loss: 0.4961 - accuracy: 0.7102\n",
      "Epoch 222/500\n",
      "521/521 [==============================] - 0s 31us/step - loss: 0.4741 - accuracy: 0.7466\n",
      "Epoch 223/500\n",
      "521/521 [==============================] - 0s 31us/step - loss: 0.4786 - accuracy: 0.7370\n",
      "Epoch 224/500\n",
      "521/521 [==============================] - 0s 31us/step - loss: 0.4811 - accuracy: 0.7198\n",
      "Epoch 225/500\n",
      "521/521 [==============================] - 0s 33us/step - loss: 0.4729 - accuracy: 0.7390\n",
      "Epoch 226/500\n",
      "521/521 [==============================] - 0s 31us/step - loss: 0.4768 - accuracy: 0.7428\n",
      "Epoch 227/500\n",
      "521/521 [==============================] - 0s 33us/step - loss: 0.4745 - accuracy: 0.7466\n",
      "Epoch 228/500\n",
      "521/521 [==============================] - 0s 35us/step - loss: 0.4867 - accuracy: 0.7370\n",
      "Epoch 229/500\n",
      "521/521 [==============================] - 0s 33us/step - loss: 0.4727 - accuracy: 0.7409\n",
      "Epoch 230/500\n",
      "521/521 [==============================] - 0s 35us/step - loss: 0.4730 - accuracy: 0.7351\n",
      "Epoch 231/500\n",
      "521/521 [==============================] - 0s 33us/step - loss: 0.4862 - accuracy: 0.7236\n",
      "Epoch 232/500\n",
      "521/521 [==============================] - 0s 33us/step - loss: 0.4920 - accuracy: 0.7313\n",
      "Epoch 233/500\n",
      "521/521 [==============================] - 0s 31us/step - loss: 0.4725 - accuracy: 0.7620\n",
      "Epoch 234/500\n",
      "521/521 [==============================] - 0s 33us/step - loss: 0.4825 - accuracy: 0.7179\n",
      "Epoch 235/500\n",
      "521/521 [==============================] - 0s 35us/step - loss: 0.4827 - accuracy: 0.7370\n",
      "Epoch 236/500\n",
      "521/521 [==============================] - 0s 36us/step - loss: 0.4754 - accuracy: 0.7505\n",
      "Epoch 237/500\n"
     ]
    },
    {
     "name": "stdout",
     "output_type": "stream",
     "text": [
      "521/521 [==============================] - 0s 33us/step - loss: 0.4728 - accuracy: 0.7428\n",
      "Epoch 238/500\n",
      "521/521 [==============================] - 0s 38us/step - loss: 0.4750 - accuracy: 0.7524\n",
      "Epoch 239/500\n",
      "521/521 [==============================] - 0s 35us/step - loss: 0.4675 - accuracy: 0.7466\n",
      "Epoch 240/500\n",
      "521/521 [==============================] - 0s 35us/step - loss: 0.4761 - accuracy: 0.7370\n",
      "Epoch 241/500\n",
      "521/521 [==============================] - 0s 36us/step - loss: 0.4693 - accuracy: 0.7524\n",
      "Epoch 242/500\n",
      "521/521 [==============================] - 0s 29us/step - loss: 0.4681 - accuracy: 0.7370\n",
      "Epoch 243/500\n",
      "521/521 [==============================] - 0s 33us/step - loss: 0.4729 - accuracy: 0.7313\n",
      "Epoch 244/500\n",
      "521/521 [==============================] - 0s 31us/step - loss: 0.4682 - accuracy: 0.7447\n",
      "Epoch 245/500\n",
      "521/521 [==============================] - 0s 31us/step - loss: 0.4673 - accuracy: 0.7409\n",
      "Epoch 246/500\n",
      "521/521 [==============================] - 0s 31us/step - loss: 0.4673 - accuracy: 0.7524\n",
      "Epoch 247/500\n",
      "521/521 [==============================] - 0s 31us/step - loss: 0.4732 - accuracy: 0.7159\n",
      "Epoch 248/500\n",
      "521/521 [==============================] - 0s 31us/step - loss: 0.4791 - accuracy: 0.7332\n",
      "Epoch 249/500\n",
      "521/521 [==============================] - 0s 31us/step - loss: 0.4748 - accuracy: 0.7274\n",
      "Epoch 250/500\n",
      "521/521 [==============================] - 0s 33us/step - loss: 0.4720 - accuracy: 0.7294\n",
      "Epoch 251/500\n",
      "521/521 [==============================] - 0s 35us/step - loss: 0.4704 - accuracy: 0.7428\n",
      "Epoch 252/500\n",
      "521/521 [==============================] - 0s 31us/step - loss: 0.4693 - accuracy: 0.7409\n",
      "Epoch 253/500\n",
      "521/521 [==============================] - 0s 33us/step - loss: 0.4707 - accuracy: 0.7390\n",
      "Epoch 254/500\n",
      "521/521 [==============================] - 0s 33us/step - loss: 0.4717 - accuracy: 0.7370\n",
      "Epoch 255/500\n",
      "521/521 [==============================] - 0s 46us/step - loss: 0.4675 - accuracy: 0.7524\n",
      "Epoch 256/500\n",
      "521/521 [==============================] - 0s 31us/step - loss: 0.4641 - accuracy: 0.7543\n",
      "Epoch 257/500\n",
      "521/521 [==============================] - 0s 35us/step - loss: 0.4642 - accuracy: 0.7543\n",
      "Epoch 258/500\n",
      "521/521 [==============================] - 0s 31us/step - loss: 0.4668 - accuracy: 0.7620\n",
      "Epoch 259/500\n",
      "521/521 [==============================] - 0s 31us/step - loss: 0.4704 - accuracy: 0.7505\n",
      "Epoch 260/500\n",
      "521/521 [==============================] - 0s 29us/step - loss: 0.4735 - accuracy: 0.7466\n",
      "Epoch 261/500\n",
      "521/521 [==============================] - 0s 31us/step - loss: 0.4632 - accuracy: 0.7639\n",
      "Epoch 262/500\n",
      "521/521 [==============================] - 0s 31us/step - loss: 0.4644 - accuracy: 0.7601\n",
      "Epoch 263/500\n",
      "521/521 [==============================] - 0s 29us/step - loss: 0.4657 - accuracy: 0.7543\n",
      "Epoch 264/500\n",
      "521/521 [==============================] - 0s 33us/step - loss: 0.4820 - accuracy: 0.7409\n",
      "Epoch 265/500\n",
      "521/521 [==============================] - 0s 33us/step - loss: 0.4681 - accuracy: 0.7601\n",
      "Epoch 266/500\n",
      "521/521 [==============================] - 0s 36us/step - loss: 0.4668 - accuracy: 0.7601\n",
      "Epoch 267/500\n",
      "521/521 [==============================] - 0s 33us/step - loss: 0.4627 - accuracy: 0.7543\n",
      "Epoch 268/500\n",
      "521/521 [==============================] - 0s 33us/step - loss: 0.4670 - accuracy: 0.7524\n",
      "Epoch 269/500\n",
      "521/521 [==============================] - 0s 31us/step - loss: 0.4740 - accuracy: 0.7409\n",
      "Epoch 270/500\n",
      "521/521 [==============================] - 0s 33us/step - loss: 0.4802 - accuracy: 0.7332\n",
      "Epoch 271/500\n",
      "521/521 [==============================] - 0s 31us/step - loss: 0.4707 - accuracy: 0.7543\n",
      "Epoch 272/500\n",
      "521/521 [==============================] - 0s 31us/step - loss: 0.4742 - accuracy: 0.7562\n",
      "Epoch 273/500\n",
      "521/521 [==============================] - 0s 33us/step - loss: 0.4728 - accuracy: 0.7409\n",
      "Epoch 274/500\n",
      "521/521 [==============================] - 0s 35us/step - loss: 0.4762 - accuracy: 0.7466\n",
      "Epoch 275/500\n",
      "521/521 [==============================] - 0s 33us/step - loss: 0.4660 - accuracy: 0.7390\n",
      "Epoch 276/500\n",
      "521/521 [==============================] - 0s 29us/step - loss: 0.4638 - accuracy: 0.7524\n",
      "Epoch 277/500\n",
      "521/521 [==============================] - 0s 29us/step - loss: 0.4696 - accuracy: 0.7524\n",
      "Epoch 278/500\n",
      "521/521 [==============================] - 0s 31us/step - loss: 0.4643 - accuracy: 0.7543\n",
      "Epoch 279/500\n",
      "521/521 [==============================] - 0s 31us/step - loss: 0.4668 - accuracy: 0.7620\n",
      "Epoch 280/500\n",
      "521/521 [==============================] - 0s 33us/step - loss: 0.4569 - accuracy: 0.7716\n",
      "Epoch 281/500\n",
      "521/521 [==============================] - 0s 33us/step - loss: 0.4664 - accuracy: 0.7524\n",
      "Epoch 282/500\n",
      "521/521 [==============================] - 0s 33us/step - loss: 0.4635 - accuracy: 0.7486\n",
      "Epoch 283/500\n",
      "521/521 [==============================] - 0s 33us/step - loss: 0.4666 - accuracy: 0.7313\n",
      "Epoch 284/500\n",
      "521/521 [==============================] - 0s 35us/step - loss: 0.4652 - accuracy: 0.7466\n",
      "Epoch 285/500\n",
      "521/521 [==============================] - 0s 33us/step - loss: 0.4651 - accuracy: 0.7543\n",
      "Epoch 286/500\n",
      "521/521 [==============================] - 0s 31us/step - loss: 0.4704 - accuracy: 0.7524\n",
      "Epoch 287/500\n",
      "521/521 [==============================] - 0s 33us/step - loss: 0.4684 - accuracy: 0.7351\n",
      "Epoch 288/500\n",
      "521/521 [==============================] - 0s 33us/step - loss: 0.4628 - accuracy: 0.7390\n",
      "Epoch 289/500\n",
      "521/521 [==============================] - 0s 35us/step - loss: 0.4652 - accuracy: 0.7486\n",
      "Epoch 290/500\n",
      "521/521 [==============================] - 0s 35us/step - loss: 0.4667 - accuracy: 0.7370\n",
      "Epoch 291/500\n",
      "521/521 [==============================] - 0s 38us/step - loss: 0.4634 - accuracy: 0.7428\n",
      "Epoch 292/500\n",
      "521/521 [==============================] - 0s 35us/step - loss: 0.4572 - accuracy: 0.7601\n",
      "Epoch 293/500\n",
      "521/521 [==============================] - 0s 35us/step - loss: 0.4533 - accuracy: 0.7582\n",
      "Epoch 294/500\n",
      "521/521 [==============================] - 0s 31us/step - loss: 0.4645 - accuracy: 0.7351\n",
      "Epoch 295/500\n",
      "521/521 [==============================] - 0s 35us/step - loss: 0.4605 - accuracy: 0.7543\n",
      "Epoch 296/500\n",
      "521/521 [==============================] - 0s 35us/step - loss: 0.4647 - accuracy: 0.7486\n",
      "Epoch 297/500\n",
      "521/521 [==============================] - 0s 33us/step - loss: 0.4594 - accuracy: 0.7639\n",
      "Epoch 298/500\n",
      "521/521 [==============================] - 0s 31us/step - loss: 0.4746 - accuracy: 0.7466\n",
      "Epoch 299/500\n",
      "521/521 [==============================] - ETA: 0s - loss: 0.4175 - accuracy: 0.75 - 0s 33us/step - loss: 0.4634 - accuracy: 0.7447\n",
      "Epoch 300/500\n",
      "521/521 [==============================] - 0s 31us/step - loss: 0.4682 - accuracy: 0.7620\n",
      "Epoch 301/500\n",
      "521/521 [==============================] - 0s 31us/step - loss: 0.4573 - accuracy: 0.7601\n",
      "Epoch 302/500\n",
      "521/521 [==============================] - 0s 33us/step - loss: 0.4565 - accuracy: 0.7601\n",
      "Epoch 303/500\n",
      "521/521 [==============================] - 0s 33us/step - loss: 0.4600 - accuracy: 0.7678\n",
      "Epoch 304/500\n",
      "521/521 [==============================] - 0s 36us/step - loss: 0.4562 - accuracy: 0.7543\n",
      "Epoch 305/500\n",
      "521/521 [==============================] - 0s 33us/step - loss: 0.4587 - accuracy: 0.7735\n",
      "Epoch 306/500\n",
      "521/521 [==============================] - 0s 40us/step - loss: 0.4608 - accuracy: 0.7486\n",
      "Epoch 307/500\n",
      "521/521 [==============================] - 0s 35us/step - loss: 0.4552 - accuracy: 0.7582\n",
      "Epoch 308/500\n",
      "521/521 [==============================] - 0s 44us/step - loss: 0.4592 - accuracy: 0.7639\n",
      "Epoch 309/500\n",
      "521/521 [==============================] - ETA: 0s - loss: 0.5371 - accuracy: 0.75 - 0s 35us/step - loss: 0.4673 - accuracy: 0.7562\n",
      "Epoch 310/500\n",
      "521/521 [==============================] - 0s 33us/step - loss: 0.4726 - accuracy: 0.7505\n",
      "Epoch 311/500\n",
      "521/521 [==============================] - 0s 33us/step - loss: 0.4831 - accuracy: 0.7390\n",
      "Epoch 312/500\n",
      "521/521 [==============================] - 0s 33us/step - loss: 0.4691 - accuracy: 0.7601\n",
      "Epoch 313/500\n",
      "521/521 [==============================] - 0s 36us/step - loss: 0.4571 - accuracy: 0.7620\n",
      "Epoch 314/500\n",
      "521/521 [==============================] - 0s 35us/step - loss: 0.4575 - accuracy: 0.7582\n",
      "Epoch 315/500\n"
     ]
    },
    {
     "name": "stdout",
     "output_type": "stream",
     "text": [
      "521/521 [==============================] - 0s 35us/step - loss: 0.4577 - accuracy: 0.7620\n",
      "Epoch 316/500\n",
      "521/521 [==============================] - 0s 31us/step - loss: 0.4568 - accuracy: 0.7678\n",
      "Epoch 317/500\n",
      "521/521 [==============================] - 0s 33us/step - loss: 0.4562 - accuracy: 0.7466\n",
      "Epoch 318/500\n",
      "521/521 [==============================] - 0s 33us/step - loss: 0.4642 - accuracy: 0.7428\n",
      "Epoch 319/500\n",
      "521/521 [==============================] - 0s 33us/step - loss: 0.4668 - accuracy: 0.7486\n",
      "Epoch 320/500\n",
      "521/521 [==============================] - 0s 35us/step - loss: 0.4691 - accuracy: 0.7447\n",
      "Epoch 321/500\n",
      "521/521 [==============================] - 0s 35us/step - loss: 0.4531 - accuracy: 0.7697\n",
      "Epoch 322/500\n",
      "521/521 [==============================] - 0s 33us/step - loss: 0.4569 - accuracy: 0.7524\n",
      "Epoch 323/500\n",
      "521/521 [==============================] - 0s 36us/step - loss: 0.4522 - accuracy: 0.7582\n",
      "Epoch 324/500\n",
      "521/521 [==============================] - 0s 35us/step - loss: 0.4518 - accuracy: 0.7601\n",
      "Epoch 325/500\n",
      "521/521 [==============================] - 0s 33us/step - loss: 0.4542 - accuracy: 0.7620\n",
      "Epoch 326/500\n",
      "521/521 [==============================] - 0s 31us/step - loss: 0.4636 - accuracy: 0.7524\n",
      "Epoch 327/500\n",
      "521/521 [==============================] - 0s 31us/step - loss: 0.4566 - accuracy: 0.7658\n",
      "Epoch 328/500\n",
      "521/521 [==============================] - 0s 31us/step - loss: 0.4515 - accuracy: 0.7313\n",
      "Epoch 329/500\n",
      "521/521 [==============================] - 0s 29us/step - loss: 0.4593 - accuracy: 0.7601\n",
      "Epoch 330/500\n",
      "521/521 [==============================] - 0s 29us/step - loss: 0.4514 - accuracy: 0.7582\n",
      "Epoch 331/500\n",
      "521/521 [==============================] - 0s 31us/step - loss: 0.4524 - accuracy: 0.7639\n",
      "Epoch 332/500\n",
      "521/521 [==============================] - 0s 31us/step - loss: 0.4523 - accuracy: 0.7639\n",
      "Epoch 333/500\n",
      "521/521 [==============================] - 0s 31us/step - loss: 0.4593 - accuracy: 0.7543\n",
      "Epoch 334/500\n",
      "521/521 [==============================] - 0s 33us/step - loss: 0.4522 - accuracy: 0.7601\n",
      "Epoch 335/500\n",
      "521/521 [==============================] - 0s 36us/step - loss: 0.4494 - accuracy: 0.7582\n",
      "Epoch 336/500\n",
      "521/521 [==============================] - 0s 38us/step - loss: 0.4539 - accuracy: 0.7466\n",
      "Epoch 337/500\n",
      "521/521 [==============================] - 0s 33us/step - loss: 0.4593 - accuracy: 0.7313\n",
      "Epoch 338/500\n",
      "521/521 [==============================] - 0s 31us/step - loss: 0.4523 - accuracy: 0.7658\n",
      "Epoch 339/500\n",
      "521/521 [==============================] - 0s 31us/step - loss: 0.4526 - accuracy: 0.7716\n",
      "Epoch 340/500\n",
      "521/521 [==============================] - 0s 33us/step - loss: 0.4467 - accuracy: 0.7658\n",
      "Epoch 341/500\n",
      "521/521 [==============================] - 0s 33us/step - loss: 0.4503 - accuracy: 0.7505\n",
      "Epoch 342/500\n",
      "521/521 [==============================] - 0s 33us/step - loss: 0.4476 - accuracy: 0.7447\n",
      "Epoch 343/500\n",
      "521/521 [==============================] - 0s 33us/step - loss: 0.4492 - accuracy: 0.7620\n",
      "Epoch 344/500\n",
      "521/521 [==============================] - 0s 33us/step - loss: 0.4506 - accuracy: 0.7620\n",
      "Epoch 345/500\n",
      "521/521 [==============================] - 0s 33us/step - loss: 0.4523 - accuracy: 0.7524\n",
      "Epoch 346/500\n",
      "521/521 [==============================] - 0s 33us/step - loss: 0.4470 - accuracy: 0.7716\n",
      "Epoch 347/500\n",
      "521/521 [==============================] - 0s 31us/step - loss: 0.4495 - accuracy: 0.7678\n",
      "Epoch 348/500\n",
      "521/521 [==============================] - 0s 29us/step - loss: 0.4509 - accuracy: 0.7620\n",
      "Epoch 349/500\n",
      "521/521 [==============================] - 0s 31us/step - loss: 0.4494 - accuracy: 0.7831\n",
      "Epoch 350/500\n",
      "521/521 [==============================] - 0s 31us/step - loss: 0.4465 - accuracy: 0.7505\n",
      "Epoch 351/500\n",
      "521/521 [==============================] - 0s 33us/step - loss: 0.4524 - accuracy: 0.7697\n",
      "Epoch 352/500\n",
      "521/521 [==============================] - 0s 36us/step - loss: 0.4527 - accuracy: 0.7697\n",
      "Epoch 353/500\n",
      "521/521 [==============================] - 0s 35us/step - loss: 0.4466 - accuracy: 0.7754\n",
      "Epoch 354/500\n",
      "521/521 [==============================] - 0s 35us/step - loss: 0.4416 - accuracy: 0.7754\n",
      "Epoch 355/500\n",
      "521/521 [==============================] - 0s 33us/step - loss: 0.4487 - accuracy: 0.7543\n",
      "Epoch 356/500\n",
      "521/521 [==============================] - 0s 31us/step - loss: 0.4459 - accuracy: 0.7716\n",
      "Epoch 357/500\n",
      "521/521 [==============================] - 0s 31us/step - loss: 0.4476 - accuracy: 0.7620\n",
      "Epoch 358/500\n",
      "521/521 [==============================] - 0s 33us/step - loss: 0.4484 - accuracy: 0.7697\n",
      "Epoch 359/500\n",
      "521/521 [==============================] - 0s 36us/step - loss: 0.4431 - accuracy: 0.7812\n",
      "Epoch 360/500\n",
      "521/521 [==============================] - 0s 35us/step - loss: 0.4472 - accuracy: 0.7582\n",
      "Epoch 361/500\n",
      "521/521 [==============================] - 0s 33us/step - loss: 0.4460 - accuracy: 0.7639\n",
      "Epoch 362/500\n",
      "521/521 [==============================] - 0s 31us/step - loss: 0.4458 - accuracy: 0.7486\n",
      "Epoch 363/500\n",
      "521/521 [==============================] - 0s 46us/step - loss: 0.4531 - accuracy: 0.7601\n",
      "Epoch 364/500\n",
      "521/521 [==============================] - 0s 31us/step - loss: 0.4445 - accuracy: 0.7678\n",
      "Epoch 365/500\n",
      "521/521 [==============================] - 0s 33us/step - loss: 0.4594 - accuracy: 0.7524\n",
      "Epoch 366/500\n",
      "521/521 [==============================] - 0s 36us/step - loss: 0.4496 - accuracy: 0.7716\n",
      "Epoch 367/500\n",
      "521/521 [==============================] - 0s 35us/step - loss: 0.4505 - accuracy: 0.7466\n",
      "Epoch 368/500\n",
      "521/521 [==============================] - 0s 33us/step - loss: 0.4466 - accuracy: 0.7716\n",
      "Epoch 369/500\n",
      "521/521 [==============================] - 0s 33us/step - loss: 0.4485 - accuracy: 0.7543\n",
      "Epoch 370/500\n",
      "521/521 [==============================] - 0s 33us/step - loss: 0.4450 - accuracy: 0.7697\n",
      "Epoch 371/500\n",
      "521/521 [==============================] - 0s 33us/step - loss: 0.4446 - accuracy: 0.7639\n",
      "Epoch 372/500\n",
      "521/521 [==============================] - 0s 40us/step - loss: 0.4464 - accuracy: 0.7639\n",
      "Epoch 373/500\n",
      "521/521 [==============================] - 0s 31us/step - loss: 0.4538 - accuracy: 0.7447\n",
      "Epoch 374/500\n",
      "521/521 [==============================] - 0s 33us/step - loss: 0.4442 - accuracy: 0.7716\n",
      "Epoch 375/500\n",
      "521/521 [==============================] - 0s 31us/step - loss: 0.4500 - accuracy: 0.7390\n",
      "Epoch 376/500\n",
      "521/521 [==============================] - 0s 33us/step - loss: 0.4428 - accuracy: 0.7716\n",
      "Epoch 377/500\n",
      "521/521 [==============================] - 0s 33us/step - loss: 0.4402 - accuracy: 0.7678\n",
      "Epoch 378/500\n",
      "521/521 [==============================] - 0s 33us/step - loss: 0.4392 - accuracy: 0.7774\n",
      "Epoch 379/500\n",
      "521/521 [==============================] - 0s 35us/step - loss: 0.4402 - accuracy: 0.7735\n",
      "Epoch 380/500\n",
      "521/521 [==============================] - 0s 33us/step - loss: 0.4518 - accuracy: 0.7601\n",
      "Epoch 381/500\n",
      "521/521 [==============================] - 0s 33us/step - loss: 0.4433 - accuracy: 0.7524\n",
      "Epoch 382/500\n",
      "521/521 [==============================] - 0s 33us/step - loss: 0.4413 - accuracy: 0.7697\n",
      "Epoch 383/500\n",
      "521/521 [==============================] - 0s 35us/step - loss: 0.4482 - accuracy: 0.7505\n",
      "Epoch 384/500\n",
      "521/521 [==============================] - 0s 35us/step - loss: 0.4371 - accuracy: 0.7601\n",
      "Epoch 385/500\n",
      "521/521 [==============================] - 0s 35us/step - loss: 0.4530 - accuracy: 0.7505\n",
      "Epoch 386/500\n",
      "521/521 [==============================] - 0s 35us/step - loss: 0.4433 - accuracy: 0.7582\n",
      "Epoch 387/500\n",
      "521/521 [==============================] - 0s 31us/step - loss: 0.4427 - accuracy: 0.7678\n",
      "Epoch 388/500\n",
      "521/521 [==============================] - 0s 31us/step - loss: 0.4381 - accuracy: 0.7716\n",
      "Epoch 389/500\n",
      "521/521 [==============================] - 0s 35us/step - loss: 0.4351 - accuracy: 0.7562\n",
      "Epoch 390/500\n",
      "521/521 [==============================] - 0s 36us/step - loss: 0.4403 - accuracy: 0.7850\n",
      "Epoch 391/500\n",
      "521/521 [==============================] - 0s 36us/step - loss: 0.4434 - accuracy: 0.7639\n",
      "Epoch 392/500\n",
      "521/521 [==============================] - 0s 33us/step - loss: 0.4374 - accuracy: 0.7831\n",
      "Epoch 393/500\n"
     ]
    },
    {
     "name": "stdout",
     "output_type": "stream",
     "text": [
      "521/521 [==============================] - 0s 33us/step - loss: 0.4374 - accuracy: 0.7812\n",
      "Epoch 394/500\n",
      "521/521 [==============================] - 0s 31us/step - loss: 0.4343 - accuracy: 0.7678\n",
      "Epoch 395/500\n",
      "521/521 [==============================] - 0s 33us/step - loss: 0.4434 - accuracy: 0.7601\n",
      "Epoch 396/500\n",
      "521/521 [==============================] - 0s 31us/step - loss: 0.4474 - accuracy: 0.7562\n",
      "Epoch 397/500\n",
      "521/521 [==============================] - 0s 35us/step - loss: 0.4352 - accuracy: 0.7716\n",
      "Epoch 398/500\n",
      "521/521 [==============================] - 0s 33us/step - loss: 0.4416 - accuracy: 0.7639\n",
      "Epoch 399/500\n",
      "521/521 [==============================] - 0s 31us/step - loss: 0.4413 - accuracy: 0.7639\n",
      "Epoch 400/500\n",
      "521/521 [==============================] - 0s 31us/step - loss: 0.4466 - accuracy: 0.7466\n",
      "Epoch 401/500\n",
      "521/521 [==============================] - 0s 31us/step - loss: 0.4575 - accuracy: 0.7409\n",
      "Epoch 402/500\n",
      "521/521 [==============================] - 0s 31us/step - loss: 0.4422 - accuracy: 0.7658\n",
      "Epoch 403/500\n",
      "521/521 [==============================] - 0s 33us/step - loss: 0.4404 - accuracy: 0.7678\n",
      "Epoch 404/500\n",
      "521/521 [==============================] - 0s 33us/step - loss: 0.4331 - accuracy: 0.7793\n",
      "Epoch 405/500\n",
      "521/521 [==============================] - 0s 35us/step - loss: 0.4315 - accuracy: 0.7735\n",
      "Epoch 406/500\n",
      "521/521 [==============================] - 0s 35us/step - loss: 0.4303 - accuracy: 0.7869\n",
      "Epoch 407/500\n",
      "521/521 [==============================] - 0s 31us/step - loss: 0.4366 - accuracy: 0.7754\n",
      "Epoch 408/500\n",
      "521/521 [==============================] - ETA: 0s - loss: 0.4388 - accuracy: 0.78 - 0s 31us/step - loss: 0.4303 - accuracy: 0.7793\n",
      "Epoch 409/500\n",
      "521/521 [==============================] - 0s 31us/step - loss: 0.4550 - accuracy: 0.7543\n",
      "Epoch 410/500\n",
      "521/521 [==============================] - 0s 35us/step - loss: 0.4316 - accuracy: 0.7697\n",
      "Epoch 411/500\n",
      "521/521 [==============================] - 0s 38us/step - loss: 0.4346 - accuracy: 0.7716\n",
      "Epoch 412/500\n",
      "521/521 [==============================] - 0s 35us/step - loss: 0.4577 - accuracy: 0.7351\n",
      "Epoch 413/500\n",
      "521/521 [==============================] - 0s 35us/step - loss: 0.4680 - accuracy: 0.7428\n",
      "Epoch 414/500\n",
      "521/521 [==============================] - 0s 31us/step - loss: 0.4420 - accuracy: 0.7831\n",
      "Epoch 415/500\n",
      "521/521 [==============================] - 0s 33us/step - loss: 0.4473 - accuracy: 0.7620\n",
      "Epoch 416/500\n",
      "521/521 [==============================] - 0s 40us/step - loss: 0.4370 - accuracy: 0.7562\n",
      "Epoch 417/500\n",
      "521/521 [==============================] - 0s 36us/step - loss: 0.4344 - accuracy: 0.7697\n",
      "Epoch 418/500\n",
      "521/521 [==============================] - 0s 33us/step - loss: 0.4388 - accuracy: 0.7562\n",
      "Epoch 419/500\n",
      "521/521 [==============================] - 0s 33us/step - loss: 0.4426 - accuracy: 0.7486\n",
      "Epoch 420/500\n",
      "521/521 [==============================] - 0s 31us/step - loss: 0.4280 - accuracy: 0.7850\n",
      "Epoch 421/500\n",
      "521/521 [==============================] - 0s 33us/step - loss: 0.4283 - accuracy: 0.7812\n",
      "Epoch 422/500\n",
      "521/521 [==============================] - 0s 31us/step - loss: 0.4326 - accuracy: 0.7658\n",
      "Epoch 423/500\n",
      "521/521 [==============================] - 0s 33us/step - loss: 0.4354 - accuracy: 0.7812\n",
      "Epoch 424/500\n",
      "521/521 [==============================] - 0s 35us/step - loss: 0.4328 - accuracy: 0.7697\n",
      "Epoch 425/500\n",
      "521/521 [==============================] - 0s 38us/step - loss: 0.4400 - accuracy: 0.7735\n",
      "Epoch 426/500\n",
      "521/521 [==============================] - 0s 33us/step - loss: 0.4306 - accuracy: 0.7735\n",
      "Epoch 427/500\n",
      "521/521 [==============================] - 0s 31us/step - loss: 0.4278 - accuracy: 0.7735\n",
      "Epoch 428/500\n",
      "521/521 [==============================] - 0s 31us/step - loss: 0.4235 - accuracy: 0.7793\n",
      "Epoch 429/500\n",
      "521/521 [==============================] - 0s 31us/step - loss: 0.4250 - accuracy: 0.7965\n",
      "Epoch 430/500\n",
      "521/521 [==============================] - 0s 33us/step - loss: 0.4342 - accuracy: 0.7908\n",
      "Epoch 431/500\n",
      "521/521 [==============================] - 0s 35us/step - loss: 0.4442 - accuracy: 0.7735\n",
      "Epoch 432/500\n",
      "521/521 [==============================] - 0s 31us/step - loss: 0.4270 - accuracy: 0.7812\n",
      "Epoch 433/500\n",
      "521/521 [==============================] - 0s 35us/step - loss: 0.4254 - accuracy: 0.7869\n",
      "Epoch 434/500\n",
      "521/521 [==============================] - 0s 33us/step - loss: 0.4268 - accuracy: 0.7697\n",
      "Epoch 435/500\n",
      "521/521 [==============================] - 0s 33us/step - loss: 0.4324 - accuracy: 0.7524\n",
      "Epoch 436/500\n",
      "521/521 [==============================] - 0s 33us/step - loss: 0.4257 - accuracy: 0.7850\n",
      "Epoch 437/500\n",
      "521/521 [==============================] - 0s 35us/step - loss: 0.4217 - accuracy: 0.7889\n",
      "Epoch 438/500\n",
      "521/521 [==============================] - 0s 36us/step - loss: 0.4380 - accuracy: 0.7697\n",
      "Epoch 439/500\n",
      "521/521 [==============================] - 0s 35us/step - loss: 0.4393 - accuracy: 0.7524\n",
      "Epoch 440/500\n",
      "521/521 [==============================] - 0s 35us/step - loss: 0.4330 - accuracy: 0.7735\n",
      "Epoch 441/500\n",
      "521/521 [==============================] - 0s 33us/step - loss: 0.4231 - accuracy: 0.7927\n",
      "Epoch 442/500\n",
      "521/521 [==============================] - 0s 35us/step - loss: 0.4228 - accuracy: 0.7793\n",
      "Epoch 443/500\n",
      "521/521 [==============================] - 0s 33us/step - loss: 0.4257 - accuracy: 0.7831\n",
      "Epoch 444/500\n",
      "521/521 [==============================] - 0s 33us/step - loss: 0.4230 - accuracy: 0.7774\n",
      "Epoch 445/500\n",
      "521/521 [==============================] - 0s 33us/step - loss: 0.4221 - accuracy: 0.7889\n",
      "Epoch 446/500\n",
      "521/521 [==============================] - 0s 33us/step - loss: 0.4200 - accuracy: 0.7927\n",
      "Epoch 447/500\n",
      "521/521 [==============================] - 0s 33us/step - loss: 0.4424 - accuracy: 0.7812\n",
      "Epoch 448/500\n",
      "521/521 [==============================] - 0s 31us/step - loss: 0.4260 - accuracy: 0.7793\n",
      "Epoch 449/500\n",
      "521/521 [==============================] - 0s 35us/step - loss: 0.4225 - accuracy: 0.8004\n",
      "Epoch 450/500\n",
      "521/521 [==============================] - 0s 35us/step - loss: 0.4273 - accuracy: 0.7889\n",
      "Epoch 451/500\n",
      "521/521 [==============================] - 0s 38us/step - loss: 0.4218 - accuracy: 0.7735\n",
      "Epoch 452/500\n",
      "521/521 [==============================] - 0s 29us/step - loss: 0.4243 - accuracy: 0.7985\n",
      "Epoch 453/500\n",
      "521/521 [==============================] - 0s 35us/step - loss: 0.4233 - accuracy: 0.7735\n",
      "Epoch 454/500\n",
      "521/521 [==============================] - 0s 35us/step - loss: 0.4223 - accuracy: 0.7793\n",
      "Epoch 455/500\n",
      "521/521 [==============================] - 0s 33us/step - loss: 0.4201 - accuracy: 0.7965\n",
      "Epoch 456/500\n",
      "521/521 [==============================] - 0s 31us/step - loss: 0.4289 - accuracy: 0.7735\n",
      "Epoch 457/500\n",
      "521/521 [==============================] - 0s 36us/step - loss: 0.4253 - accuracy: 0.7812\n",
      "Epoch 458/500\n",
      "521/521 [==============================] - ETA: 0s - loss: 0.3492 - accuracy: 0.87 - 0s 35us/step - loss: 0.4332 - accuracy: 0.7793\n",
      "Epoch 459/500\n",
      "521/521 [==============================] - 0s 33us/step - loss: 0.4355 - accuracy: 0.7716\n",
      "Epoch 460/500\n",
      "521/521 [==============================] - 0s 35us/step - loss: 0.4189 - accuracy: 0.7774\n",
      "Epoch 461/500\n",
      "521/521 [==============================] - 0s 33us/step - loss: 0.4137 - accuracy: 0.7869\n",
      "Epoch 462/500\n",
      "521/521 [==============================] - 0s 40us/step - loss: 0.4250 - accuracy: 0.7927\n",
      "Epoch 463/500\n",
      "521/521 [==============================] - 0s 33us/step - loss: 0.4250 - accuracy: 0.7831\n",
      "Epoch 464/500\n",
      "521/521 [==============================] - 0s 33us/step - loss: 0.4215 - accuracy: 0.7774\n",
      "Epoch 465/500\n",
      "521/521 [==============================] - 0s 35us/step - loss: 0.4215 - accuracy: 0.7774\n",
      "Epoch 466/500\n",
      "521/521 [==============================] - 0s 35us/step - loss: 0.4238 - accuracy: 0.7927\n",
      "Epoch 467/500\n",
      "521/521 [==============================] - 0s 56us/step - loss: 0.4246 - accuracy: 0.7927\n",
      "Epoch 468/500\n",
      "521/521 [==============================] - 0s 46us/step - loss: 0.4262 - accuracy: 0.7620\n",
      "Epoch 469/500\n",
      "521/521 [==============================] - 0s 36us/step - loss: 0.4314 - accuracy: 0.7716\n",
      "Epoch 470/500\n",
      "521/521 [==============================] - 0s 36us/step - loss: 0.4175 - accuracy: 0.7754\n",
      "Epoch 471/500\n"
     ]
    },
    {
     "name": "stdout",
     "output_type": "stream",
     "text": [
      "521/521 [==============================] - 0s 33us/step - loss: 0.4159 - accuracy: 0.7850\n",
      "Epoch 472/500\n",
      "521/521 [==============================] - 0s 33us/step - loss: 0.4167 - accuracy: 0.7985\n",
      "Epoch 473/500\n",
      "521/521 [==============================] - 0s 38us/step - loss: 0.4126 - accuracy: 0.7850\n",
      "Epoch 474/500\n",
      "521/521 [==============================] - 0s 31us/step - loss: 0.4191 - accuracy: 0.7946\n",
      "Epoch 475/500\n",
      "521/521 [==============================] - 0s 40us/step - loss: 0.4246 - accuracy: 0.7735\n",
      "Epoch 476/500\n",
      "521/521 [==============================] - 0s 35us/step - loss: 0.4136 - accuracy: 0.7908\n",
      "Epoch 477/500\n",
      "521/521 [==============================] - 0s 35us/step - loss: 0.4143 - accuracy: 0.8081\n",
      "Epoch 478/500\n",
      "521/521 [==============================] - 0s 33us/step - loss: 0.4173 - accuracy: 0.7812\n",
      "Epoch 479/500\n",
      "521/521 [==============================] - 0s 31us/step - loss: 0.4129 - accuracy: 0.7754\n",
      "Epoch 480/500\n",
      "521/521 [==============================] - 0s 29us/step - loss: 0.4235 - accuracy: 0.7716\n",
      "Epoch 481/500\n",
      "521/521 [==============================] - 0s 33us/step - loss: 0.4116 - accuracy: 0.7793\n",
      "Epoch 482/500\n",
      "521/521 [==============================] - 0s 33us/step - loss: 0.4117 - accuracy: 0.7985\n",
      "Epoch 483/500\n",
      "521/521 [==============================] - 0s 33us/step - loss: 0.4217 - accuracy: 0.7812\n",
      "Epoch 484/500\n",
      "521/521 [==============================] - 0s 35us/step - loss: 0.4080 - accuracy: 0.8042\n",
      "Epoch 485/500\n",
      "521/521 [==============================] - 0s 33us/step - loss: 0.4135 - accuracy: 0.7946\n",
      "Epoch 486/500\n",
      "521/521 [==============================] - 0s 31us/step - loss: 0.4271 - accuracy: 0.7869\n",
      "Epoch 487/500\n",
      "521/521 [==============================] - 0s 31us/step - loss: 0.4157 - accuracy: 0.7889\n",
      "Epoch 488/500\n",
      "521/521 [==============================] - 0s 33us/step - loss: 0.4176 - accuracy: 0.7965\n",
      "Epoch 489/500\n",
      "521/521 [==============================] - 0s 35us/step - loss: 0.4397 - accuracy: 0.7658\n",
      "Epoch 490/500\n",
      "521/521 [==============================] - 0s 36us/step - loss: 0.4130 - accuracy: 0.7754\n",
      "Epoch 491/500\n",
      "521/521 [==============================] - 0s 35us/step - loss: 0.4121 - accuracy: 0.7985\n",
      "Epoch 492/500\n",
      "521/521 [==============================] - 0s 31us/step - loss: 0.4075 - accuracy: 0.7831\n",
      "Epoch 493/500\n",
      "521/521 [==============================] - 0s 33us/step - loss: 0.4071 - accuracy: 0.7889\n",
      "Epoch 494/500\n",
      "521/521 [==============================] - 0s 31us/step - loss: 0.4089 - accuracy: 0.8100\n",
      "Epoch 495/500\n",
      "521/521 [==============================] - 0s 31us/step - loss: 0.4096 - accuracy: 0.7889\n",
      "Epoch 496/500\n",
      "521/521 [==============================] - 0s 33us/step - loss: 0.4118 - accuracy: 0.7908\n",
      "Epoch 497/500\n",
      "521/521 [==============================] - 0s 35us/step - loss: 0.4048 - accuracy: 0.7985\n",
      "Epoch 498/500\n",
      "521/521 [==============================] - 0s 35us/step - loss: 0.4266 - accuracy: 0.7716\n",
      "Epoch 499/500\n",
      "521/521 [==============================] - 0s 36us/step - loss: 0.4224 - accuracy: 0.7601\n",
      "Epoch 500/500\n",
      "521/521 [==============================] - 0s 33us/step - loss: 0.4233 - accuracy: 0.7869\n"
     ]
    },
    {
     "data": {
      "text/plain": [
       "<keras.callbacks.callbacks.History at 0x145fab0eac8>"
      ]
     },
     "execution_count": 39,
     "metadata": {},
     "output_type": "execute_result"
    }
   ],
   "source": [
    "model.fit(X_train,y_train,epochs=500)"
   ]
  },
  {
   "cell_type": "code",
   "execution_count": 40,
   "metadata": {},
   "outputs": [],
   "source": [
    "metrics=pd.DataFrame(model.history.history)"
   ]
  },
  {
   "cell_type": "code",
   "execution_count": 41,
   "metadata": {},
   "outputs": [
    {
     "data": {
      "text/plain": [
       "<matplotlib.axes._subplots.AxesSubplot at 0x145faa33e08>"
      ]
     },
     "execution_count": 41,
     "metadata": {},
     "output_type": "execute_result"
    },
    {
     "data": {
      "image/png": "[encoded data removed]",
      "text/plain": [
       "<Figure size 432x288 with 1 Axes>"
      ]
     },
     "metadata": {
      "needs_background": "light"
     },
     "output_type": "display_data"
    }
   ],
   "source": [
    "metrics.plot()"
   ]
  },
  {
   "cell_type": "code",
   "execution_count": 42,
   "metadata": {},
   "outputs": [
    {
     "name": "stdout",
     "output_type": "stream",
     "text": [
      "58/58 [==============================] - 0s 345us/step\n"
     ]
    }
   ],
   "source": [
    "score=model.evaluate(X_test,y_test)"
   ]
  },
  {
   "cell_type": "code",
   "execution_count": 43,
   "metadata": {},
   "outputs": [
    {
     "name": "stdout",
     "output_type": "stream",
     "text": [
      "score [0.5216329303281061, 0.7586206793785095]\n"
     ]
    }
   ],
   "source": [
    "print('score',score)"
   ]
  },
  {
   "cell_type": "code",
   "execution_count": 44,
   "metadata": {},
   "outputs": [],
   "source": [
    "y_pred=model.predict_classes(X_test)"
   ]
  },
  {
   "cell_type": "code",
   "execution_count": 45,
   "metadata": {},
   "outputs": [
    {
     "data": {
      "text/plain": [
       "array([0, 0, 1, 0, 1, 1, 1, 0, 0, 0, 1, 0, 0, 0, 0, 0, 1, 0, 0, 1, 1, 0,\n",
       "       0, 0, 1, 0, 1, 0, 0, 0, 1, 1, 0, 0, 1, 1, 0, 0, 1, 1, 0, 0, 0, 0,\n",
       "       0, 1, 1, 1, 0, 1, 0, 1, 0, 0, 0, 1, 1, 0], dtype=int64)"
      ]
     },
     "execution_count": 45,
     "metadata": {},
     "output_type": "execute_result"
    }
   ],
   "source": [
    "y_pred"
   ]
  },
  {
   "cell_type": "code",
   "execution_count": 47,
   "metadata": {},
   "outputs": [],
   "source": [
    "y=df.iloc[:,-1]"
   ]
  },
  {
   "cell_type": "code",
   "execution_count": 48,
   "metadata": {},
   "outputs": [],
   "source": [
    " X_train, X_test, y_train, y_test=train_test_split(X,y,train_size=0.9,stratify=y)"
   ]
  },
  {
   "cell_type": "code",
   "execution_count": 62,
   "metadata": {},
   "outputs": [],
   "source": [
    "test=pd.DataFrame({'Actual':y_test,'Predicted':y_pred})"
   ]
  },
  {
   "cell_type": "code",
   "execution_count": 76,
   "metadata": {},
   "outputs": [
    {
     "data": {
      "text/plain": [
       "0    41\n",
       "1    17\n",
       "Name: Actual, dtype: int64"
      ]
     },
     "execution_count": 76,
     "metadata": {},
     "output_type": "execute_result"
    }
   ],
   "source": [
    "test['Actual'].value_counts()"
   ]
  },
  {
   "cell_type": "code",
   "execution_count": 78,
   "metadata": {},
   "outputs": [
    {
     "data": {
      "text/plain": [
       "0    35\n",
       "1    23\n",
       "Name: Predicted, dtype: int64"
      ]
     },
     "execution_count": 78,
     "metadata": {},
     "output_type": "execute_result"
    }
   ],
   "source": [
    "test['Predicted'].value_counts()"
   ]
  },
  {
   "cell_type": "code",
   "execution_count": null,
   "metadata": {},
   "outputs": [],
   "source": []
  }
 ],
 "metadata": {
  "kernelspec": {
   "display_name": "Python 3",
   "language": "python",
   "name": "python3"
  },
  "language_info": {
   "codemirror_mode": {
    "name": "ipython",
    "version": 3
   },
   "file_extension": ".py",
   "mimetype": "text/x-python",
   "name": "python",
   "nbconvert_exporter": "python",
   "pygments_lexer": "ipython3",
   "version": "3.7.4"
  }
 },
 "nbformat": 4,
 "nbformat_minor": 2
}
