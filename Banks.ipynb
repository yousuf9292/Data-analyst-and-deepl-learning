{
 "cells": [
  {
   "cell_type": "code",
   "execution_count": 1,
   "metadata": {},
   "outputs": [],
   "source": [
    "import pandas as pd\n",
    "import matplotlib.pyplot as plt\n",
    "import numpy as np\n",
    "import seaborn as sns"
   ]
  },
  {
   "cell_type": "code",
   "execution_count": 2,
   "metadata": {},
   "outputs": [],
   "source": [
    "df=pd.read_csv('C:/Users/yousuf/Downloads/bank/bank-full.csv',sep=';')"
   ]
  },
  {
   "cell_type": "code",
   "execution_count": 3,
   "metadata": {},
   "outputs": [
    {
     "data": {
      "text/html": [
       "<div>\n",
       "<style scoped>\n",
       "    .dataframe tbody tr th:only-of-type {\n",
       "        vertical-align: middle;\n",
       "    }\n",
       "\n",
       "    .dataframe tbody tr th {\n",
       "        vertical-align: top;\n",
       "    }\n",
       "\n",
       "    .dataframe thead th {\n",
       "        text-align: right;\n",
       "    }\n",
       "</style>\n",
       "<table border=\"1\" class=\"dataframe\">\n",
       "  <thead>\n",
       "    <tr style=\"text-align: right;\">\n",
       "      <th></th>\n",
       "      <th>age</th>\n",
       "      <th>job</th>\n",
       "      <th>marital</th>\n",
       "      <th>education</th>\n",
       "      <th>default</th>\n",
       "      <th>balance</th>\n",
       "      <th>housing</th>\n",
       "      <th>loan</th>\n",
       "      <th>contact</th>\n",
       "      <th>day</th>\n",
       "      <th>month</th>\n",
       "      <th>duration</th>\n",
       "      <th>campaign</th>\n",
       "      <th>pdays</th>\n",
       "      <th>previous</th>\n",
       "      <th>poutcome</th>\n",
       "      <th>y</th>\n",
       "    </tr>\n",
       "  </thead>\n",
       "  <tbody>\n",
       "    <tr>\n",
       "      <td>0</td>\n",
       "      <td>58</td>\n",
       "      <td>management</td>\n",
       "      <td>married</td>\n",
       "      <td>tertiary</td>\n",
       "      <td>no</td>\n",
       "      <td>2143</td>\n",
       "      <td>yes</td>\n",
       "      <td>no</td>\n",
       "      <td>unknown</td>\n",
       "      <td>5</td>\n",
       "      <td>may</td>\n",
       "      <td>261</td>\n",
       "      <td>1</td>\n",
       "      <td>-1</td>\n",
       "      <td>0</td>\n",
       "      <td>unknown</td>\n",
       "      <td>no</td>\n",
       "    </tr>\n",
       "    <tr>\n",
       "      <td>1</td>\n",
       "      <td>44</td>\n",
       "      <td>technician</td>\n",
       "      <td>single</td>\n",
       "      <td>secondary</td>\n",
       "      <td>no</td>\n",
       "      <td>29</td>\n",
       "      <td>yes</td>\n",
       "      <td>no</td>\n",
       "      <td>unknown</td>\n",
       "      <td>5</td>\n",
       "      <td>may</td>\n",
       "      <td>151</td>\n",
       "      <td>1</td>\n",
       "      <td>-1</td>\n",
       "      <td>0</td>\n",
       "      <td>unknown</td>\n",
       "      <td>no</td>\n",
       "    </tr>\n",
       "    <tr>\n",
       "      <td>2</td>\n",
       "      <td>33</td>\n",
       "      <td>entrepreneur</td>\n",
       "      <td>married</td>\n",
       "      <td>secondary</td>\n",
       "      <td>no</td>\n",
       "      <td>2</td>\n",
       "      <td>yes</td>\n",
       "      <td>yes</td>\n",
       "      <td>unknown</td>\n",
       "      <td>5</td>\n",
       "      <td>may</td>\n",
       "      <td>76</td>\n",
       "      <td>1</td>\n",
       "      <td>-1</td>\n",
       "      <td>0</td>\n",
       "      <td>unknown</td>\n",
       "      <td>no</td>\n",
       "    </tr>\n",
       "    <tr>\n",
       "      <td>3</td>\n",
       "      <td>47</td>\n",
       "      <td>blue-collar</td>\n",
       "      <td>married</td>\n",
       "      <td>unknown</td>\n",
       "      <td>no</td>\n",
       "      <td>1506</td>\n",
       "      <td>yes</td>\n",
       "      <td>no</td>\n",
       "      <td>unknown</td>\n",
       "      <td>5</td>\n",
       "      <td>may</td>\n",
       "      <td>92</td>\n",
       "      <td>1</td>\n",
       "      <td>-1</td>\n",
       "      <td>0</td>\n",
       "      <td>unknown</td>\n",
       "      <td>no</td>\n",
       "    </tr>\n",
       "    <tr>\n",
       "      <td>4</td>\n",
       "      <td>33</td>\n",
       "      <td>unknown</td>\n",
       "      <td>single</td>\n",
       "      <td>unknown</td>\n",
       "      <td>no</td>\n",
       "      <td>1</td>\n",
       "      <td>no</td>\n",
       "      <td>no</td>\n",
       "      <td>unknown</td>\n",
       "      <td>5</td>\n",
       "      <td>may</td>\n",
       "      <td>198</td>\n",
       "      <td>1</td>\n",
       "      <td>-1</td>\n",
       "      <td>0</td>\n",
       "      <td>unknown</td>\n",
       "      <td>no</td>\n",
       "    </tr>\n",
       "  </tbody>\n",
       "</table>\n",
       "</div>"
      ],
      "text/plain": [
       "   age           job  marital  education default  balance housing loan  \\\n",
       "0   58    management  married   tertiary      no     2143     yes   no   \n",
       "1   44    technician   single  secondary      no       29     yes   no   \n",
       "2   33  entrepreneur  married  secondary      no        2     yes  yes   \n",
       "3   47   blue-collar  married    unknown      no     1506     yes   no   \n",
       "4   33       unknown   single    unknown      no        1      no   no   \n",
       "\n",
       "   contact  day month  duration  campaign  pdays  previous poutcome   y  \n",
       "0  unknown    5   may       261         1     -1         0  unknown  no  \n",
       "1  unknown    5   may       151         1     -1         0  unknown  no  \n",
       "2  unknown    5   may        76         1     -1         0  unknown  no  \n",
       "3  unknown    5   may        92         1     -1         0  unknown  no  \n",
       "4  unknown    5   may       198         1     -1         0  unknown  no  "
      ]
     },
     "execution_count": 3,
     "metadata": {},
     "output_type": "execute_result"
    }
   ],
   "source": [
    "df.head()"
   ]
  },
  {
   "cell_type": "code",
   "execution_count": 4,
   "metadata": {},
   "outputs": [
    {
     "name": "stdout",
     "output_type": "stream",
     "text": [
      "<class 'pandas.core.frame.DataFrame'>\n",
      "RangeIndex: 45211 entries, 0 to 45210\n",
      "Data columns (total 17 columns):\n",
      "age          45211 non-null int64\n",
      "job          45211 non-null object\n",
      "marital      45211 non-null object\n",
      "education    45211 non-null object\n",
      "default      45211 non-null object\n",
      "balance      45211 non-null int64\n",
      "housing      45211 non-null object\n",
      "loan         45211 non-null object\n",
      "contact      45211 non-null object\n",
      "day          45211 non-null int64\n",
      "month        45211 non-null object\n",
      "duration     45211 non-null int64\n",
      "campaign     45211 non-null int64\n",
      "pdays        45211 non-null int64\n",
      "previous     45211 non-null int64\n",
      "poutcome     45211 non-null object\n",
      "y            45211 non-null object\n",
      "dtypes: int64(7), object(10)\n",
      "memory usage: 5.9+ MB\n"
     ]
    }
   ],
   "source": [
    "df.info()"
   ]
  },
  {
   "cell_type": "code",
   "execution_count": 5,
   "metadata": {},
   "outputs": [
    {
     "data": {
      "text/plain": [
       "<matplotlib.axes._subplots.AxesSubplot at 0x23665647fc8>"
      ]
     },
     "execution_count": 5,
     "metadata": {},
     "output_type": "execute_result"
    },
    {
     "data": {
      "image/png": "[encoded data removed]",
      "text/plain": [
       "<Figure size 432x288 with 1 Axes>"
      ]
     },
     "metadata": {
      "needs_background": "light"
     },
     "output_type": "display_data"
    }
   ],
   "source": [
    "sns.countplot('y',data=df)"
   ]
  },
  {
   "cell_type": "code",
   "execution_count": 6,
   "metadata": {},
   "outputs": [
    {
     "data": {
      "text/plain": [
       "no     39922\n",
       "yes     5289\n",
       "Name: y, dtype: int64"
      ]
     },
     "execution_count": 6,
     "metadata": {},
     "output_type": "execute_result"
    }
   ],
   "source": [
    "df.y.value_counts()"
   ]
  },
  {
   "cell_type": "code",
   "execution_count": 7,
   "metadata": {},
   "outputs": [
    {
     "data": {
      "text/plain": [
       "0.8830151954170445"
      ]
     },
     "execution_count": 7,
     "metadata": {},
     "output_type": "execute_result"
    }
   ],
   "source": [
    "39922/len(df)"
   ]
  },
  {
   "cell_type": "code",
   "execution_count": 9,
   "metadata": {},
   "outputs": [
    {
     "data": {
      "text/plain": [
       "Text(0.5, 0, 'Age')"
      ]
     },
     "execution_count": 9,
     "metadata": {},
     "output_type": "execute_result"
    },
    {
     "data": {
      "image/png": "[encoded data removed]",
      "text/plain": [
       "<Figure size 432x288 with 1 Axes>"
      ]
     },
     "metadata": {
      "needs_background": "light"
     },
     "output_type": "display_data"
    }
   ],
   "source": [
    "plt.title('Banks accounts according to age')\n",
    "sns.distplot(df.age)\n",
    "plt.xlabel('Age')"
   ]
  },
  {
   "cell_type": "code",
   "execution_count": 10,
   "metadata": {},
   "outputs": [],
   "source": [
    "sub_df=df.loc[(df.age>=30) & (df.age<=50),['balance','job','age']]"
   ]
  },
  {
   "cell_type": "code",
   "execution_count": 11,
   "metadata": {},
   "outputs": [
    {
     "data": {
      "text/html": [
       "<div>\n",
       "<style scoped>\n",
       "    .dataframe tbody tr th:only-of-type {\n",
       "        vertical-align: middle;\n",
       "    }\n",
       "\n",
       "    .dataframe tbody tr th {\n",
       "        vertical-align: top;\n",
       "    }\n",
       "\n",
       "    .dataframe thead th {\n",
       "        text-align: right;\n",
       "    }\n",
       "</style>\n",
       "<table border=\"1\" class=\"dataframe\">\n",
       "  <thead>\n",
       "    <tr style=\"text-align: right;\">\n",
       "      <th></th>\n",
       "      <th>balance</th>\n",
       "      <th>job</th>\n",
       "      <th>age</th>\n",
       "    </tr>\n",
       "  </thead>\n",
       "  <tbody>\n",
       "    <tr>\n",
       "      <td>1</td>\n",
       "      <td>29</td>\n",
       "      <td>technician</td>\n",
       "      <td>44</td>\n",
       "    </tr>\n",
       "    <tr>\n",
       "      <td>2</td>\n",
       "      <td>2</td>\n",
       "      <td>entrepreneur</td>\n",
       "      <td>33</td>\n",
       "    </tr>\n",
       "    <tr>\n",
       "      <td>3</td>\n",
       "      <td>1506</td>\n",
       "      <td>blue-collar</td>\n",
       "      <td>47</td>\n",
       "    </tr>\n",
       "    <tr>\n",
       "      <td>4</td>\n",
       "      <td>1</td>\n",
       "      <td>unknown</td>\n",
       "      <td>33</td>\n",
       "    </tr>\n",
       "    <tr>\n",
       "      <td>5</td>\n",
       "      <td>231</td>\n",
       "      <td>management</td>\n",
       "      <td>35</td>\n",
       "    </tr>\n",
       "    <tr>\n",
       "      <td>...</td>\n",
       "      <td>...</td>\n",
       "      <td>...</td>\n",
       "      <td>...</td>\n",
       "    </tr>\n",
       "    <tr>\n",
       "      <td>45198</td>\n",
       "      <td>1428</td>\n",
       "      <td>management</td>\n",
       "      <td>37</td>\n",
       "    </tr>\n",
       "    <tr>\n",
       "      <td>45199</td>\n",
       "      <td>1475</td>\n",
       "      <td>blue-collar</td>\n",
       "      <td>34</td>\n",
       "    </tr>\n",
       "    <tr>\n",
       "      <td>45200</td>\n",
       "      <td>557</td>\n",
       "      <td>technician</td>\n",
       "      <td>38</td>\n",
       "    </tr>\n",
       "    <tr>\n",
       "      <td>45202</td>\n",
       "      <td>557</td>\n",
       "      <td>admin.</td>\n",
       "      <td>34</td>\n",
       "    </tr>\n",
       "    <tr>\n",
       "      <td>45210</td>\n",
       "      <td>2971</td>\n",
       "      <td>entrepreneur</td>\n",
       "      <td>37</td>\n",
       "    </tr>\n",
       "  </tbody>\n",
       "</table>\n",
       "<p>30683 rows × 3 columns</p>\n",
       "</div>"
      ],
      "text/plain": [
       "       balance           job  age\n",
       "1           29    technician   44\n",
       "2            2  entrepreneur   33\n",
       "3         1506   blue-collar   47\n",
       "4            1       unknown   33\n",
       "5          231    management   35\n",
       "...        ...           ...  ...\n",
       "45198     1428    management   37\n",
       "45199     1475   blue-collar   34\n",
       "45200      557    technician   38\n",
       "45202      557        admin.   34\n",
       "45210     2971  entrepreneur   37\n",
       "\n",
       "[30683 rows x 3 columns]"
      ]
     },
     "execution_count": 11,
     "metadata": {},
     "output_type": "execute_result"
    }
   ],
   "source": [
    "sub_df"
   ]
  },
  {
   "cell_type": "code",
   "execution_count": 16,
   "metadata": {},
   "outputs": [
    {
     "data": {
      "image/png": "[encoded data removed]",
      "text/plain": [
       "<Figure size 1440x720 with 1 Axes>"
      ]
     },
     "metadata": {
      "needs_background": "light"
     },
     "output_type": "display_data"
    }
   ],
   "source": [
    "plt.figure(figsize=(20,10))\n",
    "plt.title('Person Jobs and their Balance in Account')\n",
    "sns.barplot(x='job',y='balance',data=sub_df)\n",
    "plt.xlabel('Jobs')\n",
    "plt.ylabel('Balance')\n",
    "plt.show()"
   ]
  },
  {
   "cell_type": "code",
   "execution_count": 42,
   "metadata": {},
   "outputs": [
    {
     "name": "stdout",
     "output_type": "stream",
     "text": [
      "Maximum Balance in Account 102127\n",
      "Person Job Who got highiest Balance management\n"
     ]
    }
   ],
   "source": [
    "print('Maximum Balance in Account '+str(df.balance.max()))\n",
    "print('Person Job Who got highiest Balance '+str(df.loc[df.balance==102127,'job'].values[0]))"
   ]
  },
  {
   "cell_type": "code",
   "execution_count": 49,
   "metadata": {},
   "outputs": [
    {
     "name": "stdout",
     "output_type": "stream",
     "text": [
      "Minimum Balance in Account -8019\n",
      "Person Job Who got lowest Balance blue-collar\n"
     ]
    }
   ],
   "source": [
    "print('Minimum Balance in Account '+str(df.balance.min()))\n",
    "print('Person Job Who got lowest Balance '+str(df.loc[df.balance==-8019,'job'].values[0]))"
   ]
  },
  {
   "cell_type": "code",
   "execution_count": 11,
   "metadata": {},
   "outputs": [
    {
     "data": {
      "text/html": [
       "<div>\n",
       "<style scoped>\n",
       "    .dataframe tbody tr th:only-of-type {\n",
       "        vertical-align: middle;\n",
       "    }\n",
       "\n",
       "    .dataframe tbody tr th {\n",
       "        vertical-align: top;\n",
       "    }\n",
       "\n",
       "    .dataframe thead th {\n",
       "        text-align: right;\n",
       "    }\n",
       "</style>\n",
       "<table border=\"1\" class=\"dataframe\">\n",
       "  <thead>\n",
       "    <tr style=\"text-align: right;\">\n",
       "      <th></th>\n",
       "      <th>age</th>\n",
       "      <th>job</th>\n",
       "      <th>marital</th>\n",
       "      <th>education</th>\n",
       "      <th>default</th>\n",
       "      <th>balance</th>\n",
       "      <th>housing</th>\n",
       "      <th>loan</th>\n",
       "      <th>contact</th>\n",
       "      <th>day</th>\n",
       "      <th>month</th>\n",
       "      <th>duration</th>\n",
       "      <th>campaign</th>\n",
       "      <th>pdays</th>\n",
       "      <th>previous</th>\n",
       "      <th>poutcome</th>\n",
       "      <th>y</th>\n",
       "    </tr>\n",
       "  </thead>\n",
       "  <tbody>\n",
       "    <tr>\n",
       "      <td>39989</td>\n",
       "      <td>51</td>\n",
       "      <td>management</td>\n",
       "      <td>single</td>\n",
       "      <td>tertiary</td>\n",
       "      <td>no</td>\n",
       "      <td>102127</td>\n",
       "      <td>no</td>\n",
       "      <td>no</td>\n",
       "      <td>cellular</td>\n",
       "      <td>3</td>\n",
       "      <td>jun</td>\n",
       "      <td>90</td>\n",
       "      <td>1</td>\n",
       "      <td>-1</td>\n",
       "      <td>0</td>\n",
       "      <td>unknown</td>\n",
       "      <td>no</td>\n",
       "    </tr>\n",
       "  </tbody>\n",
       "</table>\n",
       "</div>"
      ],
      "text/plain": [
       "       age         job marital education default  balance housing loan  \\\n",
       "39989   51  management  single  tertiary      no   102127      no   no   \n",
       "\n",
       "        contact  day month  duration  campaign  pdays  previous poutcome   y  \n",
       "39989  cellular    3   jun        90         1     -1         0  unknown  no  "
      ]
     },
     "execution_count": 11,
     "metadata": {},
     "output_type": "execute_result"
    }
   ],
   "source": [
    "df[df.balance==102127]"
   ]
  },
  {
   "cell_type": "code",
   "execution_count": 12,
   "metadata": {},
   "outputs": [
    {
     "data": {
      "text/html": [
       "<div>\n",
       "<style scoped>\n",
       "    .dataframe tbody tr th:only-of-type {\n",
       "        vertical-align: middle;\n",
       "    }\n",
       "\n",
       "    .dataframe tbody tr th {\n",
       "        vertical-align: top;\n",
       "    }\n",
       "\n",
       "    .dataframe thead th {\n",
       "        text-align: right;\n",
       "    }\n",
       "</style>\n",
       "<table border=\"1\" class=\"dataframe\">\n",
       "  <thead>\n",
       "    <tr style=\"text-align: right;\">\n",
       "      <th></th>\n",
       "      <th>age</th>\n",
       "      <th>job</th>\n",
       "      <th>marital</th>\n",
       "      <th>education</th>\n",
       "      <th>default</th>\n",
       "      <th>balance</th>\n",
       "      <th>housing</th>\n",
       "      <th>loan</th>\n",
       "      <th>contact</th>\n",
       "      <th>day</th>\n",
       "      <th>month</th>\n",
       "      <th>duration</th>\n",
       "      <th>campaign</th>\n",
       "      <th>pdays</th>\n",
       "      <th>previous</th>\n",
       "      <th>poutcome</th>\n",
       "      <th>y</th>\n",
       "    </tr>\n",
       "  </thead>\n",
       "  <tbody>\n",
       "    <tr>\n",
       "      <td>12909</td>\n",
       "      <td>26</td>\n",
       "      <td>blue-collar</td>\n",
       "      <td>single</td>\n",
       "      <td>secondary</td>\n",
       "      <td>yes</td>\n",
       "      <td>-8019</td>\n",
       "      <td>no</td>\n",
       "      <td>yes</td>\n",
       "      <td>cellular</td>\n",
       "      <td>7</td>\n",
       "      <td>jul</td>\n",
       "      <td>299</td>\n",
       "      <td>3</td>\n",
       "      <td>-1</td>\n",
       "      <td>0</td>\n",
       "      <td>unknown</td>\n",
       "      <td>no</td>\n",
       "    </tr>\n",
       "  </tbody>\n",
       "</table>\n",
       "</div>"
      ],
      "text/plain": [
       "       age          job marital  education default  balance housing loan  \\\n",
       "12909   26  blue-collar  single  secondary     yes    -8019      no  yes   \n",
       "\n",
       "        contact  day month  duration  campaign  pdays  previous poutcome   y  \n",
       "12909  cellular    7   jul       299         3     -1         0  unknown  no  "
      ]
     },
     "execution_count": 12,
     "metadata": {},
     "output_type": "execute_result"
    }
   ],
   "source": [
    "df[df.balance==-8019]"
   ]
  },
  {
   "cell_type": "code",
   "execution_count": 13,
   "metadata": {},
   "outputs": [
    {
     "data": {
      "text/plain": [
       "age          0\n",
       "job          0\n",
       "marital      0\n",
       "education    0\n",
       "default      0\n",
       "balance      0\n",
       "housing      0\n",
       "loan         0\n",
       "contact      0\n",
       "day          0\n",
       "month        0\n",
       "duration     0\n",
       "campaign     0\n",
       "pdays        0\n",
       "previous     0\n",
       "poutcome     0\n",
       "y            0\n",
       "dtype: int64"
      ]
     },
     "execution_count": 13,
     "metadata": {},
     "output_type": "execute_result"
    }
   ],
   "source": [
    "df.isna().sum()"
   ]
  },
  {
   "cell_type": "code",
   "execution_count": 69,
   "metadata": {},
   "outputs": [
    {
     "data": {
      "text/plain": [
       "array(['management', 'technician', 'entrepreneur', 'blue-collar',\n",
       "       'unknown', 'retired', 'admin.', 'services', 'self-employed',\n",
       "       'unemployed', 'housemaid', 'student'], dtype=object)"
      ]
     },
     "execution_count": 69,
     "metadata": {},
     "output_type": "execute_result"
    }
   ],
   "source": [
    "df.job.unique()"
   ]
  },
  {
   "cell_type": "code",
   "execution_count": 16,
   "metadata": {},
   "outputs": [],
   "source": [
    "from sklearn.preprocessing import LabelEncoder"
   ]
  },
  {
   "cell_type": "code",
   "execution_count": 17,
   "metadata": {},
   "outputs": [],
   "source": [
    "lb=LabelEncoder()"
   ]
  },
  {
   "cell_type": "code",
   "execution_count": 18,
   "metadata": {},
   "outputs": [],
   "source": [
    "df.job=lb.fit_transform(df.job)"
   ]
  },
  {
   "cell_type": "code",
   "execution_count": 19,
   "metadata": {
    "scrolled": true
   },
   "outputs": [],
   "source": [
    "df.marital=lb.fit_transform(df.marital)\n",
    "df.education=lb.fit_transform(df.education)\n",
    "df.default=lb.fit_transform(df.default)\n",
    "df.housing=lb.fit_transform(df.housing)\n",
    "df.loan=lb.fit_transform(df.loan)\n",
    "df.contact=lb.fit_transform(df.contact)\n",
    "df.month=lb.fit_transform(df.month)\n",
    "df.poutcome=lb.fit_transform(df.poutcome)"
   ]
  },
  {
   "cell_type": "code",
   "execution_count": 20,
   "metadata": {},
   "outputs": [],
   "source": [
    "df.y=lb.fit_transform(df.y)"
   ]
  },
  {
   "cell_type": "code",
   "execution_count": 21,
   "metadata": {},
   "outputs": [
    {
     "data": {
      "text/html": [
       "<div>\n",
       "<style scoped>\n",
       "    .dataframe tbody tr th:only-of-type {\n",
       "        vertical-align: middle;\n",
       "    }\n",
       "\n",
       "    .dataframe tbody tr th {\n",
       "        vertical-align: top;\n",
       "    }\n",
       "\n",
       "    .dataframe thead th {\n",
       "        text-align: right;\n",
       "    }\n",
       "</style>\n",
       "<table border=\"1\" class=\"dataframe\">\n",
       "  <thead>\n",
       "    <tr style=\"text-align: right;\">\n",
       "      <th></th>\n",
       "      <th>age</th>\n",
       "      <th>job</th>\n",
       "      <th>marital</th>\n",
       "      <th>education</th>\n",
       "      <th>default</th>\n",
       "      <th>balance</th>\n",
       "      <th>housing</th>\n",
       "      <th>loan</th>\n",
       "      <th>contact</th>\n",
       "      <th>day</th>\n",
       "      <th>month</th>\n",
       "      <th>duration</th>\n",
       "      <th>campaign</th>\n",
       "      <th>pdays</th>\n",
       "      <th>previous</th>\n",
       "      <th>poutcome</th>\n",
       "      <th>y</th>\n",
       "    </tr>\n",
       "  </thead>\n",
       "  <tbody>\n",
       "    <tr>\n",
       "      <td>0</td>\n",
       "      <td>58</td>\n",
       "      <td>4</td>\n",
       "      <td>1</td>\n",
       "      <td>2</td>\n",
       "      <td>0</td>\n",
       "      <td>2143</td>\n",
       "      <td>1</td>\n",
       "      <td>0</td>\n",
       "      <td>2</td>\n",
       "      <td>5</td>\n",
       "      <td>8</td>\n",
       "      <td>261</td>\n",
       "      <td>1</td>\n",
       "      <td>-1</td>\n",
       "      <td>0</td>\n",
       "      <td>3</td>\n",
       "      <td>0</td>\n",
       "    </tr>\n",
       "    <tr>\n",
       "      <td>1</td>\n",
       "      <td>44</td>\n",
       "      <td>9</td>\n",
       "      <td>2</td>\n",
       "      <td>1</td>\n",
       "      <td>0</td>\n",
       "      <td>29</td>\n",
       "      <td>1</td>\n",
       "      <td>0</td>\n",
       "      <td>2</td>\n",
       "      <td>5</td>\n",
       "      <td>8</td>\n",
       "      <td>151</td>\n",
       "      <td>1</td>\n",
       "      <td>-1</td>\n",
       "      <td>0</td>\n",
       "      <td>3</td>\n",
       "      <td>0</td>\n",
       "    </tr>\n",
       "    <tr>\n",
       "      <td>2</td>\n",
       "      <td>33</td>\n",
       "      <td>2</td>\n",
       "      <td>1</td>\n",
       "      <td>1</td>\n",
       "      <td>0</td>\n",
       "      <td>2</td>\n",
       "      <td>1</td>\n",
       "      <td>1</td>\n",
       "      <td>2</td>\n",
       "      <td>5</td>\n",
       "      <td>8</td>\n",
       "      <td>76</td>\n",
       "      <td>1</td>\n",
       "      <td>-1</td>\n",
       "      <td>0</td>\n",
       "      <td>3</td>\n",
       "      <td>0</td>\n",
       "    </tr>\n",
       "    <tr>\n",
       "      <td>3</td>\n",
       "      <td>47</td>\n",
       "      <td>1</td>\n",
       "      <td>1</td>\n",
       "      <td>3</td>\n",
       "      <td>0</td>\n",
       "      <td>1506</td>\n",
       "      <td>1</td>\n",
       "      <td>0</td>\n",
       "      <td>2</td>\n",
       "      <td>5</td>\n",
       "      <td>8</td>\n",
       "      <td>92</td>\n",
       "      <td>1</td>\n",
       "      <td>-1</td>\n",
       "      <td>0</td>\n",
       "      <td>3</td>\n",
       "      <td>0</td>\n",
       "    </tr>\n",
       "    <tr>\n",
       "      <td>4</td>\n",
       "      <td>33</td>\n",
       "      <td>11</td>\n",
       "      <td>2</td>\n",
       "      <td>3</td>\n",
       "      <td>0</td>\n",
       "      <td>1</td>\n",
       "      <td>0</td>\n",
       "      <td>0</td>\n",
       "      <td>2</td>\n",
       "      <td>5</td>\n",
       "      <td>8</td>\n",
       "      <td>198</td>\n",
       "      <td>1</td>\n",
       "      <td>-1</td>\n",
       "      <td>0</td>\n",
       "      <td>3</td>\n",
       "      <td>0</td>\n",
       "    </tr>\n",
       "    <tr>\n",
       "      <td>...</td>\n",
       "      <td>...</td>\n",
       "      <td>...</td>\n",
       "      <td>...</td>\n",
       "      <td>...</td>\n",
       "      <td>...</td>\n",
       "      <td>...</td>\n",
       "      <td>...</td>\n",
       "      <td>...</td>\n",
       "      <td>...</td>\n",
       "      <td>...</td>\n",
       "      <td>...</td>\n",
       "      <td>...</td>\n",
       "      <td>...</td>\n",
       "      <td>...</td>\n",
       "      <td>...</td>\n",
       "      <td>...</td>\n",
       "      <td>...</td>\n",
       "    </tr>\n",
       "    <tr>\n",
       "      <td>45206</td>\n",
       "      <td>51</td>\n",
       "      <td>9</td>\n",
       "      <td>1</td>\n",
       "      <td>2</td>\n",
       "      <td>0</td>\n",
       "      <td>825</td>\n",
       "      <td>0</td>\n",
       "      <td>0</td>\n",
       "      <td>0</td>\n",
       "      <td>17</td>\n",
       "      <td>9</td>\n",
       "      <td>977</td>\n",
       "      <td>3</td>\n",
       "      <td>-1</td>\n",
       "      <td>0</td>\n",
       "      <td>3</td>\n",
       "      <td>1</td>\n",
       "    </tr>\n",
       "    <tr>\n",
       "      <td>45207</td>\n",
       "      <td>71</td>\n",
       "      <td>5</td>\n",
       "      <td>0</td>\n",
       "      <td>0</td>\n",
       "      <td>0</td>\n",
       "      <td>1729</td>\n",
       "      <td>0</td>\n",
       "      <td>0</td>\n",
       "      <td>0</td>\n",
       "      <td>17</td>\n",
       "      <td>9</td>\n",
       "      <td>456</td>\n",
       "      <td>2</td>\n",
       "      <td>-1</td>\n",
       "      <td>0</td>\n",
       "      <td>3</td>\n",
       "      <td>1</td>\n",
       "    </tr>\n",
       "    <tr>\n",
       "      <td>45208</td>\n",
       "      <td>72</td>\n",
       "      <td>5</td>\n",
       "      <td>1</td>\n",
       "      <td>1</td>\n",
       "      <td>0</td>\n",
       "      <td>5715</td>\n",
       "      <td>0</td>\n",
       "      <td>0</td>\n",
       "      <td>0</td>\n",
       "      <td>17</td>\n",
       "      <td>9</td>\n",
       "      <td>1127</td>\n",
       "      <td>5</td>\n",
       "      <td>184</td>\n",
       "      <td>3</td>\n",
       "      <td>2</td>\n",
       "      <td>1</td>\n",
       "    </tr>\n",
       "    <tr>\n",
       "      <td>45209</td>\n",
       "      <td>57</td>\n",
       "      <td>1</td>\n",
       "      <td>1</td>\n",
       "      <td>1</td>\n",
       "      <td>0</td>\n",
       "      <td>668</td>\n",
       "      <td>0</td>\n",
       "      <td>0</td>\n",
       "      <td>1</td>\n",
       "      <td>17</td>\n",
       "      <td>9</td>\n",
       "      <td>508</td>\n",
       "      <td>4</td>\n",
       "      <td>-1</td>\n",
       "      <td>0</td>\n",
       "      <td>3</td>\n",
       "      <td>0</td>\n",
       "    </tr>\n",
       "    <tr>\n",
       "      <td>45210</td>\n",
       "      <td>37</td>\n",
       "      <td>2</td>\n",
       "      <td>1</td>\n",
       "      <td>1</td>\n",
       "      <td>0</td>\n",
       "      <td>2971</td>\n",
       "      <td>0</td>\n",
       "      <td>0</td>\n",
       "      <td>0</td>\n",
       "      <td>17</td>\n",
       "      <td>9</td>\n",
       "      <td>361</td>\n",
       "      <td>2</td>\n",
       "      <td>188</td>\n",
       "      <td>11</td>\n",
       "      <td>1</td>\n",
       "      <td>0</td>\n",
       "    </tr>\n",
       "  </tbody>\n",
       "</table>\n",
       "<p>45211 rows × 17 columns</p>\n",
       "</div>"
      ],
      "text/plain": [
       "       age  job  marital  education  default  balance  housing  loan  contact  \\\n",
       "0       58    4        1          2        0     2143        1     0        2   \n",
       "1       44    9        2          1        0       29        1     0        2   \n",
       "2       33    2        1          1        0        2        1     1        2   \n",
       "3       47    1        1          3        0     1506        1     0        2   \n",
       "4       33   11        2          3        0        1        0     0        2   \n",
       "...    ...  ...      ...        ...      ...      ...      ...   ...      ...   \n",
       "45206   51    9        1          2        0      825        0     0        0   \n",
       "45207   71    5        0          0        0     1729        0     0        0   \n",
       "45208   72    5        1          1        0     5715        0     0        0   \n",
       "45209   57    1        1          1        0      668        0     0        1   \n",
       "45210   37    2        1          1        0     2971        0     0        0   \n",
       "\n",
       "       day  month  duration  campaign  pdays  previous  poutcome  y  \n",
       "0        5      8       261         1     -1         0         3  0  \n",
       "1        5      8       151         1     -1         0         3  0  \n",
       "2        5      8        76         1     -1         0         3  0  \n",
       "3        5      8        92         1     -1         0         3  0  \n",
       "4        5      8       198         1     -1         0         3  0  \n",
       "...    ...    ...       ...       ...    ...       ...       ... ..  \n",
       "45206   17      9       977         3     -1         0         3  1  \n",
       "45207   17      9       456         2     -1         0         3  1  \n",
       "45208   17      9      1127         5    184         3         2  1  \n",
       "45209   17      9       508         4     -1         0         3  0  \n",
       "45210   17      9       361         2    188        11         1  0  \n",
       "\n",
       "[45211 rows x 17 columns]"
      ]
     },
     "execution_count": 21,
     "metadata": {},
     "output_type": "execute_result"
    }
   ],
   "source": [
    "df"
   ]
  },
  {
   "cell_type": "code",
   "execution_count": 22,
   "metadata": {},
   "outputs": [],
   "source": [
    "X=df.drop('y',axis=1)\n",
    "y=df.iloc[:,-1].values"
   ]
  },
  {
   "cell_type": "code",
   "execution_count": 23,
   "metadata": {},
   "outputs": [],
   "source": [
    "from sklearn.preprocessing import MinMaxScaler"
   ]
  },
  {
   "cell_type": "code",
   "execution_count": 24,
   "metadata": {},
   "outputs": [],
   "source": [
    "scaler=MinMaxScaler()"
   ]
  },
  {
   "cell_type": "code",
   "execution_count": 25,
   "metadata": {},
   "outputs": [
    {
     "data": {
      "text/plain": [
       "MinMaxScaler(copy=True, feature_range=(0, 1))"
      ]
     },
     "execution_count": 25,
     "metadata": {},
     "output_type": "execute_result"
    }
   ],
   "source": [
    "scaler.fit(X)"
   ]
  },
  {
   "cell_type": "code",
   "execution_count": 26,
   "metadata": {},
   "outputs": [],
   "source": [
    "scaled_train=scaler.transform(X)\n"
   ]
  },
  {
   "cell_type": "code",
   "execution_count": 27,
   "metadata": {},
   "outputs": [
    {
     "data": {
      "text/plain": [
       "array([[0.51948052, 0.36363636, 0.5       , ..., 0.        , 0.        ,\n",
       "        1.        ],\n",
       "       [0.33766234, 0.81818182, 1.        , ..., 0.        , 0.        ,\n",
       "        1.        ],\n",
       "       [0.19480519, 0.18181818, 0.5       , ..., 0.        , 0.        ,\n",
       "        1.        ],\n",
       "       ...,\n",
       "       [0.7012987 , 0.45454545, 0.5       , ..., 0.21215596, 0.01090909,\n",
       "        0.66666667],\n",
       "       [0.50649351, 0.09090909, 0.5       , ..., 0.        , 0.        ,\n",
       "        1.        ],\n",
       "       [0.24675325, 0.18181818, 0.5       , ..., 0.21674312, 0.04      ,\n",
       "        0.33333333]])"
      ]
     },
     "execution_count": 27,
     "metadata": {},
     "output_type": "execute_result"
    }
   ],
   "source": [
    "scaled_train"
   ]
  },
  {
   "cell_type": "code",
   "execution_count": 28,
   "metadata": {},
   "outputs": [
    {
     "name": "stderr",
     "output_type": "stream",
     "text": [
      "Using TensorFlow backend.\n"
     ]
    }
   ],
   "source": [
    "from keras.models import Sequential\n",
    "from keras.layers import Dense"
   ]
  },
  {
   "cell_type": "code",
   "execution_count": 29,
   "metadata": {},
   "outputs": [
    {
     "data": {
      "text/html": [
       "<div>\n",
       "<style scoped>\n",
       "    .dataframe tbody tr th:only-of-type {\n",
       "        vertical-align: middle;\n",
       "    }\n",
       "\n",
       "    .dataframe tbody tr th {\n",
       "        vertical-align: top;\n",
       "    }\n",
       "\n",
       "    .dataframe thead th {\n",
       "        text-align: right;\n",
       "    }\n",
       "</style>\n",
       "<table border=\"1\" class=\"dataframe\">\n",
       "  <thead>\n",
       "    <tr style=\"text-align: right;\">\n",
       "      <th></th>\n",
       "      <th>age</th>\n",
       "      <th>job</th>\n",
       "      <th>marital</th>\n",
       "      <th>education</th>\n",
       "      <th>default</th>\n",
       "      <th>balance</th>\n",
       "      <th>housing</th>\n",
       "      <th>loan</th>\n",
       "      <th>contact</th>\n",
       "      <th>day</th>\n",
       "      <th>month</th>\n",
       "      <th>duration</th>\n",
       "      <th>campaign</th>\n",
       "      <th>pdays</th>\n",
       "      <th>previous</th>\n",
       "      <th>poutcome</th>\n",
       "    </tr>\n",
       "  </thead>\n",
       "  <tbody>\n",
       "    <tr>\n",
       "      <td>0</td>\n",
       "      <td>58</td>\n",
       "      <td>4</td>\n",
       "      <td>1</td>\n",
       "      <td>2</td>\n",
       "      <td>0</td>\n",
       "      <td>2143</td>\n",
       "      <td>1</td>\n",
       "      <td>0</td>\n",
       "      <td>2</td>\n",
       "      <td>5</td>\n",
       "      <td>8</td>\n",
       "      <td>261</td>\n",
       "      <td>1</td>\n",
       "      <td>-1</td>\n",
       "      <td>0</td>\n",
       "      <td>3</td>\n",
       "    </tr>\n",
       "    <tr>\n",
       "      <td>1</td>\n",
       "      <td>44</td>\n",
       "      <td>9</td>\n",
       "      <td>2</td>\n",
       "      <td>1</td>\n",
       "      <td>0</td>\n",
       "      <td>29</td>\n",
       "      <td>1</td>\n",
       "      <td>0</td>\n",
       "      <td>2</td>\n",
       "      <td>5</td>\n",
       "      <td>8</td>\n",
       "      <td>151</td>\n",
       "      <td>1</td>\n",
       "      <td>-1</td>\n",
       "      <td>0</td>\n",
       "      <td>3</td>\n",
       "    </tr>\n",
       "    <tr>\n",
       "      <td>2</td>\n",
       "      <td>33</td>\n",
       "      <td>2</td>\n",
       "      <td>1</td>\n",
       "      <td>1</td>\n",
       "      <td>0</td>\n",
       "      <td>2</td>\n",
       "      <td>1</td>\n",
       "      <td>1</td>\n",
       "      <td>2</td>\n",
       "      <td>5</td>\n",
       "      <td>8</td>\n",
       "      <td>76</td>\n",
       "      <td>1</td>\n",
       "      <td>-1</td>\n",
       "      <td>0</td>\n",
       "      <td>3</td>\n",
       "    </tr>\n",
       "    <tr>\n",
       "      <td>3</td>\n",
       "      <td>47</td>\n",
       "      <td>1</td>\n",
       "      <td>1</td>\n",
       "      <td>3</td>\n",
       "      <td>0</td>\n",
       "      <td>1506</td>\n",
       "      <td>1</td>\n",
       "      <td>0</td>\n",
       "      <td>2</td>\n",
       "      <td>5</td>\n",
       "      <td>8</td>\n",
       "      <td>92</td>\n",
       "      <td>1</td>\n",
       "      <td>-1</td>\n",
       "      <td>0</td>\n",
       "      <td>3</td>\n",
       "    </tr>\n",
       "    <tr>\n",
       "      <td>4</td>\n",
       "      <td>33</td>\n",
       "      <td>11</td>\n",
       "      <td>2</td>\n",
       "      <td>3</td>\n",
       "      <td>0</td>\n",
       "      <td>1</td>\n",
       "      <td>0</td>\n",
       "      <td>0</td>\n",
       "      <td>2</td>\n",
       "      <td>5</td>\n",
       "      <td>8</td>\n",
       "      <td>198</td>\n",
       "      <td>1</td>\n",
       "      <td>-1</td>\n",
       "      <td>0</td>\n",
       "      <td>3</td>\n",
       "    </tr>\n",
       "    <tr>\n",
       "      <td>...</td>\n",
       "      <td>...</td>\n",
       "      <td>...</td>\n",
       "      <td>...</td>\n",
       "      <td>...</td>\n",
       "      <td>...</td>\n",
       "      <td>...</td>\n",
       "      <td>...</td>\n",
       "      <td>...</td>\n",
       "      <td>...</td>\n",
       "      <td>...</td>\n",
       "      <td>...</td>\n",
       "      <td>...</td>\n",
       "      <td>...</td>\n",
       "      <td>...</td>\n",
       "      <td>...</td>\n",
       "      <td>...</td>\n",
       "    </tr>\n",
       "    <tr>\n",
       "      <td>45206</td>\n",
       "      <td>51</td>\n",
       "      <td>9</td>\n",
       "      <td>1</td>\n",
       "      <td>2</td>\n",
       "      <td>0</td>\n",
       "      <td>825</td>\n",
       "      <td>0</td>\n",
       "      <td>0</td>\n",
       "      <td>0</td>\n",
       "      <td>17</td>\n",
       "      <td>9</td>\n",
       "      <td>977</td>\n",
       "      <td>3</td>\n",
       "      <td>-1</td>\n",
       "      <td>0</td>\n",
       "      <td>3</td>\n",
       "    </tr>\n",
       "    <tr>\n",
       "      <td>45207</td>\n",
       "      <td>71</td>\n",
       "      <td>5</td>\n",
       "      <td>0</td>\n",
       "      <td>0</td>\n",
       "      <td>0</td>\n",
       "      <td>1729</td>\n",
       "      <td>0</td>\n",
       "      <td>0</td>\n",
       "      <td>0</td>\n",
       "      <td>17</td>\n",
       "      <td>9</td>\n",
       "      <td>456</td>\n",
       "      <td>2</td>\n",
       "      <td>-1</td>\n",
       "      <td>0</td>\n",
       "      <td>3</td>\n",
       "    </tr>\n",
       "    <tr>\n",
       "      <td>45208</td>\n",
       "      <td>72</td>\n",
       "      <td>5</td>\n",
       "      <td>1</td>\n",
       "      <td>1</td>\n",
       "      <td>0</td>\n",
       "      <td>5715</td>\n",
       "      <td>0</td>\n",
       "      <td>0</td>\n",
       "      <td>0</td>\n",
       "      <td>17</td>\n",
       "      <td>9</td>\n",
       "      <td>1127</td>\n",
       "      <td>5</td>\n",
       "      <td>184</td>\n",
       "      <td>3</td>\n",
       "      <td>2</td>\n",
       "    </tr>\n",
       "    <tr>\n",
       "      <td>45209</td>\n",
       "      <td>57</td>\n",
       "      <td>1</td>\n",
       "      <td>1</td>\n",
       "      <td>1</td>\n",
       "      <td>0</td>\n",
       "      <td>668</td>\n",
       "      <td>0</td>\n",
       "      <td>0</td>\n",
       "      <td>1</td>\n",
       "      <td>17</td>\n",
       "      <td>9</td>\n",
       "      <td>508</td>\n",
       "      <td>4</td>\n",
       "      <td>-1</td>\n",
       "      <td>0</td>\n",
       "      <td>3</td>\n",
       "    </tr>\n",
       "    <tr>\n",
       "      <td>45210</td>\n",
       "      <td>37</td>\n",
       "      <td>2</td>\n",
       "      <td>1</td>\n",
       "      <td>1</td>\n",
       "      <td>0</td>\n",
       "      <td>2971</td>\n",
       "      <td>0</td>\n",
       "      <td>0</td>\n",
       "      <td>0</td>\n",
       "      <td>17</td>\n",
       "      <td>9</td>\n",
       "      <td>361</td>\n",
       "      <td>2</td>\n",
       "      <td>188</td>\n",
       "      <td>11</td>\n",
       "      <td>1</td>\n",
       "    </tr>\n",
       "  </tbody>\n",
       "</table>\n",
       "<p>45211 rows × 16 columns</p>\n",
       "</div>"
      ],
      "text/plain": [
       "       age  job  marital  education  default  balance  housing  loan  contact  \\\n",
       "0       58    4        1          2        0     2143        1     0        2   \n",
       "1       44    9        2          1        0       29        1     0        2   \n",
       "2       33    2        1          1        0        2        1     1        2   \n",
       "3       47    1        1          3        0     1506        1     0        2   \n",
       "4       33   11        2          3        0        1        0     0        2   \n",
       "...    ...  ...      ...        ...      ...      ...      ...   ...      ...   \n",
       "45206   51    9        1          2        0      825        0     0        0   \n",
       "45207   71    5        0          0        0     1729        0     0        0   \n",
       "45208   72    5        1          1        0     5715        0     0        0   \n",
       "45209   57    1        1          1        0      668        0     0        1   \n",
       "45210   37    2        1          1        0     2971        0     0        0   \n",
       "\n",
       "       day  month  duration  campaign  pdays  previous  poutcome  \n",
       "0        5      8       261         1     -1         0         3  \n",
       "1        5      8       151         1     -1         0         3  \n",
       "2        5      8        76         1     -1         0         3  \n",
       "3        5      8        92         1     -1         0         3  \n",
       "4        5      8       198         1     -1         0         3  \n",
       "...    ...    ...       ...       ...    ...       ...       ...  \n",
       "45206   17      9       977         3     -1         0         3  \n",
       "45207   17      9       456         2     -1         0         3  \n",
       "45208   17      9      1127         5    184         3         2  \n",
       "45209   17      9       508         4     -1         0         3  \n",
       "45210   17      9       361         2    188        11         1  \n",
       "\n",
       "[45211 rows x 16 columns]"
      ]
     },
     "execution_count": 29,
     "metadata": {},
     "output_type": "execute_result"
    }
   ],
   "source": [
    "X"
   ]
  },
  {
   "cell_type": "code",
   "execution_count": 39,
   "metadata": {},
   "outputs": [],
   "source": [
    "n_features=16\n",
    "model=Sequential()\n",
    "model.add(Dense(16,activation='relu',input_shape=(n_features,)))\n",
    "model.add(Dense(32,activation='relu'))\n",
    "model.add(Dense(128,activation='relu'))\n",
    "model.add(Dense(1,activation='sigmoid'))"
   ]
  },
  {
   "cell_type": "code",
   "execution_count": 40,
   "metadata": {},
   "outputs": [
    {
     "name": "stdout",
     "output_type": "stream",
     "text": [
      "Model: \"sequential_2\"\n",
      "_________________________________________________________________\n",
      "Layer (type)                 Output Shape              Param #   \n",
      "=================================================================\n",
      "dense_5 (Dense)              (None, 16)                272       \n",
      "_________________________________________________________________\n",
      "dense_6 (Dense)              (None, 32)                544       \n",
      "_________________________________________________________________\n",
      "dense_7 (Dense)              (None, 128)               4224      \n",
      "_________________________________________________________________\n",
      "dense_8 (Dense)              (None, 1)                 129       \n",
      "=================================================================\n",
      "Total params: 5,169\n",
      "Trainable params: 5,169\n",
      "Non-trainable params: 0\n",
      "_________________________________________________________________\n"
     ]
    }
   ],
   "source": [
    "model.summary()"
   ]
  },
  {
   "cell_type": "code",
   "execution_count": 41,
   "metadata": {},
   "outputs": [],
   "source": [
    "model.compile(optimizer='adam',loss='binary_crossentropy',metrics=['accuracy'])"
   ]
  },
  {
   "cell_type": "code",
   "execution_count": 42,
   "metadata": {},
   "outputs": [],
   "source": [
    "from sklearn.model_selection import train_test_split"
   ]
  },
  {
   "cell_type": "code",
   "execution_count": 43,
   "metadata": {},
   "outputs": [],
   "source": [
    "X_train, X_test, y_train, y_test=train_test_split(scaled_train,y,test_size=0.3)"
   ]
  },
  {
   "cell_type": "code",
   "execution_count": 44,
   "metadata": {},
   "outputs": [],
   "source": [
    "from keras.callbacks import EarlyStopping"
   ]
  },
  {
   "cell_type": "code",
   "execution_count": 45,
   "metadata": {},
   "outputs": [],
   "source": [
    "early=EarlyStopping(monitor='val_loss',patience=5)"
   ]
  },
  {
   "cell_type": "code",
   "execution_count": 46,
   "metadata": {},
   "outputs": [
    {
     "name": "stdout",
     "output_type": "stream",
     "text": [
      "Train on 45211 samples, validate on 13564 samples\n",
      "Epoch 1/100\n",
      "45211/45211 [==============================] - 2s 37us/step - loss: 0.2953 - accuracy: 0.8883 - val_loss: 0.2473 - val_accuracy: 0.8964\n",
      "Epoch 2/100\n",
      "45211/45211 [==============================] - 1s 31us/step - loss: 0.2485 - accuracy: 0.8958 - val_loss: 0.2379 - val_accuracy: 0.8963\n",
      "Epoch 3/100\n",
      "45211/45211 [==============================] - 1s 32us/step - loss: 0.2429 - accuracy: 0.8974 - val_loss: 0.2375 - val_accuracy: 0.8976\n",
      "Epoch 4/100\n",
      "45211/45211 [==============================] - 1s 33us/step - loss: 0.2399 - accuracy: 0.8976 - val_loss: 0.2320 - val_accuracy: 0.8997\n",
      "Epoch 5/100\n",
      "45211/45211 [==============================] - 1s 31us/step - loss: 0.2374 - accuracy: 0.8999 - val_loss: 0.2266 - val_accuracy: 0.9011\n",
      "Epoch 6/100\n",
      "45211/45211 [==============================] - 1s 31us/step - loss: 0.2362 - accuracy: 0.8991 - val_loss: 0.2266 - val_accuracy: 0.9015\n",
      "Epoch 7/100\n",
      "45211/45211 [==============================] - 1s 32us/step - loss: 0.2336 - accuracy: 0.8998 - val_loss: 0.2244 - val_accuracy: 0.9019\n",
      "Epoch 8/100\n",
      "45211/45211 [==============================] - 1s 33us/step - loss: 0.2321 - accuracy: 0.9004 - val_loss: 0.2264 - val_accuracy: 0.9030\n",
      "Epoch 9/100\n",
      "45211/45211 [==============================] - 1s 31us/step - loss: 0.2311 - accuracy: 0.9008 - val_loss: 0.2315 - val_accuracy: 0.9014\n",
      "Epoch 10/100\n",
      "45211/45211 [==============================] - 1s 32us/step - loss: 0.2305 - accuracy: 0.9016 - val_loss: 0.2226 - val_accuracy: 0.9036\n",
      "Epoch 11/100\n",
      "45211/45211 [==============================] - 1s 33us/step - loss: 0.2297 - accuracy: 0.9002 - val_loss: 0.2222 - val_accuracy: 0.9019\n",
      "Epoch 12/100\n",
      "45211/45211 [==============================] - 2s 34us/step - loss: 0.2291 - accuracy: 0.9021 - val_loss: 0.2267 - val_accuracy: 0.9014\n",
      "Epoch 13/100\n",
      "45211/45211 [==============================] - 1s 33us/step - loss: 0.2279 - accuracy: 0.9031 - val_loss: 0.2198 - val_accuracy: 0.9047\n",
      "Epoch 14/100\n",
      "45211/45211 [==============================] - 2s 34us/step - loss: 0.2272 - accuracy: 0.9023 - val_loss: 0.2314 - val_accuracy: 0.9022\n",
      "Epoch 15/100\n",
      "45211/45211 [==============================] - 1s 33us/step - loss: 0.2260 - accuracy: 0.9031 - val_loss: 0.2197 - val_accuracy: 0.9045\n",
      "Epoch 16/100\n",
      "45211/45211 [==============================] - 1s 32us/step - loss: 0.2257 - accuracy: 0.9035 - val_loss: 0.2186 - val_accuracy: 0.9059\n",
      "Epoch 17/100\n",
      "45211/45211 [==============================] - 1s 32us/step - loss: 0.2253 - accuracy: 0.9034 - val_loss: 0.2179 - val_accuracy: 0.9061\n",
      "Epoch 18/100\n",
      "45211/45211 [==============================] - 1s 32us/step - loss: 0.2242 - accuracy: 0.9033 - val_loss: 0.2179 - val_accuracy: 0.9056\n",
      "Epoch 19/100\n",
      "45211/45211 [==============================] - 1s 31us/step - loss: 0.2237 - accuracy: 0.9048 - val_loss: 0.2167 - val_accuracy: 0.9067\n",
      "Epoch 20/100\n",
      "45211/45211 [==============================] - 1s 31us/step - loss: 0.2235 - accuracy: 0.9036 - val_loss: 0.2160 - val_accuracy: 0.9054\n",
      "Epoch 21/100\n",
      "45211/45211 [==============================] - 1s 31us/step - loss: 0.2235 - accuracy: 0.9041 - val_loss: 0.2221 - val_accuracy: 0.9071\n",
      "Epoch 22/100\n",
      "45211/45211 [==============================] - 1s 32us/step - loss: 0.2211 - accuracy: 0.9045 - val_loss: 0.2161 - val_accuracy: 0.9053\n",
      "Epoch 23/100\n",
      "45211/45211 [==============================] - 1s 31us/step - loss: 0.2216 - accuracy: 0.9049 - val_loss: 0.2140 - val_accuracy: 0.9064\n",
      "Epoch 24/100\n",
      "45211/45211 [==============================] - 1s 31us/step - loss: 0.2209 - accuracy: 0.9047 - val_loss: 0.2143 - val_accuracy: 0.9067\n",
      "Epoch 25/100\n",
      "45211/45211 [==============================] - 1s 32us/step - loss: 0.2204 - accuracy: 0.9048 - val_loss: 0.2143 - val_accuracy: 0.9064\n",
      "Epoch 26/100\n",
      "45211/45211 [==============================] - 1s 32us/step - loss: 0.2197 - accuracy: 0.9055 - val_loss: 0.2154 - val_accuracy: 0.9071\n",
      "Epoch 27/100\n",
      "45211/45211 [==============================] - 1s 32us/step - loss: 0.2194 - accuracy: 0.9053 - val_loss: 0.2162 - val_accuracy: 0.9084\n",
      "Epoch 28/100\n",
      "45211/45211 [==============================] - 1s 32us/step - loss: 0.2188 - accuracy: 0.9058 - val_loss: 0.2135 - val_accuracy: 0.9074\n",
      "Epoch 29/100\n",
      "45211/45211 [==============================] - 2s 35us/step - loss: 0.2183 - accuracy: 0.9054 - val_loss: 0.2158 - val_accuracy: 0.9092\n",
      "Epoch 30/100\n",
      "45211/45211 [==============================] - 2s 36us/step - loss: 0.2182 - accuracy: 0.9060 - val_loss: 0.2150 - val_accuracy: 0.9078\n",
      "Epoch 31/100\n",
      "45211/45211 [==============================] - 2s 35us/step - loss: 0.2180 - accuracy: 0.9059 - val_loss: 0.2165 - val_accuracy: 0.9070\n",
      "Epoch 32/100\n",
      "45211/45211 [==============================] - 2s 35us/step - loss: 0.2175 - accuracy: 0.9053 - val_loss: 0.2103 - val_accuracy: 0.9082\n",
      "Epoch 33/100\n",
      "45211/45211 [==============================] - 1s 31us/step - loss: 0.2166 - accuracy: 0.9062 - val_loss: 0.2110 - val_accuracy: 0.9075\n",
      "Epoch 34/100\n",
      "45211/45211 [==============================] - 1s 31us/step - loss: 0.2170 - accuracy: 0.9066 - val_loss: 0.2122 - val_accuracy: 0.9078\n",
      "Epoch 35/100\n",
      "45211/45211 [==============================] - 1s 32us/step - loss: 0.2151 - accuracy: 0.9073 - val_loss: 0.2120 - val_accuracy: 0.9088\n",
      "Epoch 36/100\n",
      "45211/45211 [==============================] - 1s 32us/step - loss: 0.2156 - accuracy: 0.9059 - val_loss: 0.2105 - val_accuracy: 0.9081\n",
      "Epoch 37/100\n",
      "45211/45211 [==============================] - 1s 31us/step - loss: 0.2149 - accuracy: 0.9070 - val_loss: 0.2094 - val_accuracy: 0.9087\n",
      "Epoch 38/100\n",
      "45211/45211 [==============================] - 1s 32us/step - loss: 0.2145 - accuracy: 0.9072 - val_loss: 0.2140 - val_accuracy: 0.9060\n",
      "Epoch 39/100\n",
      "45211/45211 [==============================] - 2s 33us/step - loss: 0.2145 - accuracy: 0.9082 - val_loss: 0.2087 - val_accuracy: 0.9090\n",
      "Epoch 40/100\n",
      "45211/45211 [==============================] - 1s 33us/step - loss: 0.2135 - accuracy: 0.9076 - val_loss: 0.2076 - val_accuracy: 0.9089\n",
      "Epoch 41/100\n",
      "45211/45211 [==============================] - 1s 33us/step - loss: 0.2139 - accuracy: 0.9078 - val_loss: 0.2094 - val_accuracy: 0.9087\n",
      "Epoch 42/100\n",
      "45211/45211 [==============================] - 1s 31us/step - loss: 0.2123 - accuracy: 0.9085 - val_loss: 0.2055 - val_accuracy: 0.9099\n",
      "Epoch 43/100\n",
      "45211/45211 [==============================] - 1s 31us/step - loss: 0.2122 - accuracy: 0.9078 - val_loss: 0.2062 - val_accuracy: 0.9082\n",
      "Epoch 44/100\n",
      "45211/45211 [==============================] - 1s 32us/step - loss: 0.2120 - accuracy: 0.9079 - val_loss: 0.2047 - val_accuracy: 0.9120\n",
      "Epoch 45/100\n",
      "45211/45211 [==============================] - 1s 33us/step - loss: 0.2118 - accuracy: 0.9084 - val_loss: 0.2063 - val_accuracy: 0.9126\n",
      "Epoch 46/100\n",
      "45211/45211 [==============================] - 1s 32us/step - loss: 0.2112 - accuracy: 0.9083 - val_loss: 0.2095 - val_accuracy: 0.9106\n",
      "Epoch 47/100\n",
      "45211/45211 [==============================] - 2s 34us/step - loss: 0.2105 - accuracy: 0.9090 - val_loss: 0.2052 - val_accuracy: 0.9106\n",
      "Epoch 48/100\n",
      "45211/45211 [==============================] - 2s 34us/step - loss: 0.2101 - accuracy: 0.9097 - val_loss: 0.2036 - val_accuracy: 0.9126\n",
      "Epoch 49/100\n",
      "45211/45211 [==============================] - 1s 33us/step - loss: 0.2099 - accuracy: 0.9102 - val_loss: 0.2072 - val_accuracy: 0.9108\n",
      "Epoch 50/100\n",
      "45211/45211 [==============================] - 1s 33us/step - loss: 0.2099 - accuracy: 0.9088 - val_loss: 0.2028 - val_accuracy: 0.9129\n",
      "Epoch 51/100\n",
      "45211/45211 [==============================] - 1s 32us/step - loss: 0.2083 - accuracy: 0.9094 - val_loss: 0.2037 - val_accuracy: 0.9118\n",
      "Epoch 52/100\n",
      "45211/45211 [==============================] - 1s 32us/step - loss: 0.2081 - accuracy: 0.9101 - val_loss: 0.2028 - val_accuracy: 0.9126\n",
      "Epoch 53/100\n",
      "45211/45211 [==============================] - 1s 32us/step - loss: 0.2081 - accuracy: 0.9110 - val_loss: 0.2025 - val_accuracy: 0.9137\n",
      "Epoch 54/100\n",
      "45211/45211 [==============================] - 1s 32us/step - loss: 0.2075 - accuracy: 0.9104 - val_loss: 0.2008 - val_accuracy: 0.9140\n",
      "Epoch 55/100\n",
      "45211/45211 [==============================] - 1s 32us/step - loss: 0.2071 - accuracy: 0.9099 - val_loss: 0.2010 - val_accuracy: 0.9143\n"
     ]
    },
    {
     "name": "stdout",
     "output_type": "stream",
     "text": [
      "Epoch 56/100\n",
      "45211/45211 [==============================] - 1s 32us/step - loss: 0.2062 - accuracy: 0.9106 - val_loss: 0.2014 - val_accuracy: 0.9143\n",
      "Epoch 57/100\n",
      "45211/45211 [==============================] - 1s 32us/step - loss: 0.2065 - accuracy: 0.9105 - val_loss: 0.1996 - val_accuracy: 0.9141\n",
      "Epoch 58/100\n",
      "45211/45211 [==============================] - 1s 32us/step - loss: 0.2055 - accuracy: 0.9110 - val_loss: 0.1999 - val_accuracy: 0.9146\n",
      "Epoch 59/100\n",
      "45211/45211 [==============================] - 1s 32us/step - loss: 0.2054 - accuracy: 0.9112 - val_loss: 0.1992 - val_accuracy: 0.9171\n",
      "Epoch 60/100\n",
      "45211/45211 [==============================] - 1s 32us/step - loss: 0.2048 - accuracy: 0.9107 - val_loss: 0.2006 - val_accuracy: 0.9136\n",
      "Epoch 61/100\n",
      "45211/45211 [==============================] - 1s 33us/step - loss: 0.2051 - accuracy: 0.9114 - val_loss: 0.1995 - val_accuracy: 0.9133\n",
      "Epoch 62/100\n",
      "45211/45211 [==============================] - 1s 32us/step - loss: 0.2041 - accuracy: 0.9111 - val_loss: 0.1951 - val_accuracy: 0.9163\n",
      "Epoch 63/100\n",
      "45211/45211 [==============================] - 1s 32us/step - loss: 0.2034 - accuracy: 0.9111 - val_loss: 0.1967 - val_accuracy: 0.9150\n",
      "Epoch 64/100\n",
      "45211/45211 [==============================] - 1s 32us/step - loss: 0.2032 - accuracy: 0.9113 - val_loss: 0.1956 - val_accuracy: 0.9145\n",
      "Epoch 65/100\n",
      "45211/45211 [==============================] - 1s 32us/step - loss: 0.2028 - accuracy: 0.9121 - val_loss: 0.1954 - val_accuracy: 0.9162\n",
      "Epoch 66/100\n",
      "45211/45211 [==============================] - 1s 31us/step - loss: 0.2019 - accuracy: 0.9136 - val_loss: 0.1975 - val_accuracy: 0.9120\n",
      "Epoch 67/100\n",
      "45211/45211 [==============================] - 1s 32us/step - loss: 0.2023 - accuracy: 0.9124 - val_loss: 0.1943 - val_accuracy: 0.9157\n",
      "Epoch 68/100\n",
      "45211/45211 [==============================] - 1s 33us/step - loss: 0.2013 - accuracy: 0.9129 - val_loss: 0.1951 - val_accuracy: 0.9151\n",
      "Epoch 69/100\n",
      "45211/45211 [==============================] - 1s 33us/step - loss: 0.2007 - accuracy: 0.9133 - val_loss: 0.1942 - val_accuracy: 0.9161\n",
      "Epoch 70/100\n",
      "45211/45211 [==============================] - 1s 31us/step - loss: 0.2005 - accuracy: 0.9129 - val_loss: 0.1925 - val_accuracy: 0.9171\n",
      "Epoch 71/100\n",
      "45211/45211 [==============================] - 2s 35us/step - loss: 0.2005 - accuracy: 0.9132 - val_loss: 0.1930 - val_accuracy: 0.9171\n",
      "Epoch 72/100\n",
      "45211/45211 [==============================] - 2s 36us/step - loss: 0.2002 - accuracy: 0.9131 - val_loss: 0.1918 - val_accuracy: 0.9180\n",
      "Epoch 73/100\n",
      "45211/45211 [==============================] - 2s 36us/step - loss: 0.1990 - accuracy: 0.9136 - val_loss: 0.1941 - val_accuracy: 0.9143\n",
      "Epoch 74/100\n",
      "45211/45211 [==============================] - 2s 35us/step - loss: 0.1993 - accuracy: 0.9131 - val_loss: 0.1973 - val_accuracy: 0.9157\n",
      "Epoch 75/100\n",
      "45211/45211 [==============================] - 2s 35us/step - loss: 0.1985 - accuracy: 0.9138 - val_loss: 0.1947 - val_accuracy: 0.9167\n",
      "Epoch 76/100\n",
      "45211/45211 [==============================] - 2s 35us/step - loss: 0.1980 - accuracy: 0.9153 - val_loss: 0.1911 - val_accuracy: 0.9181\n",
      "Epoch 77/100\n",
      "45211/45211 [==============================] - 2s 35us/step - loss: 0.1974 - accuracy: 0.9139 - val_loss: 0.1893 - val_accuracy: 0.9201\n",
      "Epoch 78/100\n",
      "45211/45211 [==============================] - 2s 35us/step - loss: 0.1973 - accuracy: 0.9146 - val_loss: 0.1888 - val_accuracy: 0.9188\n",
      "Epoch 79/100\n",
      "45211/45211 [==============================] - 2s 35us/step - loss: 0.1976 - accuracy: 0.9134 - val_loss: 0.1896 - val_accuracy: 0.9199\n",
      "Epoch 80/100\n",
      "45211/45211 [==============================] - 2s 35us/step - loss: 0.1966 - accuracy: 0.9142 - val_loss: 0.1898 - val_accuracy: 0.9188\n",
      "Epoch 81/100\n",
      "45211/45211 [==============================] - 2s 35us/step - loss: 0.1957 - accuracy: 0.9154 - val_loss: 0.1874 - val_accuracy: 0.9181\n",
      "Epoch 82/100\n",
      "45211/45211 [==============================] - 2s 36us/step - loss: 0.1959 - accuracy: 0.9146 - val_loss: 0.1888 - val_accuracy: 0.9165\n",
      "Epoch 83/100\n",
      "45211/45211 [==============================] - 2s 35us/step - loss: 0.1953 - accuracy: 0.9157 - val_loss: 0.1893 - val_accuracy: 0.9182\n",
      "Epoch 84/100\n",
      "45211/45211 [==============================] - 2s 35us/step - loss: 0.1943 - accuracy: 0.9161 - val_loss: 0.1896 - val_accuracy: 0.9183\n",
      "Epoch 85/100\n",
      "45211/45211 [==============================] - 2s 35us/step - loss: 0.1947 - accuracy: 0.9155 - val_loss: 0.1868 - val_accuracy: 0.9205\n",
      "Epoch 86/100\n",
      "45211/45211 [==============================] - 1s 32us/step - loss: 0.1944 - accuracy: 0.9144 - val_loss: 0.1859 - val_accuracy: 0.9198\n",
      "Epoch 87/100\n",
      "45211/45211 [==============================] - 1s 31us/step - loss: 0.1936 - accuracy: 0.9162 - val_loss: 0.1859 - val_accuracy: 0.9183\n",
      "Epoch 88/100\n",
      "45211/45211 [==============================] - 1s 32us/step - loss: 0.1930 - accuracy: 0.9164 - val_loss: 0.1847 - val_accuracy: 0.9207\n",
      "Epoch 89/100\n",
      "45211/45211 [==============================] - 1s 31us/step - loss: 0.1929 - accuracy: 0.9164 - val_loss: 0.1828 - val_accuracy: 0.9205\n",
      "Epoch 90/100\n",
      "45211/45211 [==============================] - 1s 32us/step - loss: 0.1924 - accuracy: 0.9164 - val_loss: 0.1849 - val_accuracy: 0.9187\n",
      "Epoch 91/100\n",
      "45211/45211 [==============================] - 1s 31us/step - loss: 0.1920 - accuracy: 0.9155 - val_loss: 0.1914 - val_accuracy: 0.9191\n",
      "Epoch 92/100\n",
      "45211/45211 [==============================] - 1s 32us/step - loss: 0.1919 - accuracy: 0.9174 - val_loss: 0.1852 - val_accuracy: 0.9216\n",
      "Epoch 93/100\n",
      "45211/45211 [==============================] - 1s 31us/step - loss: 0.1911 - accuracy: 0.9177 - val_loss: 0.1855 - val_accuracy: 0.9195\n",
      "Epoch 94/100\n",
      "45211/45211 [==============================] - 1s 32us/step - loss: 0.1917 - accuracy: 0.9172 - val_loss: 0.1867 - val_accuracy: 0.9178\n"
     ]
    },
    {
     "data": {
      "text/plain": [
       "<keras.callbacks.callbacks.History at 0x2529da88508>"
      ]
     },
     "execution_count": 46,
     "metadata": {},
     "output_type": "execute_result"
    }
   ],
   "source": [
    "model.fit(scaled_train,y,epochs=100,validation_data=(X_test,y_test),callbacks=[early])"
   ]
  },
  {
   "cell_type": "code",
   "execution_count": 47,
   "metadata": {},
   "outputs": [],
   "source": [
    "metrics=pd.DataFrame(model.history.history)"
   ]
  },
  {
   "cell_type": "code",
   "execution_count": 48,
   "metadata": {},
   "outputs": [
    {
     "data": {
      "text/plain": [
       "Index(['val_loss', 'val_accuracy', 'loss', 'accuracy'], dtype='object')"
      ]
     },
     "execution_count": 48,
     "metadata": {},
     "output_type": "execute_result"
    }
   ],
   "source": [
    "metrics.keys()"
   ]
  },
  {
   "cell_type": "code",
   "execution_count": 49,
   "metadata": {},
   "outputs": [
    {
     "data": {
      "text/plain": [
       "<matplotlib.axes._subplots.AxesSubplot at 0x2529db56e88>"
      ]
     },
     "execution_count": 49,
     "metadata": {},
     "output_type": "execute_result"
    },
    {
     "data": {
      "image/png": "[encoded data removed]",
      "text/plain": [
       "<Figure size 432x288 with 1 Axes>"
      ]
     },
     "metadata": {
      "needs_background": "light"
     },
     "output_type": "display_data"
    }
   ],
   "source": [
    "metrics[['val_loss','loss']].plot()"
   ]
  },
  {
   "cell_type": "code",
   "execution_count": 50,
   "metadata": {},
   "outputs": [
    {
     "data": {
      "text/plain": [
       "<matplotlib.axes._subplots.AxesSubplot at 0x2529db4a7c8>"
      ]
     },
     "execution_count": 50,
     "metadata": {},
     "output_type": "execute_result"
    },
    {
     "data": {
      "image/png": "[encoded data removed]",
      "text/plain": [
       "<Figure size 432x288 with 1 Axes>"
      ]
     },
     "metadata": {
      "needs_background": "light"
     },
     "output_type": "display_data"
    }
   ],
   "source": [
    "metrics[['val_accuracy','accuracy']].plot()"
   ]
  },
  {
   "cell_type": "code",
   "execution_count": 51,
   "metadata": {},
   "outputs": [],
   "source": [
    "y_pred=model.predict_classes(X_test)"
   ]
  },
  {
   "cell_type": "code",
   "execution_count": 52,
   "metadata": {},
   "outputs": [
    {
     "data": {
      "text/plain": [
       "array([[0],\n",
       "       [0],\n",
       "       [0],\n",
       "       ...,\n",
       "       [0],\n",
       "       [0],\n",
       "       [0]])"
      ]
     },
     "execution_count": 52,
     "metadata": {},
     "output_type": "execute_result"
    }
   ],
   "source": []
  },
  {
   "cell_type": "code",
   "execution_count": 53,
   "metadata": {},
   "outputs": [
    {
     "data": {
      "text/plain": [
       "array([[0],\n",
       "       [0],\n",
       "       [0],\n",
       "       ...,\n",
       "       [0],\n",
       "       [0],\n",
       "       [0]])"
      ]
     },
     "execution_count": 53,
     "metadata": {},
     "output_type": "execute_result"
    }
   ],
   "source": [
    "y_pred"
   ]
  },
  {
   "cell_type": "code",
   "execution_count": 54,
   "metadata": {},
   "outputs": [],
   "source": [
    "from sklearn.metrics import classification_report"
   ]
  },
  {
   "cell_type": "code",
   "execution_count": 55,
   "metadata": {},
   "outputs": [
    {
     "name": "stdout",
     "output_type": "stream",
     "text": [
      "              precision    recall  f1-score   support\n",
      "\n",
      "           0       0.94      0.97      0.95     12018\n",
      "           1       0.68      0.53      0.60      1546\n",
      "\n",
      "    accuracy                           0.92     13564\n",
      "   macro avg       0.81      0.75      0.78     13564\n",
      "weighted avg       0.91      0.92      0.91     13564\n",
      "\n"
     ]
    }
   ],
   "source": [
    "print(classification_report(y_test,y_pred))"
   ]
  },
  {
   "cell_type": "code",
   "execution_count": 56,
   "metadata": {},
   "outputs": [],
   "source": [
    "from sklearn.metrics import confusion_matrix"
   ]
  },
  {
   "cell_type": "code",
   "execution_count": 80,
   "metadata": {},
   "outputs": [
    {
     "data": {
      "text/plain": [
       "<matplotlib.axes._subplots.AxesSubplot at 0x252a557ad08>"
      ]
     },
     "execution_count": 80,
     "metadata": {},
     "output_type": "execute_result"
    },
    {
     "data": {
      "image/png": "[encoded data removed]",
      "text/plain": [
       "<Figure size 720x504 with 2 Axes>"
      ]
     },
     "metadata": {
      "needs_background": "light"
     },
     "output_type": "display_data"
    }
   ],
   "source": [
    "plt.figure(figsize=(10,7))\n",
    "sns.heatmap(confusion_matrix(y_test,y_pred))"
   ]
  },
  {
   "cell_type": "code",
   "execution_count": 84,
   "metadata": {},
   "outputs": [],
   "source": [
    "import random\n",
    "\n",
    "random.seed(42)\n",
    "random_ind=random.randint(0,len(df))\n",
    "\n",
    "new_customer=df.drop('y',axis=1).iloc[random_ind]"
   ]
  },
  {
   "cell_type": "code",
   "execution_count": 85,
   "metadata": {},
   "outputs": [
    {
     "data": {
      "text/plain": [
       "age           43\n",
       "job            9\n",
       "marital        1\n",
       "education      1\n",
       "default        0\n",
       "balance       69\n",
       "housing        1\n",
       "loan           1\n",
       "contact        0\n",
       "day           20\n",
       "month         10\n",
       "duration     304\n",
       "campaign       1\n",
       "pdays        337\n",
       "previous       1\n",
       "poutcome       0\n",
       "Name: 41905, dtype: int64"
      ]
     },
     "execution_count": 85,
     "metadata": {},
     "output_type": "execute_result"
    }
   ],
   "source": [
    "new_customer"
   ]
  },
  {
   "cell_type": "code",
   "execution_count": 87,
   "metadata": {},
   "outputs": [],
   "source": [
    "new_customer=scaler.transform(new_customer.values.reshape(1,16))"
   ]
  },
  {
   "cell_type": "code",
   "execution_count": 89,
   "metadata": {},
   "outputs": [
    {
     "data": {
      "text/plain": [
       "array([[0]])"
      ]
     },
     "execution_count": 89,
     "metadata": {},
     "output_type": "execute_result"
    }
   ],
   "source": [
    "model.predict_classes(new_customer)"
   ]
  },
  {
   "cell_type": "code",
   "execution_count": 91,
   "metadata": {},
   "outputs": [
    {
     "data": {
      "text/plain": [
       "0"
      ]
     },
     "execution_count": 91,
     "metadata": {},
     "output_type": "execute_result"
    }
   ],
   "source": [
    "df.iloc[random_ind]['y']"
   ]
  }
 ],
 "metadata": {
  "kernelspec": {
   "display_name": "Python 3",
   "language": "python",
   "name": "python3"
  },
  "language_info": {
   "codemirror_mode": {
    "name": "ipython",
    "version": 3
   },
   "file_extension": ".py",
   "mimetype": "text/x-python",
   "name": "python",
   "nbconvert_exporter": "python",
   "pygments_lexer": "ipython3",
   "version": "3.7.4"
  }
 },
 "nbformat": 4,
 "nbformat_minor": 2
}
