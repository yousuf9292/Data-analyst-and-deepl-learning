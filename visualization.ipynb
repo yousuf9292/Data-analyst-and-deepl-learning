{
 "cells": [
  {
   "cell_type": "code",
   "execution_count": 25,
   "metadata": {},
   "outputs": [],
   "source": [
    "import seaborn as sns\n",
    "import pandas as pd\n",
    "import matplotlib.pyplot as plt"
   ]
  },
  {
   "cell_type": "code",
   "execution_count": 26,
   "metadata": {},
   "outputs": [],
   "source": [
    "df=pd.read_csv('heart.csv')"
   ]
  },
  {
   "cell_type": "code",
   "execution_count": 27,
   "metadata": {},
   "outputs": [
    {
     "data": {
      "text/html": [
       "<div>\n",
       "<style scoped>\n",
       "    .dataframe tbody tr th:only-of-type {\n",
       "        vertical-align: middle;\n",
       "    }\n",
       "\n",
       "    .dataframe tbody tr th {\n",
       "        vertical-align: top;\n",
       "    }\n",
       "\n",
       "    .dataframe thead th {\n",
       "        text-align: right;\n",
       "    }\n",
       "</style>\n",
       "<table border=\"1\" class=\"dataframe\">\n",
       "  <thead>\n",
       "    <tr style=\"text-align: right;\">\n",
       "      <th></th>\n",
       "      <th>age</th>\n",
       "      <th>sex</th>\n",
       "      <th>cp</th>\n",
       "      <th>trestbps</th>\n",
       "      <th>chol</th>\n",
       "      <th>fbs</th>\n",
       "      <th>restecg</th>\n",
       "      <th>thalach</th>\n",
       "      <th>exang</th>\n",
       "      <th>oldpeak</th>\n",
       "      <th>slope</th>\n",
       "      <th>ca</th>\n",
       "      <th>thal</th>\n",
       "      <th>target</th>\n",
       "    </tr>\n",
       "  </thead>\n",
       "  <tbody>\n",
       "    <tr>\n",
       "      <td>0</td>\n",
       "      <td>63</td>\n",
       "      <td>1</td>\n",
       "      <td>3</td>\n",
       "      <td>145</td>\n",
       "      <td>233</td>\n",
       "      <td>1</td>\n",
       "      <td>0</td>\n",
       "      <td>150</td>\n",
       "      <td>0</td>\n",
       "      <td>2.3</td>\n",
       "      <td>0</td>\n",
       "      <td>0</td>\n",
       "      <td>1</td>\n",
       "      <td>1</td>\n",
       "    </tr>\n",
       "    <tr>\n",
       "      <td>1</td>\n",
       "      <td>37</td>\n",
       "      <td>1</td>\n",
       "      <td>2</td>\n",
       "      <td>130</td>\n",
       "      <td>250</td>\n",
       "      <td>0</td>\n",
       "      <td>1</td>\n",
       "      <td>187</td>\n",
       "      <td>0</td>\n",
       "      <td>3.5</td>\n",
       "      <td>0</td>\n",
       "      <td>0</td>\n",
       "      <td>2</td>\n",
       "      <td>1</td>\n",
       "    </tr>\n",
       "    <tr>\n",
       "      <td>2</td>\n",
       "      <td>41</td>\n",
       "      <td>0</td>\n",
       "      <td>1</td>\n",
       "      <td>130</td>\n",
       "      <td>204</td>\n",
       "      <td>0</td>\n",
       "      <td>0</td>\n",
       "      <td>172</td>\n",
       "      <td>0</td>\n",
       "      <td>1.4</td>\n",
       "      <td>2</td>\n",
       "      <td>0</td>\n",
       "      <td>2</td>\n",
       "      <td>1</td>\n",
       "    </tr>\n",
       "    <tr>\n",
       "      <td>3</td>\n",
       "      <td>56</td>\n",
       "      <td>1</td>\n",
       "      <td>1</td>\n",
       "      <td>120</td>\n",
       "      <td>236</td>\n",
       "      <td>0</td>\n",
       "      <td>1</td>\n",
       "      <td>178</td>\n",
       "      <td>0</td>\n",
       "      <td>0.8</td>\n",
       "      <td>2</td>\n",
       "      <td>0</td>\n",
       "      <td>2</td>\n",
       "      <td>1</td>\n",
       "    </tr>\n",
       "    <tr>\n",
       "      <td>4</td>\n",
       "      <td>57</td>\n",
       "      <td>0</td>\n",
       "      <td>0</td>\n",
       "      <td>120</td>\n",
       "      <td>354</td>\n",
       "      <td>0</td>\n",
       "      <td>1</td>\n",
       "      <td>163</td>\n",
       "      <td>1</td>\n",
       "      <td>0.6</td>\n",
       "      <td>2</td>\n",
       "      <td>0</td>\n",
       "      <td>2</td>\n",
       "      <td>1</td>\n",
       "    </tr>\n",
       "  </tbody>\n",
       "</table>\n",
       "</div>"
      ],
      "text/plain": [
       "   age  sex  cp  trestbps  chol  fbs  restecg  thalach  exang  oldpeak  slope  \\\n",
       "0   63    1   3       145   233    1        0      150      0      2.3      0   \n",
       "1   37    1   2       130   250    0        1      187      0      3.5      0   \n",
       "2   41    0   1       130   204    0        0      172      0      1.4      2   \n",
       "3   56    1   1       120   236    0        1      178      0      0.8      2   \n",
       "4   57    0   0       120   354    0        1      163      1      0.6      2   \n",
       "\n",
       "   ca  thal  target  \n",
       "0   0     1       1  \n",
       "1   0     2       1  \n",
       "2   0     2       1  \n",
       "3   0     2       1  \n",
       "4   0     2       1  "
      ]
     },
     "execution_count": 27,
     "metadata": {},
     "output_type": "execute_result"
    }
   ],
   "source": [
    "df.head()"
   ]
  },
  {
   "cell_type": "code",
   "execution_count": 28,
   "metadata": {},
   "outputs": [
    {
     "data": {
      "text/html": [
       "<div>\n",
       "<style scoped>\n",
       "    .dataframe tbody tr th:only-of-type {\n",
       "        vertical-align: middle;\n",
       "    }\n",
       "\n",
       "    .dataframe tbody tr th {\n",
       "        vertical-align: top;\n",
       "    }\n",
       "\n",
       "    .dataframe thead th {\n",
       "        text-align: right;\n",
       "    }\n",
       "</style>\n",
       "<table border=\"1\" class=\"dataframe\">\n",
       "  <thead>\n",
       "    <tr style=\"text-align: right;\">\n",
       "      <th></th>\n",
       "      <th>age</th>\n",
       "      <th>sex</th>\n",
       "      <th>cp</th>\n",
       "      <th>trestbps</th>\n",
       "      <th>chol</th>\n",
       "      <th>fbs</th>\n",
       "      <th>restecg</th>\n",
       "      <th>thalach</th>\n",
       "      <th>exang</th>\n",
       "      <th>oldpeak</th>\n",
       "      <th>slope</th>\n",
       "      <th>ca</th>\n",
       "      <th>thal</th>\n",
       "      <th>target</th>\n",
       "    </tr>\n",
       "  </thead>\n",
       "  <tbody>\n",
       "    <tr>\n",
       "      <td>count</td>\n",
       "      <td>303.000000</td>\n",
       "      <td>303.000000</td>\n",
       "      <td>303.000000</td>\n",
       "      <td>303.000000</td>\n",
       "      <td>303.000000</td>\n",
       "      <td>303.000000</td>\n",
       "      <td>303.000000</td>\n",
       "      <td>303.000000</td>\n",
       "      <td>303.000000</td>\n",
       "      <td>303.000000</td>\n",
       "      <td>303.000000</td>\n",
       "      <td>303.000000</td>\n",
       "      <td>303.000000</td>\n",
       "      <td>303.000000</td>\n",
       "    </tr>\n",
       "    <tr>\n",
       "      <td>mean</td>\n",
       "      <td>54.366337</td>\n",
       "      <td>0.683168</td>\n",
       "      <td>0.966997</td>\n",
       "      <td>131.623762</td>\n",
       "      <td>246.264026</td>\n",
       "      <td>0.148515</td>\n",
       "      <td>0.528053</td>\n",
       "      <td>149.646865</td>\n",
       "      <td>0.326733</td>\n",
       "      <td>1.039604</td>\n",
       "      <td>1.399340</td>\n",
       "      <td>0.729373</td>\n",
       "      <td>2.313531</td>\n",
       "      <td>0.544554</td>\n",
       "    </tr>\n",
       "    <tr>\n",
       "      <td>std</td>\n",
       "      <td>9.082101</td>\n",
       "      <td>0.466011</td>\n",
       "      <td>1.032052</td>\n",
       "      <td>17.538143</td>\n",
       "      <td>51.830751</td>\n",
       "      <td>0.356198</td>\n",
       "      <td>0.525860</td>\n",
       "      <td>22.905161</td>\n",
       "      <td>0.469794</td>\n",
       "      <td>1.161075</td>\n",
       "      <td>0.616226</td>\n",
       "      <td>1.022606</td>\n",
       "      <td>0.612277</td>\n",
       "      <td>0.498835</td>\n",
       "    </tr>\n",
       "    <tr>\n",
       "      <td>min</td>\n",
       "      <td>29.000000</td>\n",
       "      <td>0.000000</td>\n",
       "      <td>0.000000</td>\n",
       "      <td>94.000000</td>\n",
       "      <td>126.000000</td>\n",
       "      <td>0.000000</td>\n",
       "      <td>0.000000</td>\n",
       "      <td>71.000000</td>\n",
       "      <td>0.000000</td>\n",
       "      <td>0.000000</td>\n",
       "      <td>0.000000</td>\n",
       "      <td>0.000000</td>\n",
       "      <td>0.000000</td>\n",
       "      <td>0.000000</td>\n",
       "    </tr>\n",
       "    <tr>\n",
       "      <td>25%</td>\n",
       "      <td>47.500000</td>\n",
       "      <td>0.000000</td>\n",
       "      <td>0.000000</td>\n",
       "      <td>120.000000</td>\n",
       "      <td>211.000000</td>\n",
       "      <td>0.000000</td>\n",
       "      <td>0.000000</td>\n",
       "      <td>133.500000</td>\n",
       "      <td>0.000000</td>\n",
       "      <td>0.000000</td>\n",
       "      <td>1.000000</td>\n",
       "      <td>0.000000</td>\n",
       "      <td>2.000000</td>\n",
       "      <td>0.000000</td>\n",
       "    </tr>\n",
       "    <tr>\n",
       "      <td>50%</td>\n",
       "      <td>55.000000</td>\n",
       "      <td>1.000000</td>\n",
       "      <td>1.000000</td>\n",
       "      <td>130.000000</td>\n",
       "      <td>240.000000</td>\n",
       "      <td>0.000000</td>\n",
       "      <td>1.000000</td>\n",
       "      <td>153.000000</td>\n",
       "      <td>0.000000</td>\n",
       "      <td>0.800000</td>\n",
       "      <td>1.000000</td>\n",
       "      <td>0.000000</td>\n",
       "      <td>2.000000</td>\n",
       "      <td>1.000000</td>\n",
       "    </tr>\n",
       "    <tr>\n",
       "      <td>75%</td>\n",
       "      <td>61.000000</td>\n",
       "      <td>1.000000</td>\n",
       "      <td>2.000000</td>\n",
       "      <td>140.000000</td>\n",
       "      <td>274.500000</td>\n",
       "      <td>0.000000</td>\n",
       "      <td>1.000000</td>\n",
       "      <td>166.000000</td>\n",
       "      <td>1.000000</td>\n",
       "      <td>1.600000</td>\n",
       "      <td>2.000000</td>\n",
       "      <td>1.000000</td>\n",
       "      <td>3.000000</td>\n",
       "      <td>1.000000</td>\n",
       "    </tr>\n",
       "    <tr>\n",
       "      <td>max</td>\n",
       "      <td>77.000000</td>\n",
       "      <td>1.000000</td>\n",
       "      <td>3.000000</td>\n",
       "      <td>200.000000</td>\n",
       "      <td>564.000000</td>\n",
       "      <td>1.000000</td>\n",
       "      <td>2.000000</td>\n",
       "      <td>202.000000</td>\n",
       "      <td>1.000000</td>\n",
       "      <td>6.200000</td>\n",
       "      <td>2.000000</td>\n",
       "      <td>4.000000</td>\n",
       "      <td>3.000000</td>\n",
       "      <td>1.000000</td>\n",
       "    </tr>\n",
       "  </tbody>\n",
       "</table>\n",
       "</div>"
      ],
      "text/plain": [
       "              age         sex          cp    trestbps        chol         fbs  \\\n",
       "count  303.000000  303.000000  303.000000  303.000000  303.000000  303.000000   \n",
       "mean    54.366337    0.683168    0.966997  131.623762  246.264026    0.148515   \n",
       "std      9.082101    0.466011    1.032052   17.538143   51.830751    0.356198   \n",
       "min     29.000000    0.000000    0.000000   94.000000  126.000000    0.000000   \n",
       "25%     47.500000    0.000000    0.000000  120.000000  211.000000    0.000000   \n",
       "50%     55.000000    1.000000    1.000000  130.000000  240.000000    0.000000   \n",
       "75%     61.000000    1.000000    2.000000  140.000000  274.500000    0.000000   \n",
       "max     77.000000    1.000000    3.000000  200.000000  564.000000    1.000000   \n",
       "\n",
       "          restecg     thalach       exang     oldpeak       slope          ca  \\\n",
       "count  303.000000  303.000000  303.000000  303.000000  303.000000  303.000000   \n",
       "mean     0.528053  149.646865    0.326733    1.039604    1.399340    0.729373   \n",
       "std      0.525860   22.905161    0.469794    1.161075    0.616226    1.022606   \n",
       "min      0.000000   71.000000    0.000000    0.000000    0.000000    0.000000   \n",
       "25%      0.000000  133.500000    0.000000    0.000000    1.000000    0.000000   \n",
       "50%      1.000000  153.000000    0.000000    0.800000    1.000000    0.000000   \n",
       "75%      1.000000  166.000000    1.000000    1.600000    2.000000    1.000000   \n",
       "max      2.000000  202.000000    1.000000    6.200000    2.000000    4.000000   \n",
       "\n",
       "             thal      target  \n",
       "count  303.000000  303.000000  \n",
       "mean     2.313531    0.544554  \n",
       "std      0.612277    0.498835  \n",
       "min      0.000000    0.000000  \n",
       "25%      2.000000    0.000000  \n",
       "50%      2.000000    1.000000  \n",
       "75%      3.000000    1.000000  \n",
       "max      3.000000    1.000000  "
      ]
     },
     "execution_count": 28,
     "metadata": {},
     "output_type": "execute_result"
    }
   ],
   "source": [
    "df.describe()"
   ]
  },
  {
   "cell_type": "code",
   "execution_count": 29,
   "metadata": {},
   "outputs": [
    {
     "data": {
      "text/html": [
       "<div>\n",
       "<style scoped>\n",
       "    .dataframe tbody tr th:only-of-type {\n",
       "        vertical-align: middle;\n",
       "    }\n",
       "\n",
       "    .dataframe tbody tr th {\n",
       "        vertical-align: top;\n",
       "    }\n",
       "\n",
       "    .dataframe thead th {\n",
       "        text-align: right;\n",
       "    }\n",
       "</style>\n",
       "<table border=\"1\" class=\"dataframe\">\n",
       "  <thead>\n",
       "    <tr style=\"text-align: right;\">\n",
       "      <th></th>\n",
       "      <th>age</th>\n",
       "      <th>sex</th>\n",
       "      <th>cp</th>\n",
       "      <th>trestbps</th>\n",
       "      <th>chol</th>\n",
       "      <th>fbs</th>\n",
       "      <th>restecg</th>\n",
       "      <th>thalach</th>\n",
       "      <th>exang</th>\n",
       "      <th>oldpeak</th>\n",
       "      <th>slope</th>\n",
       "      <th>ca</th>\n",
       "      <th>thal</th>\n",
       "      <th>target</th>\n",
       "    </tr>\n",
       "  </thead>\n",
       "  <tbody>\n",
       "    <tr>\n",
       "      <td>age</td>\n",
       "      <td>1.000000</td>\n",
       "      <td>-0.098447</td>\n",
       "      <td>-0.068653</td>\n",
       "      <td>0.279351</td>\n",
       "      <td>0.213678</td>\n",
       "      <td>0.121308</td>\n",
       "      <td>-0.116211</td>\n",
       "      <td>-0.398522</td>\n",
       "      <td>0.096801</td>\n",
       "      <td>0.210013</td>\n",
       "      <td>-0.168814</td>\n",
       "      <td>0.276326</td>\n",
       "      <td>0.068001</td>\n",
       "      <td>-0.225439</td>\n",
       "    </tr>\n",
       "    <tr>\n",
       "      <td>sex</td>\n",
       "      <td>-0.098447</td>\n",
       "      <td>1.000000</td>\n",
       "      <td>-0.049353</td>\n",
       "      <td>-0.056769</td>\n",
       "      <td>-0.197912</td>\n",
       "      <td>0.045032</td>\n",
       "      <td>-0.058196</td>\n",
       "      <td>-0.044020</td>\n",
       "      <td>0.141664</td>\n",
       "      <td>0.096093</td>\n",
       "      <td>-0.030711</td>\n",
       "      <td>0.118261</td>\n",
       "      <td>0.210041</td>\n",
       "      <td>-0.280937</td>\n",
       "    </tr>\n",
       "    <tr>\n",
       "      <td>cp</td>\n",
       "      <td>-0.068653</td>\n",
       "      <td>-0.049353</td>\n",
       "      <td>1.000000</td>\n",
       "      <td>0.047608</td>\n",
       "      <td>-0.076904</td>\n",
       "      <td>0.094444</td>\n",
       "      <td>0.044421</td>\n",
       "      <td>0.295762</td>\n",
       "      <td>-0.394280</td>\n",
       "      <td>-0.149230</td>\n",
       "      <td>0.119717</td>\n",
       "      <td>-0.181053</td>\n",
       "      <td>-0.161736</td>\n",
       "      <td>0.433798</td>\n",
       "    </tr>\n",
       "    <tr>\n",
       "      <td>trestbps</td>\n",
       "      <td>0.279351</td>\n",
       "      <td>-0.056769</td>\n",
       "      <td>0.047608</td>\n",
       "      <td>1.000000</td>\n",
       "      <td>0.123174</td>\n",
       "      <td>0.177531</td>\n",
       "      <td>-0.114103</td>\n",
       "      <td>-0.046698</td>\n",
       "      <td>0.067616</td>\n",
       "      <td>0.193216</td>\n",
       "      <td>-0.121475</td>\n",
       "      <td>0.101389</td>\n",
       "      <td>0.062210</td>\n",
       "      <td>-0.144931</td>\n",
       "    </tr>\n",
       "    <tr>\n",
       "      <td>chol</td>\n",
       "      <td>0.213678</td>\n",
       "      <td>-0.197912</td>\n",
       "      <td>-0.076904</td>\n",
       "      <td>0.123174</td>\n",
       "      <td>1.000000</td>\n",
       "      <td>0.013294</td>\n",
       "      <td>-0.151040</td>\n",
       "      <td>-0.009940</td>\n",
       "      <td>0.067023</td>\n",
       "      <td>0.053952</td>\n",
       "      <td>-0.004038</td>\n",
       "      <td>0.070511</td>\n",
       "      <td>0.098803</td>\n",
       "      <td>-0.085239</td>\n",
       "    </tr>\n",
       "    <tr>\n",
       "      <td>fbs</td>\n",
       "      <td>0.121308</td>\n",
       "      <td>0.045032</td>\n",
       "      <td>0.094444</td>\n",
       "      <td>0.177531</td>\n",
       "      <td>0.013294</td>\n",
       "      <td>1.000000</td>\n",
       "      <td>-0.084189</td>\n",
       "      <td>-0.008567</td>\n",
       "      <td>0.025665</td>\n",
       "      <td>0.005747</td>\n",
       "      <td>-0.059894</td>\n",
       "      <td>0.137979</td>\n",
       "      <td>-0.032019</td>\n",
       "      <td>-0.028046</td>\n",
       "    </tr>\n",
       "    <tr>\n",
       "      <td>restecg</td>\n",
       "      <td>-0.116211</td>\n",
       "      <td>-0.058196</td>\n",
       "      <td>0.044421</td>\n",
       "      <td>-0.114103</td>\n",
       "      <td>-0.151040</td>\n",
       "      <td>-0.084189</td>\n",
       "      <td>1.000000</td>\n",
       "      <td>0.044123</td>\n",
       "      <td>-0.070733</td>\n",
       "      <td>-0.058770</td>\n",
       "      <td>0.093045</td>\n",
       "      <td>-0.072042</td>\n",
       "      <td>-0.011981</td>\n",
       "      <td>0.137230</td>\n",
       "    </tr>\n",
       "    <tr>\n",
       "      <td>thalach</td>\n",
       "      <td>-0.398522</td>\n",
       "      <td>-0.044020</td>\n",
       "      <td>0.295762</td>\n",
       "      <td>-0.046698</td>\n",
       "      <td>-0.009940</td>\n",
       "      <td>-0.008567</td>\n",
       "      <td>0.044123</td>\n",
       "      <td>1.000000</td>\n",
       "      <td>-0.378812</td>\n",
       "      <td>-0.344187</td>\n",
       "      <td>0.386784</td>\n",
       "      <td>-0.213177</td>\n",
       "      <td>-0.096439</td>\n",
       "      <td>0.421741</td>\n",
       "    </tr>\n",
       "    <tr>\n",
       "      <td>exang</td>\n",
       "      <td>0.096801</td>\n",
       "      <td>0.141664</td>\n",
       "      <td>-0.394280</td>\n",
       "      <td>0.067616</td>\n",
       "      <td>0.067023</td>\n",
       "      <td>0.025665</td>\n",
       "      <td>-0.070733</td>\n",
       "      <td>-0.378812</td>\n",
       "      <td>1.000000</td>\n",
       "      <td>0.288223</td>\n",
       "      <td>-0.257748</td>\n",
       "      <td>0.115739</td>\n",
       "      <td>0.206754</td>\n",
       "      <td>-0.436757</td>\n",
       "    </tr>\n",
       "    <tr>\n",
       "      <td>oldpeak</td>\n",
       "      <td>0.210013</td>\n",
       "      <td>0.096093</td>\n",
       "      <td>-0.149230</td>\n",
       "      <td>0.193216</td>\n",
       "      <td>0.053952</td>\n",
       "      <td>0.005747</td>\n",
       "      <td>-0.058770</td>\n",
       "      <td>-0.344187</td>\n",
       "      <td>0.288223</td>\n",
       "      <td>1.000000</td>\n",
       "      <td>-0.577537</td>\n",
       "      <td>0.222682</td>\n",
       "      <td>0.210244</td>\n",
       "      <td>-0.430696</td>\n",
       "    </tr>\n",
       "    <tr>\n",
       "      <td>slope</td>\n",
       "      <td>-0.168814</td>\n",
       "      <td>-0.030711</td>\n",
       "      <td>0.119717</td>\n",
       "      <td>-0.121475</td>\n",
       "      <td>-0.004038</td>\n",
       "      <td>-0.059894</td>\n",
       "      <td>0.093045</td>\n",
       "      <td>0.386784</td>\n",
       "      <td>-0.257748</td>\n",
       "      <td>-0.577537</td>\n",
       "      <td>1.000000</td>\n",
       "      <td>-0.080155</td>\n",
       "      <td>-0.104764</td>\n",
       "      <td>0.345877</td>\n",
       "    </tr>\n",
       "    <tr>\n",
       "      <td>ca</td>\n",
       "      <td>0.276326</td>\n",
       "      <td>0.118261</td>\n",
       "      <td>-0.181053</td>\n",
       "      <td>0.101389</td>\n",
       "      <td>0.070511</td>\n",
       "      <td>0.137979</td>\n",
       "      <td>-0.072042</td>\n",
       "      <td>-0.213177</td>\n",
       "      <td>0.115739</td>\n",
       "      <td>0.222682</td>\n",
       "      <td>-0.080155</td>\n",
       "      <td>1.000000</td>\n",
       "      <td>0.151832</td>\n",
       "      <td>-0.391724</td>\n",
       "    </tr>\n",
       "    <tr>\n",
       "      <td>thal</td>\n",
       "      <td>0.068001</td>\n",
       "      <td>0.210041</td>\n",
       "      <td>-0.161736</td>\n",
       "      <td>0.062210</td>\n",
       "      <td>0.098803</td>\n",
       "      <td>-0.032019</td>\n",
       "      <td>-0.011981</td>\n",
       "      <td>-0.096439</td>\n",
       "      <td>0.206754</td>\n",
       "      <td>0.210244</td>\n",
       "      <td>-0.104764</td>\n",
       "      <td>0.151832</td>\n",
       "      <td>1.000000</td>\n",
       "      <td>-0.344029</td>\n",
       "    </tr>\n",
       "    <tr>\n",
       "      <td>target</td>\n",
       "      <td>-0.225439</td>\n",
       "      <td>-0.280937</td>\n",
       "      <td>0.433798</td>\n",
       "      <td>-0.144931</td>\n",
       "      <td>-0.085239</td>\n",
       "      <td>-0.028046</td>\n",
       "      <td>0.137230</td>\n",
       "      <td>0.421741</td>\n",
       "      <td>-0.436757</td>\n",
       "      <td>-0.430696</td>\n",
       "      <td>0.345877</td>\n",
       "      <td>-0.391724</td>\n",
       "      <td>-0.344029</td>\n",
       "      <td>1.000000</td>\n",
       "    </tr>\n",
       "  </tbody>\n",
       "</table>\n",
       "</div>"
      ],
      "text/plain": [
       "               age       sex        cp  trestbps      chol       fbs  \\\n",
       "age       1.000000 -0.098447 -0.068653  0.279351  0.213678  0.121308   \n",
       "sex      -0.098447  1.000000 -0.049353 -0.056769 -0.197912  0.045032   \n",
       "cp       -0.068653 -0.049353  1.000000  0.047608 -0.076904  0.094444   \n",
       "trestbps  0.279351 -0.056769  0.047608  1.000000  0.123174  0.177531   \n",
       "chol      0.213678 -0.197912 -0.076904  0.123174  1.000000  0.013294   \n",
       "fbs       0.121308  0.045032  0.094444  0.177531  0.013294  1.000000   \n",
       "restecg  -0.116211 -0.058196  0.044421 -0.114103 -0.151040 -0.084189   \n",
       "thalach  -0.398522 -0.044020  0.295762 -0.046698 -0.009940 -0.008567   \n",
       "exang     0.096801  0.141664 -0.394280  0.067616  0.067023  0.025665   \n",
       "oldpeak   0.210013  0.096093 -0.149230  0.193216  0.053952  0.005747   \n",
       "slope    -0.168814 -0.030711  0.119717 -0.121475 -0.004038 -0.059894   \n",
       "ca        0.276326  0.118261 -0.181053  0.101389  0.070511  0.137979   \n",
       "thal      0.068001  0.210041 -0.161736  0.062210  0.098803 -0.032019   \n",
       "target   -0.225439 -0.280937  0.433798 -0.144931 -0.085239 -0.028046   \n",
       "\n",
       "           restecg   thalach     exang   oldpeak     slope        ca  \\\n",
       "age      -0.116211 -0.398522  0.096801  0.210013 -0.168814  0.276326   \n",
       "sex      -0.058196 -0.044020  0.141664  0.096093 -0.030711  0.118261   \n",
       "cp        0.044421  0.295762 -0.394280 -0.149230  0.119717 -0.181053   \n",
       "trestbps -0.114103 -0.046698  0.067616  0.193216 -0.121475  0.101389   \n",
       "chol     -0.151040 -0.009940  0.067023  0.053952 -0.004038  0.070511   \n",
       "fbs      -0.084189 -0.008567  0.025665  0.005747 -0.059894  0.137979   \n",
       "restecg   1.000000  0.044123 -0.070733 -0.058770  0.093045 -0.072042   \n",
       "thalach   0.044123  1.000000 -0.378812 -0.344187  0.386784 -0.213177   \n",
       "exang    -0.070733 -0.378812  1.000000  0.288223 -0.257748  0.115739   \n",
       "oldpeak  -0.058770 -0.344187  0.288223  1.000000 -0.577537  0.222682   \n",
       "slope     0.093045  0.386784 -0.257748 -0.577537  1.000000 -0.080155   \n",
       "ca       -0.072042 -0.213177  0.115739  0.222682 -0.080155  1.000000   \n",
       "thal     -0.011981 -0.096439  0.206754  0.210244 -0.104764  0.151832   \n",
       "target    0.137230  0.421741 -0.436757 -0.430696  0.345877 -0.391724   \n",
       "\n",
       "              thal    target  \n",
       "age       0.068001 -0.225439  \n",
       "sex       0.210041 -0.280937  \n",
       "cp       -0.161736  0.433798  \n",
       "trestbps  0.062210 -0.144931  \n",
       "chol      0.098803 -0.085239  \n",
       "fbs      -0.032019 -0.028046  \n",
       "restecg  -0.011981  0.137230  \n",
       "thalach  -0.096439  0.421741  \n",
       "exang     0.206754 -0.436757  \n",
       "oldpeak   0.210244 -0.430696  \n",
       "slope    -0.104764  0.345877  \n",
       "ca        0.151832 -0.391724  \n",
       "thal      1.000000 -0.344029  \n",
       "target   -0.344029  1.000000  "
      ]
     },
     "execution_count": 29,
     "metadata": {},
     "output_type": "execute_result"
    }
   ],
   "source": [
    "df.corr()"
   ]
  },
  {
   "cell_type": "code",
   "execution_count": 30,
   "metadata": {},
   "outputs": [
    {
     "data": {
      "text/plain": [
       "<seaborn.axisgrid.FacetGrid at 0x1508aa59b48>"
      ]
     },
     "execution_count": 30,
     "metadata": {},
     "output_type": "execute_result"
    },
    {
     "data": {
      "image/png": "[encoded data removed]",
      "text/plain": [
       "<Figure size 775.25x360 with 2 Axes>"
      ]
     },
     "metadata": {
      "needs_background": "light"
     },
     "output_type": "display_data"
    }
   ],
   "source": [
    "sns.relplot('age','chol',data=df,col='sex',hue='thal',size='thal')"
   ]
  },
  {
   "cell_type": "code",
   "execution_count": 31,
   "metadata": {},
   "outputs": [
    {
     "data": {
      "text/plain": [
       "<matplotlib.axes._subplots.AxesSubplot at 0x1508abd06c8>"
      ]
     },
     "execution_count": 31,
     "metadata": {},
     "output_type": "execute_result"
    },
    {
     "data": {
      "image/png": "[encoded data removed]",
      "text/plain": [
       "<Figure size 432x288 with 1 Axes>"
      ]
     },
     "metadata": {
      "needs_background": "light"
     },
     "output_type": "display_data"
    }
   ],
   "source": [
    "sns.distplot(df['age'])"
   ]
  },
  {
   "cell_type": "code",
   "execution_count": 32,
   "metadata": {},
   "outputs": [
    {
     "data": {
      "text/plain": [
       "<matplotlib.axes._subplots.AxesSubplot at 0x1508a5ed3c8>"
      ]
     },
     "execution_count": 32,
     "metadata": {},
     "output_type": "execute_result"
    },
    {
     "data": {
      "image/png": "[encoded data removed]",
      "text/plain": [
       "<Figure size 432x288 with 1 Axes>"
      ]
     },
     "metadata": {
      "needs_background": "light"
     },
     "output_type": "display_data"
    }
   ],
   "source": [
    "sns.boxplot(x='sex',y='chol',data=df,hue='cp')"
   ]
  },
  {
   "cell_type": "code",
   "execution_count": 33,
   "metadata": {},
   "outputs": [
    {
     "data": {
      "text/plain": [
       "<matplotlib.axes._subplots.AxesSubplot at 0x1508aeba5c8>"
      ]
     },
     "execution_count": 33,
     "metadata": {},
     "output_type": "execute_result"
    },
    {
     "data": {
      "image/png": "[encoded data removed]",
      "text/plain": [
       "<Figure size 432x288 with 1 Axes>"
      ]
     },
     "metadata": {
      "needs_background": "light"
     },
     "output_type": "display_data"
    }
   ],
   "source": [
    "sns.scatterplot(x='chol',y='thalach',data=df,hue='cp',size='cp')"
   ]
  },
  {
   "cell_type": "code",
   "execution_count": 34,
   "metadata": {},
   "outputs": [
    {
     "data": {
      "text/plain": [
       "<matplotlib.axes._subplots.AxesSubplot at 0x1508af1f948>"
      ]
     },
     "execution_count": 34,
     "metadata": {},
     "output_type": "execute_result"
    },
    {
     "data": {
      "image/png": "[encoded data removed]",
      "text/plain": [
       "<Figure size 432x288 with 1 Axes>"
      ]
     },
     "metadata": {
      "needs_background": "light"
     },
     "output_type": "display_data"
    }
   ],
   "source": [
    "plt.title('Counts of Female and Male')\n",
    "sns.countplot('sex',data=df)"
   ]
  },
  {
   "cell_type": "code",
   "execution_count": 35,
   "metadata": {},
   "outputs": [
    {
     "data": {
      "text/plain": [
       "<matplotlib.axes._subplots.AxesSubplot at 0x1508affa788>"
      ]
     },
     "execution_count": 35,
     "metadata": {},
     "output_type": "execute_result"
    },
    {
     "data": {
      "image/png": "[encoded data removed]",
      "text/plain": [
       "<Figure size 432x288 with 3 Axes>"
      ]
     },
     "metadata": {
      "needs_background": "light"
     },
     "output_type": "display_data"
    }
   ],
   "source": [
    "f,axs=plt.subplots(3)\n",
    "sns.distplot(df['age'],ax=axs[0])\n",
    "sns.distplot(df['chol'],ax=axs[1])\n",
    "sns.distplot(df['trestbps'],ax=axs[2])"
   ]
  },
  {
   "cell_type": "code",
   "execution_count": 36,
   "metadata": {},
   "outputs": [
    {
     "data": {
      "text/plain": [
       "<matplotlib.axes._subplots.AxesSubplot at 0x1508b10d2c8>"
      ]
     },
     "execution_count": 36,
     "metadata": {},
     "output_type": "execute_result"
    },
    {
     "data": {
      "image/png": "[encoded data removed]",
      "text/plain": [
       "<Figure size 432x288 with 1 Axes>"
      ]
     },
     "metadata": {
      "needs_background": "light"
     },
     "output_type": "display_data"
    }
   ],
   "source": [
    "sns.countplot('target',data=df)"
   ]
  },
  {
   "cell_type": "code",
   "execution_count": 37,
   "metadata": {},
   "outputs": [],
   "source": [
    "X=df.drop('target',axis=1)"
   ]
  },
  {
   "cell_type": "code",
   "execution_count": 38,
   "metadata": {},
   "outputs": [],
   "source": [
    "y=df.iloc[:,-1]"
   ]
  },
  {
   "cell_type": "code",
   "execution_count": 39,
   "metadata": {},
   "outputs": [
    {
     "data": {
      "text/plain": [
       "(303, 13)"
      ]
     },
     "execution_count": 39,
     "metadata": {},
     "output_type": "execute_result"
    }
   ],
   "source": [
    "X.shape"
   ]
  },
  {
   "cell_type": "code",
   "execution_count": 669,
   "metadata": {},
   "outputs": [
    {
     "data": {
      "text/plain": [
       "512"
      ]
     },
     "execution_count": 669,
     "metadata": {},
     "output_type": "execute_result"
    }
   ],
   "source": [
    "256*2"
   ]
  },
  {
   "cell_type": "code",
   "execution_count": 334,
   "metadata": {},
   "outputs": [],
   "source": [
    "from keras.models import Sequential\n",
    "from keras.layers import Dense,Dropout"
   ]
  },
  {
   "cell_type": "code",
   "execution_count": 936,
   "metadata": {},
   "outputs": [],
   "source": [
    "model=Sequential()\n",
    "model.add(Dense(13,activation='relu',input_shape=(13,)))\n",
    "model.add(Dropout(0.2))\n",
    "model.add(Dense(32,activation='relu'))\n",
    "model.add(Dropout(0.2))\n",
    "model.add(Dense(32,activation='relu'))\n",
    "model.add(Dropout(0.2))\n",
    "model.add(Dense(64,activation='relu'))\n",
    "model.add(Dense(1,activation='sigmoid'))"
   ]
  },
  {
   "cell_type": "code",
   "execution_count": 937,
   "metadata": {},
   "outputs": [],
   "source": [
    "model.compile(optimizer='adam',loss='binary_crossentropy',metrics=['accuracy'])"
   ]
  },
  {
   "cell_type": "code",
   "execution_count": 938,
   "metadata": {},
   "outputs": [
    {
     "name": "stdout",
     "output_type": "stream",
     "text": [
      "Model: \"sequential_57\"\n",
      "_________________________________________________________________\n",
      "Layer (type)                 Output Shape              Param #   \n",
      "=================================================================\n",
      "dense_256 (Dense)            (None, 13)                182       \n",
      "_________________________________________________________________\n",
      "dropout_135 (Dropout)        (None, 13)                0         \n",
      "_________________________________________________________________\n",
      "dense_257 (Dense)            (None, 32)                448       \n",
      "_________________________________________________________________\n",
      "dropout_136 (Dropout)        (None, 32)                0         \n",
      "_________________________________________________________________\n",
      "dense_258 (Dense)            (None, 32)                1056      \n",
      "_________________________________________________________________\n",
      "dropout_137 (Dropout)        (None, 32)                0         \n",
      "_________________________________________________________________\n",
      "dense_259 (Dense)            (None, 64)                2112      \n",
      "_________________________________________________________________\n",
      "dense_260 (Dense)            (None, 1)                 65        \n",
      "=================================================================\n",
      "Total params: 3,863\n",
      "Trainable params: 3,863\n",
      "Non-trainable params: 0\n",
      "_________________________________________________________________\n"
     ]
    }
   ],
   "source": [
    "model.summary()"
   ]
  },
  {
   "cell_type": "code",
   "execution_count": 939,
   "metadata": {},
   "outputs": [],
   "source": [
    "from sklearn.preprocessing import MinMaxScaler\n",
    "from sklearn.model_selection import train_test_split"
   ]
  },
  {
   "cell_type": "code",
   "execution_count": 940,
   "metadata": {},
   "outputs": [],
   "source": [
    "X_train, X_test, y_train, y_test=train_test_split(X,y)"
   ]
  },
  {
   "cell_type": "code",
   "execution_count": 941,
   "metadata": {},
   "outputs": [],
   "source": [
    "scaler=MinMaxScaler()"
   ]
  },
  {
   "cell_type": "code",
   "execution_count": 942,
   "metadata": {},
   "outputs": [
    {
     "data": {
      "text/plain": [
       "MinMaxScaler(copy=True, feature_range=(0, 1))"
      ]
     },
     "execution_count": 942,
     "metadata": {},
     "output_type": "execute_result"
    }
   ],
   "source": [
    "scaler.fit(X_train,y_train)"
   ]
  },
  {
   "cell_type": "code",
   "execution_count": 943,
   "metadata": {},
   "outputs": [],
   "source": [
    "scaled_train=scaler.transform(X_train)\n",
    "scaled_test=scaler.transform(X_test)"
   ]
  },
  {
   "cell_type": "code",
   "execution_count": 944,
   "metadata": {},
   "outputs": [],
   "source": [
    "from keras.callbacks import EarlyStopping"
   ]
  },
  {
   "cell_type": "code",
   "execution_count": 945,
   "metadata": {},
   "outputs": [],
   "source": [
    "early=EarlyStopping(monitor='val_loss',patience=20)"
   ]
  },
  {
   "cell_type": "code",
   "execution_count": 946,
   "metadata": {},
   "outputs": [
    {
     "name": "stdout",
     "output_type": "stream",
     "text": [
      "Train on 227 samples, validate on 76 samples\n",
      "Epoch 1/600\n",
      "227/227 [==============================] - 1s 4ms/step - loss: 0.6720 - accuracy: 0.5595 - val_loss: 0.6609 - val_accuracy: 0.5132\n",
      "Epoch 2/600\n",
      "227/227 [==============================] - 0s 220us/step - loss: 0.6602 - accuracy: 0.5551 - val_loss: 0.6478 - val_accuracy: 0.5132\n",
      "Epoch 3/600\n",
      "227/227 [==============================] - 0s 255us/step - loss: 0.6535 - accuracy: 0.5595 - val_loss: 0.6373 - val_accuracy: 0.5263\n",
      "Epoch 4/600\n",
      "227/227 [==============================] - 0s 207us/step - loss: 0.6335 - accuracy: 0.5771 - val_loss: 0.6280 - val_accuracy: 0.5789\n",
      "Epoch 5/600\n",
      "227/227 [==============================] - 0s 229us/step - loss: 0.6102 - accuracy: 0.5947 - val_loss: 0.6118 - val_accuracy: 0.6184\n",
      "Epoch 6/600\n",
      "227/227 [==============================] - 0s 251us/step - loss: 0.6108 - accuracy: 0.6608 - val_loss: 0.5859 - val_accuracy: 0.6974\n",
      "Epoch 7/600\n",
      "227/227 [==============================] - 0s 216us/step - loss: 0.5995 - accuracy: 0.7137 - val_loss: 0.5598 - val_accuracy: 0.7763\n",
      "Epoch 8/600\n",
      "227/227 [==============================] - 0s 282us/step - loss: 0.5839 - accuracy: 0.7313 - val_loss: 0.5320 - val_accuracy: 0.7895\n",
      "Epoch 9/600\n",
      "227/227 [==============================] - 0s 251us/step - loss: 0.5883 - accuracy: 0.7621 - val_loss: 0.5059 - val_accuracy: 0.8026\n",
      "Epoch 10/600\n",
      "227/227 [==============================] - 0s 220us/step - loss: 0.5440 - accuracy: 0.7137 - val_loss: 0.4836 - val_accuracy: 0.8158\n",
      "Epoch 11/600\n",
      "227/227 [==============================] - 0s 269us/step - loss: 0.5220 - accuracy: 0.7577 - val_loss: 0.4623 - val_accuracy: 0.8158\n",
      "Epoch 12/600\n",
      "227/227 [==============================] - 0s 255us/step - loss: 0.5203 - accuracy: 0.7665 - val_loss: 0.4381 - val_accuracy: 0.8289\n",
      "Epoch 13/600\n",
      "227/227 [==============================] - 0s 251us/step - loss: 0.4962 - accuracy: 0.7665 - val_loss: 0.4088 - val_accuracy: 0.8158\n",
      "Epoch 14/600\n",
      "227/227 [==============================] - 0s 233us/step - loss: 0.5295 - accuracy: 0.7445 - val_loss: 0.3918 - val_accuracy: 0.8158\n",
      "Epoch 15/600\n",
      "227/227 [==============================] - 0s 225us/step - loss: 0.5266 - accuracy: 0.7709 - val_loss: 0.3944 - val_accuracy: 0.8289\n",
      "Epoch 16/600\n",
      "227/227 [==============================] - 0s 203us/step - loss: 0.4754 - accuracy: 0.7753 - val_loss: 0.3774 - val_accuracy: 0.8158\n",
      "Epoch 17/600\n",
      "227/227 [==============================] - 0s 203us/step - loss: 0.4548 - accuracy: 0.8282 - val_loss: 0.3670 - val_accuracy: 0.8289\n",
      "Epoch 18/600\n",
      "227/227 [==============================] - 0s 207us/step - loss: 0.4716 - accuracy: 0.7753 - val_loss: 0.3547 - val_accuracy: 0.8421\n",
      "Epoch 19/600\n",
      "227/227 [==============================] - 0s 220us/step - loss: 0.4496 - accuracy: 0.8062 - val_loss: 0.3473 - val_accuracy: 0.8289\n",
      "Epoch 20/600\n",
      "227/227 [==============================] - 0s 198us/step - loss: 0.4533 - accuracy: 0.8106 - val_loss: 0.3407 - val_accuracy: 0.8289\n",
      "Epoch 21/600\n",
      "227/227 [==============================] - 0s 211us/step - loss: 0.4524 - accuracy: 0.8062 - val_loss: 0.3365 - val_accuracy: 0.8684\n",
      "Epoch 22/600\n",
      "227/227 [==============================] - 0s 225us/step - loss: 0.4811 - accuracy: 0.7797 - val_loss: 0.3441 - val_accuracy: 0.8421\n",
      "Epoch 23/600\n",
      "227/227 [==============================] - 0s 211us/step - loss: 0.4317 - accuracy: 0.8018 - val_loss: 0.3388 - val_accuracy: 0.8816\n",
      "Epoch 24/600\n",
      "227/227 [==============================] - 0s 211us/step - loss: 0.4597 - accuracy: 0.8062 - val_loss: 0.3393 - val_accuracy: 0.8553\n",
      "Epoch 25/600\n",
      "227/227 [==============================] - 0s 229us/step - loss: 0.4879 - accuracy: 0.7753 - val_loss: 0.3371 - val_accuracy: 0.8553\n",
      "Epoch 26/600\n",
      "227/227 [==============================] - 0s 242us/step - loss: 0.4355 - accuracy: 0.7885 - val_loss: 0.3455 - val_accuracy: 0.8553\n",
      "Epoch 27/600\n",
      "227/227 [==============================] - 0s 330us/step - loss: 0.4395 - accuracy: 0.8062 - val_loss: 0.3416 - val_accuracy: 0.8421\n",
      "Epoch 28/600\n",
      "227/227 [==============================] - 0s 203us/step - loss: 0.4184 - accuracy: 0.8238 - val_loss: 0.3416 - val_accuracy: 0.8684\n",
      "Epoch 29/600\n",
      "227/227 [==============================] - 0s 251us/step - loss: 0.4277 - accuracy: 0.8194 - val_loss: 0.3388 - val_accuracy: 0.8421\n",
      "Epoch 30/600\n",
      "227/227 [==============================] - 0s 273us/step - loss: 0.4201 - accuracy: 0.8062 - val_loss: 0.3317 - val_accuracy: 0.8553\n",
      "Epoch 31/600\n",
      "227/227 [==============================] - 0s 220us/step - loss: 0.4351 - accuracy: 0.8062 - val_loss: 0.3255 - val_accuracy: 0.8421\n",
      "Epoch 32/600\n",
      "227/227 [==============================] - 0s 229us/step - loss: 0.4046 - accuracy: 0.8062 - val_loss: 0.3178 - val_accuracy: 0.8553\n",
      "Epoch 33/600\n",
      "227/227 [==============================] - 0s 242us/step - loss: 0.4602 - accuracy: 0.7974 - val_loss: 0.3289 - val_accuracy: 0.8553\n",
      "Epoch 34/600\n",
      "227/227 [==============================] - 0s 225us/step - loss: 0.4223 - accuracy: 0.8018 - val_loss: 0.3349 - val_accuracy: 0.8421\n",
      "Epoch 35/600\n",
      "227/227 [==============================] - 0s 225us/step - loss: 0.4355 - accuracy: 0.8106 - val_loss: 0.3329 - val_accuracy: 0.8421\n",
      "Epoch 36/600\n",
      "227/227 [==============================] - 0s 207us/step - loss: 0.4244 - accuracy: 0.8326 - val_loss: 0.3315 - val_accuracy: 0.8421\n",
      "Epoch 37/600\n",
      "227/227 [==============================] - 0s 207us/step - loss: 0.4264 - accuracy: 0.8018 - val_loss: 0.3298 - val_accuracy: 0.8289\n",
      "Epoch 38/600\n",
      "227/227 [==============================] - 0s 233us/step - loss: 0.4250 - accuracy: 0.8238 - val_loss: 0.3281 - val_accuracy: 0.8158\n",
      "Epoch 39/600\n",
      "227/227 [==============================] - 0s 233us/step - loss: 0.3956 - accuracy: 0.8370 - val_loss: 0.3310 - val_accuracy: 0.8421\n",
      "Epoch 40/600\n",
      "227/227 [==============================] - 0s 198us/step - loss: 0.4273 - accuracy: 0.8150 - val_loss: 0.3289 - val_accuracy: 0.8421\n",
      "Epoch 41/600\n",
      "227/227 [==============================] - 0s 225us/step - loss: 0.3821 - accuracy: 0.8326 - val_loss: 0.3214 - val_accuracy: 0.8684\n",
      "Epoch 42/600\n",
      "227/227 [==============================] - 0s 198us/step - loss: 0.4235 - accuracy: 0.8106 - val_loss: 0.3169 - val_accuracy: 0.8684\n",
      "Epoch 43/600\n",
      "227/227 [==============================] - 0s 211us/step - loss: 0.4055 - accuracy: 0.8370 - val_loss: 0.3159 - val_accuracy: 0.8947\n",
      "Epoch 44/600\n",
      "227/227 [==============================] - 0s 238us/step - loss: 0.3606 - accuracy: 0.8546 - val_loss: 0.3121 - val_accuracy: 0.8816\n",
      "Epoch 45/600\n",
      "227/227 [==============================] - 0s 203us/step - loss: 0.4117 - accuracy: 0.8062 - val_loss: 0.3062 - val_accuracy: 0.8816\n",
      "Epoch 46/600\n",
      "227/227 [==============================] - 0s 286us/step - loss: 0.4034 - accuracy: 0.8502 - val_loss: 0.3034 - val_accuracy: 0.8947\n",
      "Epoch 47/600\n",
      "227/227 [==============================] - 0s 207us/step - loss: 0.3583 - accuracy: 0.8458 - val_loss: 0.2938 - val_accuracy: 0.8816\n",
      "Epoch 48/600\n",
      "227/227 [==============================] - 0s 198us/step - loss: 0.4100 - accuracy: 0.8194 - val_loss: 0.2926 - val_accuracy: 0.8816\n",
      "Epoch 49/600\n",
      "227/227 [==============================] - 0s 238us/step - loss: 0.3903 - accuracy: 0.8238 - val_loss: 0.3028 - val_accuracy: 0.8553\n",
      "Epoch 50/600\n",
      "227/227 [==============================] - 0s 216us/step - loss: 0.3939 - accuracy: 0.8238 - val_loss: 0.3001 - val_accuracy: 0.8816\n",
      "Epoch 51/600\n",
      "227/227 [==============================] - 0s 220us/step - loss: 0.3619 - accuracy: 0.8326 - val_loss: 0.2989 - val_accuracy: 0.8684\n",
      "Epoch 52/600\n",
      "227/227 [==============================] - 0s 238us/step - loss: 0.3755 - accuracy: 0.8502 - val_loss: 0.3002 - val_accuracy: 0.8684\n",
      "Epoch 53/600\n",
      "227/227 [==============================] - 0s 220us/step - loss: 0.3482 - accuracy: 0.8590 - val_loss: 0.3076 - val_accuracy: 0.8684\n",
      "Epoch 54/600\n",
      "227/227 [==============================] - 0s 203us/step - loss: 0.3807 - accuracy: 0.8194 - val_loss: 0.3091 - val_accuracy: 0.8553\n",
      "Epoch 55/600\n",
      "227/227 [==============================] - 0s 203us/step - loss: 0.3867 - accuracy: 0.8238 - val_loss: 0.3103 - val_accuracy: 0.8553\n",
      "Epoch 56/600\n",
      "227/227 [==============================] - 0s 211us/step - loss: 0.3976 - accuracy: 0.8414 - val_loss: 0.3061 - val_accuracy: 0.8684\n"
     ]
    },
    {
     "name": "stdout",
     "output_type": "stream",
     "text": [
      "Epoch 57/600\n",
      "227/227 [==============================] - 0s 229us/step - loss: 0.3828 - accuracy: 0.8282 - val_loss: 0.3013 - val_accuracy: 0.8684\n",
      "Epoch 58/600\n",
      "227/227 [==============================] - 0s 194us/step - loss: 0.3676 - accuracy: 0.8546 - val_loss: 0.2960 - val_accuracy: 0.8816\n",
      "Epoch 59/600\n",
      "227/227 [==============================] - 0s 194us/step - loss: 0.3809 - accuracy: 0.8326 - val_loss: 0.2956 - val_accuracy: 0.8816\n",
      "Epoch 60/600\n",
      "227/227 [==============================] - 0s 225us/step - loss: 0.3986 - accuracy: 0.8326 - val_loss: 0.2977 - val_accuracy: 0.8684\n",
      "Epoch 61/600\n",
      "227/227 [==============================] - 0s 198us/step - loss: 0.3217 - accuracy: 0.8634 - val_loss: 0.2972 - val_accuracy: 0.8684\n",
      "Epoch 62/600\n",
      "227/227 [==============================] - 0s 216us/step - loss: 0.3771 - accuracy: 0.8238 - val_loss: 0.2974 - val_accuracy: 0.8553\n",
      "Epoch 63/600\n",
      "227/227 [==============================] - 0s 216us/step - loss: 0.3698 - accuracy: 0.8634 - val_loss: 0.2978 - val_accuracy: 0.8553\n",
      "Epoch 64/600\n",
      "227/227 [==============================] - 0s 225us/step - loss: 0.3741 - accuracy: 0.8414 - val_loss: 0.3066 - val_accuracy: 0.8684\n",
      "Epoch 65/600\n",
      "227/227 [==============================] - 0s 203us/step - loss: 0.3812 - accuracy: 0.8634 - val_loss: 0.3302 - val_accuracy: 0.8684\n",
      "Epoch 66/600\n",
      "227/227 [==============================] - 0s 238us/step - loss: 0.3917 - accuracy: 0.8370 - val_loss: 0.3209 - val_accuracy: 0.8816\n",
      "Epoch 67/600\n",
      "227/227 [==============================] - 0s 233us/step - loss: 0.3749 - accuracy: 0.8238 - val_loss: 0.3159 - val_accuracy: 0.8684\n",
      "Epoch 68/600\n",
      "227/227 [==============================] - 0s 229us/step - loss: 0.3271 - accuracy: 0.8767 - val_loss: 0.3265 - val_accuracy: 0.8553\n"
     ]
    },
    {
     "data": {
      "text/plain": [
       "<keras.callbacks.callbacks.History at 0x150d8f8d1c8>"
      ]
     },
     "execution_count": 946,
     "metadata": {},
     "output_type": "execute_result"
    }
   ],
   "source": [
    "model.fit(scaled_train,y_train,callbacks=[early],validation_data=(scaled_test,y_test),epochs=600)"
   ]
  },
  {
   "cell_type": "code",
   "execution_count": 947,
   "metadata": {},
   "outputs": [],
   "source": [
    "metrics=pd.DataFrame(model.history.history)"
   ]
  },
  {
   "cell_type": "code",
   "execution_count": 948,
   "metadata": {},
   "outputs": [
    {
     "data": {
      "text/plain": [
       "Index(['val_loss', 'val_accuracy', 'loss', 'accuracy'], dtype='object')"
      ]
     },
     "execution_count": 948,
     "metadata": {},
     "output_type": "execute_result"
    }
   ],
   "source": [
    "metrics.keys()"
   ]
  },
  {
   "cell_type": "code",
   "execution_count": 949,
   "metadata": {},
   "outputs": [
    {
     "data": {
      "text/plain": [
       "<matplotlib.axes._subplots.AxesSubplot at 0x150d8f46508>"
      ]
     },
     "execution_count": 949,
     "metadata": {},
     "output_type": "execute_result"
    },
    {
     "data": {
      "image/png": "[encoded data removed]",
      "text/plain": [
       "<Figure size 432x288 with 1 Axes>"
      ]
     },
     "metadata": {
      "needs_background": "light"
     },
     "output_type": "display_data"
    }
   ],
   "source": [
    "metrics[['val_loss','loss']].plot()"
   ]
  },
  {
   "cell_type": "code",
   "execution_count": 950,
   "metadata": {},
   "outputs": [
    {
     "data": {
      "text/plain": [
       "<matplotlib.axes._subplots.AxesSubplot at 0x150da0d0c48>"
      ]
     },
     "execution_count": 950,
     "metadata": {},
     "output_type": "execute_result"
    },
    {
     "data": {
      "image/png": "[encoded data removed]",
      "text/plain": [
       "<Figure size 432x288 with 1 Axes>"
      ]
     },
     "metadata": {
      "needs_background": "light"
     },
     "output_type": "display_data"
    }
   ],
   "source": [
    "metrics[['val_accuracy','accuracy']].plot()"
   ]
  },
  {
   "cell_type": "code",
   "execution_count": 951,
   "metadata": {},
   "outputs": [],
   "source": [
    "y_pred=model.predict_classes(scaled_test)"
   ]
  },
  {
   "cell_type": "code",
   "execution_count": 952,
   "metadata": {},
   "outputs": [],
   "source": [
    "from sklearn.metrics import confusion_matrix,classification_report"
   ]
  },
  {
   "cell_type": "code",
   "execution_count": 953,
   "metadata": {},
   "outputs": [
    {
     "name": "stdout",
     "output_type": "stream",
     "text": [
      "              precision    recall  f1-score   support\n",
      "\n",
      "           0       0.86      0.84      0.85        37\n",
      "           1       0.85      0.87      0.86        39\n",
      "\n",
      "    accuracy                           0.86        76\n",
      "   macro avg       0.86      0.85      0.86        76\n",
      "weighted avg       0.86      0.86      0.86        76\n",
      "\n"
     ]
    }
   ],
   "source": [
    "print(classification_report(y_test,y_pred))"
   ]
  },
  {
   "cell_type": "code",
   "execution_count": 954,
   "metadata": {},
   "outputs": [
    {
     "name": "stdout",
     "output_type": "stream",
     "text": [
      "[[31  6]\n",
      " [ 5 34]]\n"
     ]
    }
   ],
   "source": [
    "print(confusion_matrix(y_test,y_pred))"
   ]
  },
  {
   "cell_type": "code",
   "execution_count": 975,
   "metadata": {},
   "outputs": [],
   "source": [
    "model=Sequential()\n",
    "model.add(Dense(13,activation='relu',input_shape=(13,)))\n",
    "model.add(Dropout(0.2))\n",
    "model.add(Dense(32,activation='relu'))\n",
    "model.add(Dropout(0.2))\n",
    "model.add(Dense(32,activation='relu'))\n",
    "model.add(Dropout(0.2))\n",
    "model.add(Dense(64,activation='relu'))\n",
    "model.add(Dense(1,activation='sigmoid'))"
   ]
  },
  {
   "cell_type": "code",
   "execution_count": 976,
   "metadata": {},
   "outputs": [],
   "source": [
    "model.compile(optimizer='adam',loss='binary_crossentropy',metrics=['accuracy'])"
   ]
  },
  {
   "cell_type": "code",
   "execution_count": 977,
   "metadata": {},
   "outputs": [],
   "source": [
    "from sklearn.preprocessing import MinMaxScaler"
   ]
  },
  {
   "cell_type": "code",
   "execution_count": 978,
   "metadata": {},
   "outputs": [],
   "source": [
    "scaler=MinMaxScaler()"
   ]
  },
  {
   "cell_type": "code",
   "execution_count": 979,
   "metadata": {},
   "outputs": [
    {
     "data": {
      "text/plain": [
       "MinMaxScaler(copy=True, feature_range=(0, 1))"
      ]
     },
     "execution_count": 979,
     "metadata": {},
     "output_type": "execute_result"
    }
   ],
   "source": [
    "scaler.fit(X,y)"
   ]
  },
  {
   "cell_type": "code",
   "execution_count": 980,
   "metadata": {},
   "outputs": [],
   "source": [
    "full_scaled=scaler.transform(X)"
   ]
  },
  {
   "cell_type": "code",
   "execution_count": 981,
   "metadata": {},
   "outputs": [
    {
     "name": "stdout",
     "output_type": "stream",
     "text": [
      "Epoch 1/68\n",
      "303/303 [==============================] - 1s 3ms/step - loss: 0.6879 - accuracy: 0.4752\n",
      "Epoch 2/68\n",
      "303/303 [==============================] - 0s 185us/step - loss: 0.6557 - accuracy: 0.6667\n",
      "Epoch 3/68\n",
      "303/303 [==============================] - 0s 214us/step - loss: 0.6457 - accuracy: 0.7360\n",
      "Epoch 4/68\n",
      "303/303 [==============================] - 0s 201us/step - loss: 0.6141 - accuracy: 0.7360\n",
      "Epoch 5/68\n",
      "303/303 [==============================] - 0s 181us/step - loss: 0.5738 - accuracy: 0.7723\n",
      "Epoch 6/68\n",
      "303/303 [==============================] - 0s 175us/step - loss: 0.5600 - accuracy: 0.7525\n",
      "Epoch 7/68\n",
      "303/303 [==============================] - 0s 178us/step - loss: 0.4954 - accuracy: 0.7987\n",
      "Epoch 8/68\n",
      "303/303 [==============================] - 0s 181us/step - loss: 0.5113 - accuracy: 0.7822\n",
      "Epoch 9/68\n",
      "303/303 [==============================] - 0s 185us/step - loss: 0.4643 - accuracy: 0.8152\n",
      "Epoch 10/68\n",
      "303/303 [==============================] - 0s 195us/step - loss: 0.5201 - accuracy: 0.7690\n",
      "Epoch 11/68\n",
      "303/303 [==============================] - 0s 178us/step - loss: 0.4676 - accuracy: 0.7921\n",
      "Epoch 12/68\n",
      "303/303 [==============================] - 0s 211us/step - loss: 0.4528 - accuracy: 0.8152\n",
      "Epoch 13/68\n",
      "303/303 [==============================] - 0s 251us/step - loss: 0.5114 - accuracy: 0.7558\n",
      "Epoch 14/68\n",
      "303/303 [==============================] - 0s 188us/step - loss: 0.4521 - accuracy: 0.8218\n",
      "Epoch 15/68\n",
      "303/303 [==============================] - 0s 178us/step - loss: 0.4380 - accuracy: 0.8185\n",
      "Epoch 16/68\n",
      "303/303 [==============================] - 0s 178us/step - loss: 0.4243 - accuracy: 0.8119\n",
      "Epoch 17/68\n",
      "303/303 [==============================] - 0s 201us/step - loss: 0.4058 - accuracy: 0.8317\n",
      "Epoch 18/68\n",
      "303/303 [==============================] - 0s 185us/step - loss: 0.4496 - accuracy: 0.8350\n",
      "Epoch 19/68\n",
      "303/303 [==============================] - 0s 175us/step - loss: 0.4265 - accuracy: 0.8185\n",
      "Epoch 20/68\n",
      "303/303 [==============================] - 0s 181us/step - loss: 0.4103 - accuracy: 0.8383\n",
      "Epoch 21/68\n",
      "303/303 [==============================] - 0s 214us/step - loss: 0.4285 - accuracy: 0.8053\n",
      "Epoch 22/68\n",
      "303/303 [==============================] - 0s 244us/step - loss: 0.3984 - accuracy: 0.8416\n",
      "Epoch 23/68\n",
      "303/303 [==============================] - 0s 214us/step - loss: 0.4151 - accuracy: 0.8185\n",
      "Epoch 24/68\n",
      "303/303 [==============================] - 0s 181us/step - loss: 0.3935 - accuracy: 0.8416\n",
      "Epoch 25/68\n",
      "303/303 [==============================] - 0s 152us/step - loss: 0.4107 - accuracy: 0.8152\n",
      "Epoch 26/68\n",
      "303/303 [==============================] - 0s 178us/step - loss: 0.3894 - accuracy: 0.8449\n",
      "Epoch 27/68\n",
      "303/303 [==============================] - 0s 188us/step - loss: 0.3806 - accuracy: 0.8416\n",
      "Epoch 28/68\n",
      "303/303 [==============================] - 0s 221us/step - loss: 0.3957 - accuracy: 0.8482\n",
      "Epoch 29/68\n",
      "303/303 [==============================] - 0s 244us/step - loss: 0.4241 - accuracy: 0.8218\n",
      "Epoch 30/68\n",
      "303/303 [==============================] - 0s 254us/step - loss: 0.3998 - accuracy: 0.8449\n",
      "Epoch 31/68\n",
      "303/303 [==============================] - 0s 185us/step - loss: 0.3516 - accuracy: 0.8680\n",
      "Epoch 32/68\n",
      "303/303 [==============================] - 0s 198us/step - loss: 0.3985 - accuracy: 0.8185\n",
      "Epoch 33/68\n",
      "303/303 [==============================] - 0s 178us/step - loss: 0.3696 - accuracy: 0.8317\n",
      "Epoch 34/68\n",
      "303/303 [==============================] - 0s 201us/step - loss: 0.3940 - accuracy: 0.8350\n",
      "Epoch 35/68\n",
      "303/303 [==============================] - 0s 224us/step - loss: 0.3781 - accuracy: 0.8284\n",
      "Epoch 36/68\n",
      "303/303 [==============================] - 0s 214us/step - loss: 0.3747 - accuracy: 0.8515\n",
      "Epoch 37/68\n",
      "303/303 [==============================] - 0s 241us/step - loss: 0.3921 - accuracy: 0.8449\n",
      "Epoch 38/68\n",
      "303/303 [==============================] - 0s 178us/step - loss: 0.3710 - accuracy: 0.8416\n",
      "Epoch 39/68\n",
      "303/303 [==============================] - 0s 175us/step - loss: 0.3625 - accuracy: 0.8548\n",
      "Epoch 40/68\n",
      "303/303 [==============================] - 0s 181us/step - loss: 0.3974 - accuracy: 0.8383\n",
      "Epoch 41/68\n",
      "303/303 [==============================] - 0s 185us/step - loss: 0.3851 - accuracy: 0.8284\n",
      "Epoch 42/68\n",
      "303/303 [==============================] - 0s 208us/step - loss: 0.3572 - accuracy: 0.8482\n",
      "Epoch 43/68\n",
      "303/303 [==============================] - 0s 224us/step - loss: 0.3901 - accuracy: 0.8317\n",
      "Epoch 44/68\n",
      "303/303 [==============================] - 0s 214us/step - loss: 0.3553 - accuracy: 0.8581\n",
      "Epoch 45/68\n",
      "303/303 [==============================] - 0s 178us/step - loss: 0.3550 - accuracy: 0.8548\n",
      "Epoch 46/68\n",
      "303/303 [==============================] - 0s 247us/step - loss: 0.3443 - accuracy: 0.8647\n",
      "Epoch 47/68\n",
      "303/303 [==============================] - 0s 191us/step - loss: 0.3594 - accuracy: 0.8482\n",
      "Epoch 48/68\n",
      "303/303 [==============================] - 0s 218us/step - loss: 0.3554 - accuracy: 0.8482\n",
      "Epoch 49/68\n",
      "303/303 [==============================] - 0s 221us/step - loss: 0.3427 - accuracy: 0.8614\n",
      "Epoch 50/68\n",
      "303/303 [==============================] - 0s 221us/step - loss: 0.3510 - accuracy: 0.8515\n",
      "Epoch 51/68\n",
      "303/303 [==============================] - 0s 178us/step - loss: 0.3261 - accuracy: 0.8713\n",
      "Epoch 52/68\n",
      "303/303 [==============================] - 0s 178us/step - loss: 0.3251 - accuracy: 0.8614\n",
      "Epoch 53/68\n",
      "303/303 [==============================] - 0s 181us/step - loss: 0.3752 - accuracy: 0.8383\n",
      "Epoch 54/68\n",
      "303/303 [==============================] - 0s 178us/step - loss: 0.3628 - accuracy: 0.8416\n",
      "Epoch 55/68\n",
      "303/303 [==============================] - 0s 181us/step - loss: 0.3583 - accuracy: 0.8317\n",
      "Epoch 56/68\n",
      "303/303 [==============================] - 0s 158us/step - loss: 0.3394 - accuracy: 0.8614\n",
      "Epoch 57/68\n",
      "303/303 [==============================] - 0s 158us/step - loss: 0.3380 - accuracy: 0.8713\n",
      "Epoch 58/68\n",
      "303/303 [==============================] - 0s 162us/step - loss: 0.3670 - accuracy: 0.8647\n",
      "Epoch 59/68\n",
      "303/303 [==============================] - 0s 165us/step - loss: 0.3452 - accuracy: 0.8746\n",
      "Epoch 60/68\n",
      "303/303 [==============================] - 0s 172us/step - loss: 0.3572 - accuracy: 0.8515\n",
      "Epoch 61/68\n",
      "303/303 [==============================] - 0s 185us/step - loss: 0.3169 - accuracy: 0.8680\n",
      "Epoch 62/68\n",
      "303/303 [==============================] - 0s 178us/step - loss: 0.3565 - accuracy: 0.8449\n",
      "Epoch 63/68\n",
      "303/303 [==============================] - 0s 327us/step - loss: 0.3210 - accuracy: 0.8581\n",
      "Epoch 64/68\n",
      "303/303 [==============================] - 0s 261us/step - loss: 0.3519 - accuracy: 0.8548\n",
      "Epoch 65/68\n",
      "303/303 [==============================] - 0s 214us/step - loss: 0.3242 - accuracy: 0.8581\n",
      "Epoch 66/68\n",
      "303/303 [==============================] - 0s 188us/step - loss: 0.3421 - accuracy: 0.8383\n",
      "Epoch 67/68\n",
      "303/303 [==============================] - 0s 185us/step - loss: 0.3133 - accuracy: 0.8581\n",
      "Epoch 68/68\n",
      "303/303 [==============================] - 0s 188us/step - loss: 0.3250 - accuracy: 0.8713\n"
     ]
    },
    {
     "data": {
      "text/plain": [
       "<keras.callbacks.callbacks.History at 0x150db8bb988>"
      ]
     },
     "execution_count": 981,
     "metadata": {},
     "output_type": "execute_result"
    }
   ],
   "source": [
    "model.fit(full_scaled,y,epochs=68)"
   ]
  },
  {
   "cell_type": "code",
   "execution_count": 982,
   "metadata": {},
   "outputs": [
    {
     "data": {
      "text/plain": [
       "['scaled_heart.pkl']"
      ]
     },
     "execution_count": 982,
     "metadata": {},
     "output_type": "execute_result"
    }
   ],
   "source": [
    "model.save('heart.h5')\n",
    "import joblib\n",
    "\n",
    "joblib.dump(scaler,\"scaled_heart.pkl\")"
   ]
  },
  {
   "cell_type": "code",
   "execution_count": 983,
   "metadata": {},
   "outputs": [],
   "source": [
    "from keras.models import load_model"
   ]
  },
  {
   "cell_type": "code",
   "execution_count": 984,
   "metadata": {},
   "outputs": [],
   "source": [
    "loaded_model=load_model('heart.h5')\n",
    "scaler_model=joblib.load('scaled_heart.pkl')"
   ]
  },
  {
   "cell_type": "code",
   "execution_count": 1013,
   "metadata": {},
   "outputs": [
    {
     "data": {
      "text/html": [
       "<div>\n",
       "<style scoped>\n",
       "    .dataframe tbody tr th:only-of-type {\n",
       "        vertical-align: middle;\n",
       "    }\n",
       "\n",
       "    .dataframe tbody tr th {\n",
       "        vertical-align: top;\n",
       "    }\n",
       "\n",
       "    .dataframe thead th {\n",
       "        text-align: right;\n",
       "    }\n",
       "</style>\n",
       "<table border=\"1\" class=\"dataframe\">\n",
       "  <thead>\n",
       "    <tr style=\"text-align: right;\">\n",
       "      <th></th>\n",
       "      <th>age</th>\n",
       "      <th>sex</th>\n",
       "      <th>cp</th>\n",
       "      <th>trestbps</th>\n",
       "      <th>chol</th>\n",
       "      <th>fbs</th>\n",
       "      <th>restecg</th>\n",
       "      <th>thalach</th>\n",
       "      <th>exang</th>\n",
       "      <th>oldpeak</th>\n",
       "      <th>slope</th>\n",
       "      <th>ca</th>\n",
       "      <th>thal</th>\n",
       "      <th>target</th>\n",
       "    </tr>\n",
       "  </thead>\n",
       "  <tbody>\n",
       "    <tr>\n",
       "      <td>206</td>\n",
       "      <td>59</td>\n",
       "      <td>1</td>\n",
       "      <td>0</td>\n",
       "      <td>110</td>\n",
       "      <td>239</td>\n",
       "      <td>0</td>\n",
       "      <td>0</td>\n",
       "      <td>142</td>\n",
       "      <td>1</td>\n",
       "      <td>1.2</td>\n",
       "      <td>1</td>\n",
       "      <td>1</td>\n",
       "      <td>3</td>\n",
       "      <td>0</td>\n",
       "    </tr>\n",
       "  </tbody>\n",
       "</table>\n",
       "</div>"
      ],
      "text/plain": [
       "     age  sex  cp  trestbps  chol  fbs  restecg  thalach  exang  oldpeak  \\\n",
       "206   59    1   0       110   239    0        0      142      1      1.2   \n",
       "\n",
       "     slope  ca  thal  target  \n",
       "206      1   1     3       0  "
      ]
     },
     "execution_count": 1013,
     "metadata": {},
     "output_type": "execute_result"
    }
   ],
   "source": [
    "df.sample(1)"
   ]
  },
  {
   "cell_type": "code",
   "execution_count": 1014,
   "metadata": {},
   "outputs": [],
   "source": [
    "data={\n",
    "    \"age\":59,\n",
    "    \"sex\":1,\n",
    "    \"cp\":0,\n",
    "    \"trestbps\":110,\n",
    "    \"chol\":239,\n",
    "    \"fbs\":0,\n",
    "    \"restecg\":0,\n",
    "    \"thalach\":142,\n",
    "    \"exang\":1,\n",
    "    \"oldpeak\":1.2,\n",
    "    \"slope\":1,\n",
    "    \"ca\":1,\n",
    "    \"thal\":3,\n",
    "}"
   ]
  },
  {
   "cell_type": "code",
   "execution_count": 1015,
   "metadata": {},
   "outputs": [],
   "source": [
    "def return_prediction(model,scaler,sample_json):\n",
    "    Age=sample_json[\"age\"]\n",
    "    Sex=sample_json[\"sex\"]\n",
    "    Cp=sample_json[\"cp\"]\n",
    "    Trestbps=sample_json[\"trestbps\"]\n",
    "    Chol=sample_json[\"chol\"]\n",
    "    Fbs=sample_json[\"fbs\"]\n",
    "    Restecg=sample_json[\"restecg\"]\n",
    "    Thalach=sample_json[\"thalach\"]\n",
    "    Exang=sample_json[\"exang\"]\n",
    "    Oldpeak=sample_json[\"oldpeak\"]\n",
    "    Slope=sample_json[\"slope\"]\n",
    "    Ca=sample_json[\"ca\"]\n",
    "    Thal=sample_json[\"thal\"]\n",
    "    \n",
    "    \n",
    "    patient=[[Age,Sex,Cp,Trestbps,Chol,Fbs,Restecg,Thalach,Exang,Oldpeak,Slope,Ca,Thal]]\n",
    "    \n",
    "    patient=scaler.transform(patient)\n",
    "    \n",
    "    class_ind=model.predict_classes(patient)\n",
    "    \n",
    "    return class_ind"
   ]
  },
  {
   "cell_type": "code",
   "execution_count": 1016,
   "metadata": {},
   "outputs": [
    {
     "data": {
      "text/plain": [
       "array([[0]])"
      ]
     },
     "execution_count": 1016,
     "metadata": {},
     "output_type": "execute_result"
    }
   ],
   "source": [
    "return_prediction(loaded_model,scaler_model,data)"
   ]
  }
 ],
 "metadata": {
  "kernelspec": {
   "display_name": "Python 3",
   "language": "python",
   "name": "python3"
  },
  "language_info": {
   "codemirror_mode": {
    "name": "ipython",
    "version": 3
   },
   "file_extension": ".py",
   "mimetype": "text/x-python",
   "name": "python",
   "nbconvert_exporter": "python",
   "pygments_lexer": "ipython3",
   "version": "3.7.4"
  }
 },
 "nbformat": 4,
 "nbformat_minor": 2
}
