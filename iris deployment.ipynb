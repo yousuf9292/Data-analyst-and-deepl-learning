{
 "cells": [
  {
   "cell_type": "code",
   "execution_count": 1,
   "metadata": {},
   "outputs": [],
   "source": [
    "import pandas as pd "
   ]
  },
  {
   "cell_type": "code",
   "execution_count": 2,
   "metadata": {},
   "outputs": [],
   "source": [
    "df=pd.read_csv('iris.csv')"
   ]
  },
  {
   "cell_type": "code",
   "execution_count": 3,
   "metadata": {},
   "outputs": [
    {
     "data": {
      "text/html": [
       "<div>\n",
       "<style scoped>\n",
       "    .dataframe tbody tr th:only-of-type {\n",
       "        vertical-align: middle;\n",
       "    }\n",
       "\n",
       "    .dataframe tbody tr th {\n",
       "        vertical-align: top;\n",
       "    }\n",
       "\n",
       "    .dataframe thead th {\n",
       "        text-align: right;\n",
       "    }\n",
       "</style>\n",
       "<table border=\"1\" class=\"dataframe\">\n",
       "  <thead>\n",
       "    <tr style=\"text-align: right;\">\n",
       "      <th></th>\n",
       "      <th>sepal_length</th>\n",
       "      <th>sepal_width</th>\n",
       "      <th>petal_length</th>\n",
       "      <th>petal_width</th>\n",
       "      <th>species</th>\n",
       "    </tr>\n",
       "  </thead>\n",
       "  <tbody>\n",
       "    <tr>\n",
       "      <td>0</td>\n",
       "      <td>5.1</td>\n",
       "      <td>3.5</td>\n",
       "      <td>1.4</td>\n",
       "      <td>0.2</td>\n",
       "      <td>setosa</td>\n",
       "    </tr>\n",
       "    <tr>\n",
       "      <td>1</td>\n",
       "      <td>4.9</td>\n",
       "      <td>3.0</td>\n",
       "      <td>1.4</td>\n",
       "      <td>0.2</td>\n",
       "      <td>setosa</td>\n",
       "    </tr>\n",
       "    <tr>\n",
       "      <td>2</td>\n",
       "      <td>4.7</td>\n",
       "      <td>3.2</td>\n",
       "      <td>1.3</td>\n",
       "      <td>0.2</td>\n",
       "      <td>setosa</td>\n",
       "    </tr>\n",
       "    <tr>\n",
       "      <td>3</td>\n",
       "      <td>4.6</td>\n",
       "      <td>3.1</td>\n",
       "      <td>1.5</td>\n",
       "      <td>0.2</td>\n",
       "      <td>setosa</td>\n",
       "    </tr>\n",
       "    <tr>\n",
       "      <td>4</td>\n",
       "      <td>5.0</td>\n",
       "      <td>3.6</td>\n",
       "      <td>1.4</td>\n",
       "      <td>0.2</td>\n",
       "      <td>setosa</td>\n",
       "    </tr>\n",
       "  </tbody>\n",
       "</table>\n",
       "</div>"
      ],
      "text/plain": [
       "   sepal_length  sepal_width  petal_length  petal_width species\n",
       "0           5.1          3.5           1.4          0.2  setosa\n",
       "1           4.9          3.0           1.4          0.2  setosa\n",
       "2           4.7          3.2           1.3          0.2  setosa\n",
       "3           4.6          3.1           1.5          0.2  setosa\n",
       "4           5.0          3.6           1.4          0.2  setosa"
      ]
     },
     "execution_count": 3,
     "metadata": {},
     "output_type": "execute_result"
    }
   ],
   "source": [
    "df.head()"
   ]
  },
  {
   "cell_type": "code",
   "execution_count": 4,
   "metadata": {},
   "outputs": [
    {
     "data": {
      "text/plain": [
       "sepal_length    0\n",
       "sepal_width     0\n",
       "petal_length    0\n",
       "petal_width     0\n",
       "species         0\n",
       "dtype: int64"
      ]
     },
     "execution_count": 4,
     "metadata": {},
     "output_type": "execute_result"
    }
   ],
   "source": [
    "df.isna().sum()"
   ]
  },
  {
   "cell_type": "code",
   "execution_count": 5,
   "metadata": {},
   "outputs": [],
   "source": [
    "import seaborn as sns "
   ]
  },
  {
   "cell_type": "code",
   "execution_count": 6,
   "metadata": {},
   "outputs": [
    {
     "data": {
      "text/plain": [
       "<matplotlib.axes._subplots.AxesSubplot at 0x19de91898c8>"
      ]
     },
     "execution_count": 6,
     "metadata": {},
     "output_type": "execute_result"
    },
    {
     "data": {
      "image/png": "[encoded data removed]",
      "text/plain": [
       "<Figure size 432x288 with 1 Axes>"
      ]
     },
     "metadata": {
      "needs_background": "light"
     },
     "output_type": "display_data"
    }
   ],
   "source": [
    "sns.countplot(x='species',data=df)"
   ]
  },
  {
   "cell_type": "code",
   "execution_count": 7,
   "metadata": {},
   "outputs": [
    {
     "data": {
      "text/plain": [
       "<matplotlib.axes._subplots.AxesSubplot at 0x19def00b788>"
      ]
     },
     "execution_count": 7,
     "metadata": {},
     "output_type": "execute_result"
    },
    {
     "data": {
      "image/png": "[encoded data removed]",
      "text/plain": [
       "<Figure size 432x288 with 1 Axes>"
      ]
     },
     "metadata": {
      "needs_background": "light"
     },
     "output_type": "display_data"
    }
   ],
   "source": [
    "sns.scatterplot(x='sepal_length',y='petal_length',data=df,hue='species')"
   ]
  },
  {
   "cell_type": "code",
   "execution_count": 8,
   "metadata": {},
   "outputs": [],
   "source": [
    "import matplotlib.pyplot as plt "
   ]
  },
  {
   "cell_type": "code",
   "execution_count": 9,
   "metadata": {},
   "outputs": [
    {
     "data": {
      "text/plain": [
       "<matplotlib.axes._subplots.AxesSubplot at 0x19def0eba88>"
      ]
     },
     "execution_count": 9,
     "metadata": {},
     "output_type": "execute_result"
    },
    {
     "data": {
      "image/png": "[encoded data removed]",
      "text/plain": [
       "<Figure size 432x288 with 1 Axes>"
      ]
     },
     "metadata": {
      "needs_background": "light"
     },
     "output_type": "display_data"
    }
   ],
   "source": [
    "sns.distplot(df['sepal_length'],kde=False,bins=10)"
   ]
  },
  {
   "cell_type": "code",
   "execution_count": 10,
   "metadata": {},
   "outputs": [
    {
     "data": {
      "text/plain": [
       "<matplotlib.axes._subplots.AxesSubplot at 0x19def0c98c8>"
      ]
     },
     "execution_count": 10,
     "metadata": {},
     "output_type": "execute_result"
    },
    {
     "data": {
      "image/png": "[encoded data removed]",
      "text/plain": [
       "<Figure size 432x288 with 1 Axes>"
      ]
     },
     "metadata": {
      "needs_background": "light"
     },
     "output_type": "display_data"
    }
   ],
   "source": [
    "sns.scatterplot(x='sepal_width',y='petal_width',data=df,hue='species')"
   ]
  },
  {
   "cell_type": "code",
   "execution_count": 11,
   "metadata": {},
   "outputs": [
    {
     "name": "stderr",
     "output_type": "stream",
     "text": [
      "Using TensorFlow backend.\n"
     ]
    }
   ],
   "source": [
    "from keras.models import Sequential\n",
    "from keras.layers import Dense"
   ]
  },
  {
   "cell_type": "code",
   "execution_count": 12,
   "metadata": {},
   "outputs": [],
   "source": [
    "model=Sequential()"
   ]
  },
  {
   "cell_type": "code",
   "execution_count": 13,
   "metadata": {},
   "outputs": [],
   "source": [
    "X=df.drop('species',axis=1)"
   ]
  },
  {
   "cell_type": "code",
   "execution_count": 14,
   "metadata": {},
   "outputs": [],
   "source": [
    "y=df.iloc[:,-1]"
   ]
  },
  {
   "cell_type": "code",
   "execution_count": 15,
   "metadata": {},
   "outputs": [
    {
     "data": {
      "text/plain": [
       "(150,)"
      ]
     },
     "execution_count": 15,
     "metadata": {},
     "output_type": "execute_result"
    }
   ],
   "source": [
    "y.shape"
   ]
  },
  {
   "cell_type": "code",
   "execution_count": 16,
   "metadata": {},
   "outputs": [],
   "source": [
    "y=y.map({'setosa':0,'versicolor':1,'virginica':2})"
   ]
  },
  {
   "cell_type": "code",
   "execution_count": 17,
   "metadata": {},
   "outputs": [],
   "source": [
    "from keras.utils import to_categorical"
   ]
  },
  {
   "cell_type": "code",
   "execution_count": 18,
   "metadata": {},
   "outputs": [],
   "source": [
    "y=to_categorical(y)"
   ]
  },
  {
   "cell_type": "code",
   "execution_count": 19,
   "metadata": {},
   "outputs": [
    {
     "data": {
      "text/plain": [
       "array([[1., 0., 0.],\n",
       "       [1., 0., 0.],\n",
       "       [1., 0., 0.],\n",
       "       [1., 0., 0.],\n",
       "       [1., 0., 0.],\n",
       "       [1., 0., 0.],\n",
       "       [1., 0., 0.],\n",
       "       [1., 0., 0.],\n",
       "       [1., 0., 0.],\n",
       "       [1., 0., 0.],\n",
       "       [1., 0., 0.],\n",
       "       [1., 0., 0.],\n",
       "       [1., 0., 0.],\n",
       "       [1., 0., 0.],\n",
       "       [1., 0., 0.],\n",
       "       [1., 0., 0.],\n",
       "       [1., 0., 0.],\n",
       "       [1., 0., 0.],\n",
       "       [1., 0., 0.],\n",
       "       [1., 0., 0.],\n",
       "       [1., 0., 0.],\n",
       "       [1., 0., 0.],\n",
       "       [1., 0., 0.],\n",
       "       [1., 0., 0.],\n",
       "       [1., 0., 0.],\n",
       "       [1., 0., 0.],\n",
       "       [1., 0., 0.],\n",
       "       [1., 0., 0.],\n",
       "       [1., 0., 0.],\n",
       "       [1., 0., 0.],\n",
       "       [1., 0., 0.],\n",
       "       [1., 0., 0.],\n",
       "       [1., 0., 0.],\n",
       "       [1., 0., 0.],\n",
       "       [1., 0., 0.],\n",
       "       [1., 0., 0.],\n",
       "       [1., 0., 0.],\n",
       "       [1., 0., 0.],\n",
       "       [1., 0., 0.],\n",
       "       [1., 0., 0.],\n",
       "       [1., 0., 0.],\n",
       "       [1., 0., 0.],\n",
       "       [1., 0., 0.],\n",
       "       [1., 0., 0.],\n",
       "       [1., 0., 0.],\n",
       "       [1., 0., 0.],\n",
       "       [1., 0., 0.],\n",
       "       [1., 0., 0.],\n",
       "       [1., 0., 0.],\n",
       "       [1., 0., 0.],\n",
       "       [0., 1., 0.],\n",
       "       [0., 1., 0.],\n",
       "       [0., 1., 0.],\n",
       "       [0., 1., 0.],\n",
       "       [0., 1., 0.],\n",
       "       [0., 1., 0.],\n",
       "       [0., 1., 0.],\n",
       "       [0., 1., 0.],\n",
       "       [0., 1., 0.],\n",
       "       [0., 1., 0.],\n",
       "       [0., 1., 0.],\n",
       "       [0., 1., 0.],\n",
       "       [0., 1., 0.],\n",
       "       [0., 1., 0.],\n",
       "       [0., 1., 0.],\n",
       "       [0., 1., 0.],\n",
       "       [0., 1., 0.],\n",
       "       [0., 1., 0.],\n",
       "       [0., 1., 0.],\n",
       "       [0., 1., 0.],\n",
       "       [0., 1., 0.],\n",
       "       [0., 1., 0.],\n",
       "       [0., 1., 0.],\n",
       "       [0., 1., 0.],\n",
       "       [0., 1., 0.],\n",
       "       [0., 1., 0.],\n",
       "       [0., 1., 0.],\n",
       "       [0., 1., 0.],\n",
       "       [0., 1., 0.],\n",
       "       [0., 1., 0.],\n",
       "       [0., 1., 0.],\n",
       "       [0., 1., 0.],\n",
       "       [0., 1., 0.],\n",
       "       [0., 1., 0.],\n",
       "       [0., 1., 0.],\n",
       "       [0., 1., 0.],\n",
       "       [0., 1., 0.],\n",
       "       [0., 1., 0.],\n",
       "       [0., 1., 0.],\n",
       "       [0., 1., 0.],\n",
       "       [0., 1., 0.],\n",
       "       [0., 1., 0.],\n",
       "       [0., 1., 0.],\n",
       "       [0., 1., 0.],\n",
       "       [0., 1., 0.],\n",
       "       [0., 1., 0.],\n",
       "       [0., 1., 0.],\n",
       "       [0., 1., 0.],\n",
       "       [0., 1., 0.],\n",
       "       [0., 1., 0.],\n",
       "       [0., 0., 1.],\n",
       "       [0., 0., 1.],\n",
       "       [0., 0., 1.],\n",
       "       [0., 0., 1.],\n",
       "       [0., 0., 1.],\n",
       "       [0., 0., 1.],\n",
       "       [0., 0., 1.],\n",
       "       [0., 0., 1.],\n",
       "       [0., 0., 1.],\n",
       "       [0., 0., 1.],\n",
       "       [0., 0., 1.],\n",
       "       [0., 0., 1.],\n",
       "       [0., 0., 1.],\n",
       "       [0., 0., 1.],\n",
       "       [0., 0., 1.],\n",
       "       [0., 0., 1.],\n",
       "       [0., 0., 1.],\n",
       "       [0., 0., 1.],\n",
       "       [0., 0., 1.],\n",
       "       [0., 0., 1.],\n",
       "       [0., 0., 1.],\n",
       "       [0., 0., 1.],\n",
       "       [0., 0., 1.],\n",
       "       [0., 0., 1.],\n",
       "       [0., 0., 1.],\n",
       "       [0., 0., 1.],\n",
       "       [0., 0., 1.],\n",
       "       [0., 0., 1.],\n",
       "       [0., 0., 1.],\n",
       "       [0., 0., 1.],\n",
       "       [0., 0., 1.],\n",
       "       [0., 0., 1.],\n",
       "       [0., 0., 1.],\n",
       "       [0., 0., 1.],\n",
       "       [0., 0., 1.],\n",
       "       [0., 0., 1.],\n",
       "       [0., 0., 1.],\n",
       "       [0., 0., 1.],\n",
       "       [0., 0., 1.],\n",
       "       [0., 0., 1.],\n",
       "       [0., 0., 1.],\n",
       "       [0., 0., 1.],\n",
       "       [0., 0., 1.],\n",
       "       [0., 0., 1.],\n",
       "       [0., 0., 1.],\n",
       "       [0., 0., 1.],\n",
       "       [0., 0., 1.],\n",
       "       [0., 0., 1.],\n",
       "       [0., 0., 1.],\n",
       "       [0., 0., 1.]], dtype=float32)"
      ]
     },
     "execution_count": 19,
     "metadata": {},
     "output_type": "execute_result"
    }
   ],
   "source": [
    "y"
   ]
  },
  {
   "cell_type": "code",
   "execution_count": 20,
   "metadata": {},
   "outputs": [],
   "source": [
    "from sklearn.model_selection import train_test_split"
   ]
  },
  {
   "cell_type": "code",
   "execution_count": 21,
   "metadata": {},
   "outputs": [],
   "source": [
    "X_train, X_test, y_train, y_test=train_test_split(X,y,test_size=0.1,stratify=y)"
   ]
  },
  {
   "cell_type": "code",
   "execution_count": 22,
   "metadata": {},
   "outputs": [],
   "source": [
    "model.add(Dense(4,activation='relu',input_shape=(4,)))\n",
    "model.add(Dense(128,activation='relu'))\n",
    "model.add(Dense(3,activation='softmax'))"
   ]
  },
  {
   "cell_type": "code",
   "execution_count": 23,
   "metadata": {},
   "outputs": [
    {
     "name": "stdout",
     "output_type": "stream",
     "text": [
      "Model: \"sequential_1\"\n",
      "_________________________________________________________________\n",
      "Layer (type)                 Output Shape              Param #   \n",
      "=================================================================\n",
      "dense_1 (Dense)              (None, 4)                 20        \n",
      "_________________________________________________________________\n",
      "dense_2 (Dense)              (None, 128)               640       \n",
      "_________________________________________________________________\n",
      "dense_3 (Dense)              (None, 3)                 387       \n",
      "=================================================================\n",
      "Total params: 1,047\n",
      "Trainable params: 1,047\n",
      "Non-trainable params: 0\n",
      "_________________________________________________________________\n"
     ]
    }
   ],
   "source": [
    "model.summary()"
   ]
  },
  {
   "cell_type": "code",
   "execution_count": 24,
   "metadata": {},
   "outputs": [],
   "source": [
    "model.compile(optimizer='adam',loss='categorical_crossentropy',metrics=['accuracy'])"
   ]
  },
  {
   "cell_type": "code",
   "execution_count": 25,
   "metadata": {},
   "outputs": [
    {
     "name": "stdout",
     "output_type": "stream",
     "text": [
      "Epoch 1/100\n",
      "135/135 [==============================] - 0s 733us/step - loss: 1.1615 - accuracy: 0.2889\n",
      "Epoch 2/100\n",
      "135/135 [==============================] - 0s 52us/step - loss: 1.0512 - accuracy: 0.3111\n",
      "Epoch 3/100\n",
      "135/135 [==============================] - 0s 44us/step - loss: 1.0574 - accuracy: 0.3333\n",
      "Epoch 4/100\n",
      "135/135 [==============================] - 0s 44us/step - loss: 1.0657 - accuracy: 0.3333\n",
      "Epoch 5/100\n",
      "135/135 [==============================] - 0s 37us/step - loss: 1.0398 - accuracy: 0.3852\n",
      "Epoch 6/100\n",
      "135/135 [==============================] - 0s 59us/step - loss: 1.0236 - accuracy: 0.3407\n",
      "Epoch 7/100\n",
      "135/135 [==============================] - 0s 44us/step - loss: 1.0106 - accuracy: 0.3333\n",
      "Epoch 8/100\n",
      "135/135 [==============================] - 0s 52us/step - loss: 0.9992 - accuracy: 0.3333\n",
      "Epoch 9/100\n",
      "135/135 [==============================] - 0s 44us/step - loss: 0.9899 - accuracy: 0.3407\n",
      "Epoch 10/100\n",
      "135/135 [==============================] - 0s 52us/step - loss: 0.9752 - accuracy: 0.3852\n",
      "Epoch 11/100\n",
      "135/135 [==============================] - 0s 44us/step - loss: 0.9631 - accuracy: 0.3704\n",
      "Epoch 12/100\n",
      "135/135 [==============================] - 0s 44us/step - loss: 0.9586 - accuracy: 0.4296\n",
      "Epoch 13/100\n",
      "135/135 [==============================] - 0s 44us/step - loss: 0.9508 - accuracy: 0.3630\n",
      "Epoch 14/100\n",
      "135/135 [==============================] - 0s 59us/step - loss: 0.9301 - accuracy: 0.4519\n",
      "Epoch 15/100\n",
      "135/135 [==============================] - 0s 44us/step - loss: 0.9142 - accuracy: 0.6741\n",
      "Epoch 16/100\n",
      "135/135 [==============================] - 0s 37us/step - loss: 0.9003 - accuracy: 0.6667\n",
      "Epoch 17/100\n",
      "135/135 [==============================] - 0s 37us/step - loss: 0.8870 - accuracy: 0.6667\n",
      "Epoch 18/100\n",
      "135/135 [==============================] - 0s 222us/step - loss: 0.8682 - accuracy: 0.6741\n",
      "Epoch 19/100\n",
      "135/135 [==============================] - 0s 96us/step - loss: 0.8558 - accuracy: 0.6963\n",
      "Epoch 20/100\n",
      "135/135 [==============================] - 0s 67us/step - loss: 0.8298 - accuracy: 0.6741\n",
      "Epoch 21/100\n",
      "135/135 [==============================] - 0s 37us/step - loss: 0.8257 - accuracy: 0.6667\n",
      "Epoch 22/100\n",
      "135/135 [==============================] - 0s 67us/step - loss: 0.8023 - accuracy: 0.6667\n",
      "Epoch 23/100\n",
      "135/135 [==============================] - 0s 37us/step - loss: 0.7790 - accuracy: 0.6889\n",
      "Epoch 24/100\n",
      "135/135 [==============================] - 0s 44us/step - loss: 0.7610 - accuracy: 0.8074\n",
      "Epoch 25/100\n",
      "135/135 [==============================] - 0s 44us/step - loss: 0.7570 - accuracy: 0.7111\n",
      "Epoch 26/100\n",
      "135/135 [==============================] - 0s 52us/step - loss: 0.7322 - accuracy: 0.7778\n",
      "Epoch 27/100\n",
      "135/135 [==============================] - 0s 37us/step - loss: 0.7123 - accuracy: 0.6667\n",
      "Epoch 28/100\n",
      "135/135 [==============================] - 0s 44us/step - loss: 0.6984 - accuracy: 0.6667\n",
      "Epoch 29/100\n",
      "135/135 [==============================] - 0s 44us/step - loss: 0.6750 - accuracy: 0.6815\n",
      "Epoch 30/100\n",
      "135/135 [==============================] - 0s 44us/step - loss: 0.6561 - accuracy: 0.7185\n",
      "Epoch 31/100\n",
      "135/135 [==============================] - 0s 44us/step - loss: 0.6395 - accuracy: 0.7259\n",
      "Epoch 32/100\n",
      "135/135 [==============================] - 0s 44us/step - loss: 0.6245 - accuracy: 0.7407\n",
      "Epoch 33/100\n",
      "135/135 [==============================] - 0s 44us/step - loss: 0.6105 - accuracy: 0.7333\n",
      "Epoch 34/100\n",
      "135/135 [==============================] - 0s 44us/step - loss: 0.6037 - accuracy: 0.6741\n",
      "Epoch 35/100\n",
      "135/135 [==============================] - 0s 37us/step - loss: 0.5871 - accuracy: 0.6889\n",
      "Epoch 36/100\n",
      "135/135 [==============================] - 0s 59us/step - loss: 0.5703 - accuracy: 0.7407\n",
      "Epoch 37/100\n",
      "135/135 [==============================] - 0s 59us/step - loss: 0.5580 - accuracy: 0.7185\n",
      "Epoch 38/100\n",
      "135/135 [==============================] - 0s 37us/step - loss: 0.5417 - accuracy: 0.7630\n",
      "Epoch 39/100\n",
      "135/135 [==============================] - 0s 52us/step - loss: 0.5293 - accuracy: 0.9259\n",
      "Epoch 40/100\n",
      "135/135 [==============================] - 0s 37us/step - loss: 0.5158 - accuracy: 0.8593\n",
      "Epoch 41/100\n",
      "135/135 [==============================] - 0s 37us/step - loss: 0.5032 - accuracy: 0.8815\n",
      "Epoch 42/100\n",
      "135/135 [==============================] - 0s 44us/step - loss: 0.4967 - accuracy: 0.9481\n",
      "Epoch 43/100\n",
      "135/135 [==============================] - 0s 52us/step - loss: 0.4877 - accuracy: 0.9481\n",
      "Epoch 44/100\n",
      "135/135 [==============================] - 0s 37us/step - loss: 0.4770 - accuracy: 0.9037\n",
      "Epoch 45/100\n",
      "135/135 [==============================] - 0s 52us/step - loss: 0.4664 - accuracy: 0.8519\n",
      "Epoch 46/100\n",
      "135/135 [==============================] - 0s 44us/step - loss: 0.4582 - accuracy: 0.8222\n",
      "Epoch 47/100\n",
      "135/135 [==============================] - 0s 37us/step - loss: 0.4546 - accuracy: 0.7926\n",
      "Epoch 48/100\n",
      "135/135 [==============================] - 0s 59us/step - loss: 0.4447 - accuracy: 0.8667\n",
      "Epoch 49/100\n",
      "135/135 [==============================] - 0s 37us/step - loss: 0.4373 - accuracy: 0.9333\n",
      "Epoch 50/100\n",
      "135/135 [==============================] - 0s 37us/step - loss: 0.4313 - accuracy: 0.8667\n",
      "Epoch 51/100\n",
      "135/135 [==============================] - 0s 44us/step - loss: 0.4244 - accuracy: 0.9111\n",
      "Epoch 52/100\n",
      "135/135 [==============================] - 0s 59us/step - loss: 0.4177 - accuracy: 0.9630\n",
      "Epoch 53/100\n",
      "135/135 [==============================] - 0s 37us/step - loss: 0.4129 - accuracy: 0.9778\n",
      "Epoch 54/100\n",
      "135/135 [==============================] - 0s 44us/step - loss: 0.4051 - accuracy: 0.9778\n",
      "Epoch 55/100\n",
      "135/135 [==============================] - 0s 37us/step - loss: 0.3973 - accuracy: 0.9630\n",
      "Epoch 56/100\n",
      "135/135 [==============================] - 0s 59us/step - loss: 0.3914 - accuracy: 0.9407\n",
      "Epoch 57/100\n",
      "135/135 [==============================] - 0s 37us/step - loss: 0.3856 - accuracy: 0.9556\n",
      "Epoch 58/100\n",
      "135/135 [==============================] - 0s 52us/step - loss: 0.3802 - accuracy: 0.9630\n",
      "Epoch 59/100\n",
      "135/135 [==============================] - 0s 37us/step - loss: 0.3735 - accuracy: 0.9556\n",
      "Epoch 60/100\n",
      "135/135 [==============================] - 0s 52us/step - loss: 0.3739 - accuracy: 0.8370\n",
      "Epoch 61/100\n",
      "135/135 [==============================] - 0s 37us/step - loss: 0.3696 - accuracy: 0.8296\n",
      "Epoch 62/100\n",
      "135/135 [==============================] - 0s 44us/step - loss: 0.3573 - accuracy: 0.9630\n",
      "Epoch 63/100\n",
      "135/135 [==============================] - 0s 37us/step - loss: 0.3638 - accuracy: 0.9481\n",
      "Epoch 64/100\n",
      "135/135 [==============================] - 0s 37us/step - loss: 0.3459 - accuracy: 0.9778\n",
      "Epoch 65/100\n",
      "135/135 [==============================] - 0s 44us/step - loss: 0.3495 - accuracy: 0.8667\n",
      "Epoch 66/100\n",
      "135/135 [==============================] - 0s 37us/step - loss: 0.3417 - accuracy: 0.9259\n",
      "Epoch 67/100\n",
      "135/135 [==============================] - 0s 44us/step - loss: 0.3314 - accuracy: 0.9704\n",
      "Epoch 68/100\n",
      "135/135 [==============================] - 0s 44us/step - loss: 0.3349 - accuracy: 0.9556\n",
      "Epoch 69/100\n",
      "135/135 [==============================] - 0s 44us/step - loss: 0.3211 - accuracy: 0.9704\n",
      "Epoch 70/100\n",
      "135/135 [==============================] - 0s 37us/step - loss: 0.3210 - accuracy: 0.9333\n",
      "Epoch 71/100\n",
      "135/135 [==============================] - 0s 30us/step - loss: 0.3124 - accuracy: 0.9704\n",
      "Epoch 72/100\n",
      "135/135 [==============================] - 0s 37us/step - loss: 0.3232 - accuracy: 0.9259\n",
      "Epoch 73/100\n",
      "135/135 [==============================] - 0s 67us/step - loss: 0.3123 - accuracy: 0.9556\n",
      "Epoch 74/100\n",
      "135/135 [==============================] - 0s 52us/step - loss: 0.3025 - accuracy: 0.9556\n",
      "Epoch 75/100\n",
      "135/135 [==============================] - 0s 52us/step - loss: 0.2955 - accuracy: 0.9704\n",
      "Epoch 76/100\n",
      "135/135 [==============================] - 0s 37us/step - loss: 0.2910 - accuracy: 0.9704\n",
      "Epoch 77/100\n",
      "135/135 [==============================] - 0s 44us/step - loss: 0.2873 - accuracy: 0.9630\n",
      "Epoch 78/100\n",
      "135/135 [==============================] - 0s 37us/step - loss: 0.2874 - accuracy: 0.9704\n",
      "Epoch 79/100\n",
      "135/135 [==============================] - 0s 37us/step - loss: 0.2796 - accuracy: 0.9630\n",
      "Epoch 80/100\n",
      "135/135 [==============================] - 0s 37us/step - loss: 0.2726 - accuracy: 0.9630\n",
      "Epoch 81/100\n",
      "135/135 [==============================] - 0s 37us/step - loss: 0.2689 - accuracy: 0.9778\n",
      "Epoch 82/100\n",
      "135/135 [==============================] - 0s 52us/step - loss: 0.2649 - accuracy: 0.9852\n",
      "Epoch 83/100\n",
      "135/135 [==============================] - 0s 44us/step - loss: 0.2623 - accuracy: 0.9630\n",
      "Epoch 84/100\n",
      "135/135 [==============================] - 0s 37us/step - loss: 0.2610 - accuracy: 0.9630\n",
      "Epoch 85/100\n",
      "135/135 [==============================] - 0s 44us/step - loss: 0.2535 - accuracy: 0.9630\n",
      "Epoch 86/100\n",
      "135/135 [==============================] - 0s 37us/step - loss: 0.2535 - accuracy: 0.9630\n",
      "Epoch 87/100\n",
      "135/135 [==============================] - 0s 37us/step - loss: 0.2456 - accuracy: 0.9704\n",
      "Epoch 88/100\n",
      "135/135 [==============================] - 0s 37us/step - loss: 0.2427 - accuracy: 0.9630\n",
      "Epoch 89/100\n",
      "135/135 [==============================] - 0s 37us/step - loss: 0.2377 - accuracy: 0.9852\n",
      "Epoch 90/100\n",
      "135/135 [==============================] - 0s 44us/step - loss: 0.2347 - accuracy: 0.9778\n",
      "Epoch 91/100\n",
      "135/135 [==============================] - 0s 30us/step - loss: 0.2325 - accuracy: 0.9704\n",
      "Epoch 92/100\n",
      "135/135 [==============================] - 0s 37us/step - loss: 0.2297 - accuracy: 0.9630\n",
      "Epoch 93/100\n",
      "135/135 [==============================] - 0s 44us/step - loss: 0.2240 - accuracy: 0.9778\n",
      "Epoch 94/100\n",
      "135/135 [==============================] - 0s 37us/step - loss: 0.2208 - accuracy: 0.9852\n",
      "Epoch 95/100\n",
      "135/135 [==============================] - 0s 44us/step - loss: 0.2170 - accuracy: 0.9778\n",
      "Epoch 96/100\n",
      "135/135 [==============================] - 0s 37us/step - loss: 0.2156 - accuracy: 0.9778\n",
      "Epoch 97/100\n",
      "135/135 [==============================] - 0s 44us/step - loss: 0.2174 - accuracy: 0.9630\n",
      "Epoch 98/100\n",
      "135/135 [==============================] - 0s 37us/step - loss: 0.2095 - accuracy: 0.9778\n",
      "Epoch 99/100\n",
      "135/135 [==============================] - 0s 37us/step - loss: 0.2066 - accuracy: 0.9630\n",
      "Epoch 100/100\n",
      "135/135 [==============================] - 0s 44us/step - loss: 0.2019 - accuracy: 0.9704\n"
     ]
    },
    {
     "data": {
      "text/plain": [
       "<keras.callbacks.callbacks.History at 0x19df54bae48>"
      ]
     },
     "execution_count": 25,
     "metadata": {},
     "output_type": "execute_result"
    }
   ],
   "source": [
    "model.fit(X_train,y_train,epochs=100)"
   ]
  },
  {
   "cell_type": "code",
   "execution_count": 28,
   "metadata": {},
   "outputs": [],
   "source": [
    "metrics=pd.DataFrame(model.history.history)"
   ]
  },
  {
   "cell_type": "code",
   "execution_count": 34,
   "metadata": {},
   "outputs": [
    {
     "data": {
      "text/plain": [
       "<matplotlib.axes._subplots.AxesSubplot at 0x19df9614788>"
      ]
     },
     "execution_count": 34,
     "metadata": {},
     "output_type": "execute_result"
    },
    {
     "data": {
      "image/png": "[encoded data removed]",
      "text/plain": [
       "<Figure size 432x288 with 1 Axes>"
      ]
     },
     "metadata": {
      "needs_background": "light"
     },
     "output_type": "display_data"
    }
   ],
   "source": [
    "sns.lineplot(data=metrics)"
   ]
  },
  {
   "cell_type": "code",
   "execution_count": 35,
   "metadata": {},
   "outputs": [],
   "source": [
    "model.save('iris.h5')"
   ]
  },
  {
   "cell_type": "code",
   "execution_count": 36,
   "metadata": {},
   "outputs": [],
   "source": [
    "from keras.models import load_model"
   ]
  },
  {
   "cell_type": "code",
   "execution_count": 38,
   "metadata": {},
   "outputs": [],
   "source": [
    "loaded_model = load_model('iris.h5')"
   ]
  },
  {
   "cell_type": "code",
   "execution_count": 40,
   "metadata": {},
   "outputs": [
    {
     "name": "stdout",
     "output_type": "stream",
     "text": [
      "Model: \"sequential_1\"\n",
      "_________________________________________________________________\n",
      "Layer (type)                 Output Shape              Param #   \n",
      "=================================================================\n",
      "dense_1 (Dense)              (None, 4)                 20        \n",
      "_________________________________________________________________\n",
      "dense_2 (Dense)              (None, 128)               640       \n",
      "_________________________________________________________________\n",
      "dense_3 (Dense)              (None, 3)                 387       \n",
      "=================================================================\n",
      "Total params: 1,047\n",
      "Trainable params: 1,047\n",
      "Non-trainable params: 0\n",
      "_________________________________________________________________\n"
     ]
    }
   ],
   "source": [
    "loaded_model.summary()"
   ]
  },
  {
   "cell_type": "code",
   "execution_count": 41,
   "metadata": {},
   "outputs": [
    {
     "name": "stdout",
     "output_type": "stream",
     "text": [
      "\r",
      "15/15 [==============================] - 0s 1ms/step\n"
     ]
    }
   ],
   "source": [
    "score=loaded_model.evaluate(X_test,y_test)"
   ]
  },
  {
   "cell_type": "code",
   "execution_count": 42,
   "metadata": {},
   "outputs": [
    {
     "name": "stdout",
     "output_type": "stream",
     "text": [
      "Score [0.1841171234846115, 1.0]\n"
     ]
    }
   ],
   "source": [
    "print('Score',score)"
   ]
  }
 ],
 "metadata": {
  "kernelspec": {
   "display_name": "Python 3",
   "language": "python",
   "name": "python3"
  },
  "language_info": {
   "codemirror_mode": {
    "name": "ipython",
    "version": 3
   },
   "file_extension": ".py",
   "mimetype": "text/x-python",
   "name": "python",
   "nbconvert_exporter": "python",
   "pygments_lexer": "ipython3",
   "version": "3.7.4"
  }
 },
 "nbformat": 4,
 "nbformat_minor": 2
}
